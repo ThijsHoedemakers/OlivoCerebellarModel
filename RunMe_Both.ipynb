{
 "cells": [
  {
   "cell_type": "code",
   "execution_count": 1,
   "metadata": {},
   "outputs": [
    {
     "name": "stderr",
     "output_type": "stream",
     "text": [
      "INFO       Cache size for target \"cython\": 1011 MB.\n",
      "You can call \"clear_cache('cython')\" to delete all files from the cache or manually delete files in the \"C:\\Users\\thoed\\.cython\\brian_extensions\" directory. [brian2]\n"
     ]
    }
   ],
   "source": [
    "%reset -f\n",
    "from A_Functions import *"
   ]
  },
  {
   "cell_type": "code",
   "execution_count": 2,
   "metadata": {},
   "outputs": [
    {
     "name": "stdout",
     "output_type": "stream",
     "text": [
      "Noise input is of type double sine\n",
      "Data is saved\n"
     ]
    }
   ],
   "source": [
    "# Create Noise Type\n",
    "# Give a name for your noise - be precise to make it easy to detect what type it is\n",
    "# Example 'NoiseConst_2nA' or 'NoiseDS_2A10Hz_9A1Hz'\n",
    "namenoise = 'Input_2DS'\n",
    "\n",
    "# extra step to make a new file with the same name only with 'SimParams.mat' added\n",
    "#simparameter=list(namenoise)\n",
    "#simparameter.append('_SimParams.mat')\n",
    "#simparameter=\"\".join(simparameter)\n",
    "\n",
    "## input of NoiseGenerator for double sine is :\n",
    "# (amount of noise sources, 'DS', [offset sine1,offset sine2,amplitude sine1 (nA), frequency sine1(Hz),,\n",
    "#amplitude sine2, frequency sine2], duration in ms, name of the file)\n",
    "\n",
    "## input of NoiseGenerator for OU is :\n",
    "# (amount of noise sources, 'OU', [initial I, initial I0, sigma], duration in ms, name of the file)\n",
    "\n",
    "## input of NoiseGenerator Constant value :\n",
    "# (amount, 'const',[constant value in nA], duration in ms, name of the file)\n",
    "\n",
    "Noise_t,Noise_I,N_Noise=NoiseGenerator(2,'DS',[1 ,1     # offset in nA\n",
    "                                               , 0.2, 0.2 # amplitude in nA\n",
    "                                               ,2,20   # frequency in Hz\n",
    "                                              ],25000,namenoise)\n",
    "\n",
    "#Noise_t,Noise_I,N_Noise=NoiseGenerator(5,'DS',[1 ,0.5, 0, -0.5, -1,     #offsets in nA\n",
    "#                                              1, 0.5, 0, 0.5, 1, #amplitude in nA\n",
    "#                                              20, 2, 2, 20, 2]         # frequency in Hz\n",
    "#                                              ,2500,namenoise,simparameter)\n",
    "\n",
    "#Noise_const15 = NoiseGenerator(2,'const',[1.5],10,'Noise_const15')\n",
    "\n"
   ]
  },
  {
   "cell_type": "code",
   "execution_count": 3,
   "metadata": {},
   "outputs": [],
   "source": [
    "SimParams = {}\n",
    "######################## Save\n",
    "SimParams['saving'] = 'yes' #'yes','no'\n",
    "######################## plot\n",
    "SimParams['plotting'] = 'yes' #'yes','no'\n",
    "######################## Experiment length\n",
    "SimParams['dt'] = 0.025*ms\n",
    "SimParams['exp_runtime'] = asarray(size(Noise_t)*SimParams['dt'])\n",
    "#print(type(SimParams['exp_runtime']*second))\n",
    "######################## Neuronal responses to run. \n",
    "SimParams['IO_response']='both' #'oscillatory', 'non', 'spiking', 'both' \n",
    "SimParams['N_Cells_PC'] = 10\n",
    "SimParams['N_Cells_DCN'] = 20\n",
    "SimParams['N_Cells_IO'] = 20\n",
    "name = namenoise+'SimParam.pickle'\n",
    "######################## Saving SimParams\n",
    "with open(name, 'wb') as sims:\n",
    "    pickle.dump(SimParams,sims, pickle.HIGHEST_PROTOCOL)\n",
    "#sio.savemat('SimParams.mat', mdict={'SimParams': SimParams})"
   ]
  },
  {
   "cell_type": "code",
   "execution_count": 4,
   "metadata": {
    "scrolled": false
   },
   "outputs": [
    {
     "name": "stdout",
     "output_type": "stream",
     "text": [
      "loading went fine\n"
     ]
    },
    {
     "name": "stderr",
     "output_type": "stream",
     "text": [
      "WARNING    The expression \"(conn_target - noise_source) / N_Cells_PC\" divides two integer values. In previous versions of Brian, this would have used either an integer (\"flooring\") or a floating point division, depending on the Python version and the code generation target. In the current version, it always uses a floating point division. Explicitly ask for an  integer division (\"//\"), or turn one of the operands into a floating point value (e.g. replace \"1/2\" by \"1.0/2\") to no longer receive this warning. [brian2.parsing.bast.floating_point_division]\n"
     ]
    },
    {
     "name": "stdout",
     "output_type": "stream",
     "text": [
      "nr of noise is 2\n",
      "weights before <dummy_Coupled.weight: array([1. , 0.9, 0.8, 0.7, 0.6, 0.5, 0.4, 0.3, 0.2, 0.1, 0.9, 1. , 0.9,\n",
      "       0.8, 0.7, 0.6, 0.5, 0.4, 0.3, 0.2])>\n",
      "reshaped weigth [[1.  0.9 0.8 0.7 0.6 0.5 0.4 0.3 0.2 0.1]\n",
      " [0.9 1.  0.9 0.8 0.7 0.6 0.5 0.4 0.3 0.2]]\n",
      "column sum = [1.9 1.9 1.7 1.5 1.3 1.1 0.9 0.7 0.5 0.3]\n",
      "new weights <dummy_Coupled.weight: array([0.52631579, 0.47368421, 0.47058824, 0.46666667, 0.46153846,\n",
      "       0.45454545, 0.44444444, 0.42857143, 0.4       , 0.33333333,\n",
      "       0.47368421, 0.52631579, 0.52941176, 0.53333333, 0.53846154,\n",
      "       0.54545455, 0.55555556, 0.57142857, 0.6       , 0.66666667])>\n"
     ]
    }
   ],
   "source": [
    "#from E_Synapses_NoPlasticity import *\n",
    "from E_Synapses_Plasticity import *"
   ]
  },
  {
   "cell_type": "code",
   "execution_count": null,
   "metadata": {
    "scrolled": true
   },
   "outputs": [
    {
     "name": "stderr",
     "output_type": "stream",
     "text": [
      "WARNING    The expression \"N_Cells_DCN / 2\" divides two integer values. In previous versions of Brian, this would have used either an integer (\"flooring\") or a floating point division, depending on the Python version and the code generation target. In the current version, it always uses a floating point division. Explicitly ask for an  integer division (\"//\"), or turn one of the operands into a floating point value (e.g. replace \"1/2\" by \"1.0/2\") to no longer receive this warning. [brian2.parsing.bast.floating_point_division]\n"
     ]
    },
    {
     "name": "stdout",
     "output_type": "stream",
     "text": [
      "Starting simulation at t=0. s for a duration of 50. s\n",
      "0.3619 (0%) simulated in 10s, estimated 22m 52s remaining.\n",
      "0.76875 (1%) simulated in 20s, estimated 21m 21s remaining.\n",
      "1.193475 (2%) simulated in 30s, estimated 20m 27s remaining.\n",
      "1.615225 (3%) simulated in 40s, estimated 19m 58s remaining.\n",
      "2.004125 (4%) simulated in 50s, estimated 19m 58s remaining.\n",
      "2.357975 (4%) simulated in 1m 0s, estimated 20m 12s remaining.\n",
      "2.779675 (5%) simulated in 1m 10s, estimated 19m 49s remaining.\n",
      "3.2063 (6%) simulated in 1m 20s, estimated 19m 28s remaining.\n",
      "3.6089 (7%) simulated in 1m 30s, estimated 19m 17s remaining.\n",
      "4.04535 (8%) simulated in 1m 40s, estimated 18m 56s remaining.\n",
      "4.481675 (8%) simulated in 1m 50s, estimated 18m 37s remaining.\n",
      "4.9125250000000005 (9%) simulated in 2m 0s, estimated 18m 21s remaining.\n",
      "5.311275 (10%) simulated in 2m 10s, estimated 18m 14s remaining.\n",
      "5.74415 (11%) simulated in 2m 20s, estimated 17m 59s remaining.\n",
      "6.151675 (12%) simulated in 2m 30s, estimated 17m 49s remaining.\n"
     ]
    }
   ],
   "source": [
    "run(exp_runtime*2,report='text')"
   ]
  },
  {
   "cell_type": "code",
   "execution_count": null,
   "metadata": {
    "scrolled": true
   },
   "outputs": [],
   "source": [
    "#from G_Plot_NoPlasticity import *"
   ]
  },
  {
   "cell_type": "code",
   "execution_count": null,
   "metadata": {},
   "outputs": [],
   "source": [
    "#from F_save_data_NoPlasticity import *"
   ]
  },
  {
   "cell_type": "code",
   "execution_count": null,
   "metadata": {
    "scrolled": false
   },
   "outputs": [],
   "source": [
    "#run(exp_runtime,report='text')"
   ]
  },
  {
   "cell_type": "code",
   "execution_count": null,
   "metadata": {
    "scrolled": true
   },
   "outputs": [],
   "source": [
    "from G_Plot_Plasticity import *"
   ]
  },
  {
   "cell_type": "code",
   "execution_count": null,
   "metadata": {},
   "outputs": [],
   "source": [
    "from F_save_data_Plasticity import *"
   ]
  },
  {
   "cell_type": "code",
   "execution_count": null,
   "metadata": {},
   "outputs": [],
   "source": [
    "visualise(S_IO_N_Coupled)\n",
    "visualise(S_IO_N_Uncoupled)\n",
    "\n",
    "visualise(Synapse_IO_PC_Coupled_noSTDP)\n",
    "visualise(Synapse_IO_PC_Uncoupled_noSTDP)\n",
    "visualise(Synapse_IO_PC_Coupled_STDP)\n",
    "visualise(Synapse_IO_PC_Uncoupled_STDP)\n",
    "\n",
    "visualise(IO_DCN_Synapse_Coupled_noSTDP)\n",
    "visualise(IO_DCN_Synapse_Uncoupled_noSTDP)\n",
    "visualise(IO_DCN_Synapse_Coupled_STDP)\n",
    "visualise(IO_DCN_Synapse_Uncoupled_STDP)\n",
    "\n",
    "visualise(DCN_PC_Synapse_Coupled_noSTDP)\n",
    "visualise(DCN_PC_Synapse_Uncoupled_noSTDP)\n",
    "visualise(DCN_PC_Synapse_Coupled_STDP)\n",
    "visualise(DCN_PC_Synapse_Uncoupled_STDP)"
   ]
  },
  {
   "cell_type": "code",
   "execution_count": null,
   "metadata": {},
   "outputs": [],
   "source": []
  }
 ],
 "metadata": {
  "kernelspec": {
   "display_name": "Python 3",
   "language": "python",
   "name": "python3"
  },
  "language_info": {
   "codemirror_mode": {
    "name": "ipython",
    "version": 3
   },
   "file_extension": ".py",
   "mimetype": "text/x-python",
   "name": "python",
   "nbconvert_exporter": "python",
   "pygments_lexer": "ipython3",
   "version": "3.6.7"
  }
 },
 "nbformat": 4,
 "nbformat_minor": 2
}
