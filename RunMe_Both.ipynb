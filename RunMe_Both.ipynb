{
 "cells": [
  {
   "cell_type": "code",
   "execution_count": 1,
   "metadata": {},
   "outputs": [],
   "source": [
    "%reset -f\n",
    "from A_Functions import *"
   ]
  },
  {
   "cell_type": "code",
   "execution_count": 2,
   "metadata": {
    "scrolled": false
   },
   "outputs": [
    {
     "name": "stdout",
     "output_type": "stream",
     "text": [
      "Noise input is of type double sine\n",
      "Data is saved\n"
     ]
    }
   ],
   "source": [
    "# Create Noise Type\n",
    "# Give a name for your noise - be precise to make it easy to detect what type it is\n",
    "# Example 'NoiseConst_2nA' or 'NoiseDS_2A10Hz_9A1Hz'\n",
    "namenoise = 'Plasticity_Rule_test'\n",
    "\n",
    "# extra step to make a new file with the same name only with 'SimParams.mat' added\n",
    "#simparameter=list(namenoise)\n",
    "#simparameter.append('_SimParams.mat')\n",
    "#simparameter=\"\".join(simparameter)\n",
    "\n",
    "## input of NoiseGenerator for double sine is :\n",
    "# (amount of noise sources, 'DS', [offset sine1,offset sine2,amplitude sine1 (nA), frequency sine1(Hz),,\n",
    "#amplitude sine2, frequency sine2], duration in ms, name of the file)\n",
    "\n",
    "## input of NoiseGenerator for OU is :\n",
    "# (amount of noise sources, 'OU', [initial I, initial I0, sigma], duration in ms, name of the file)\n",
    "\n",
    "## input of NoiseGenerator Constant value :\n",
    "# (amount, 'const',[constant value in nA], duration in ms, name of the file)\n",
    "\n",
    "Noise_t,Noise_I,N_Noise=NoiseGenerator(2,'DS',[0.2,0.2    # offset in nA\n",
    "                                               ,0.2,0.2 # amplitude in nA\n",
    "                                               ,2,20   # frequency in Hz\n",
    "                                              ],5000,namenoise)\n",
    "\n",
    "#Noise_t,Noise_I,N_Noise=NoiseGenerator(5,'DS',[1 ,0.5, 0, -0.5, -1,     #offsets in nA\n",
    "#                                              1, 0.5, 0, 0.5, 1, #amplitude in nA\n",
    "#                                              20, 2, 2, 20, 2]         # frequency in Hz\n",
    "#                                              ,2500,namenoise,simparameter)\n",
    "\n",
    "#Noise_const15 = NoiseGenerator(2,'const',[1.5],10,'Noise_const15')\n"
   ]
  },
  {
   "cell_type": "code",
   "execution_count": 3,
   "metadata": {},
   "outputs": [
    {
     "name": "stdout",
     "output_type": "stream",
     "text": [
      "{'saving': 'yes', 'plotting': 'yes', 'dt': 25. * usecond, 'exp_runtime': array(5.), 'IO_response': 'both', 'N_Cells_PC': 10, 'N_Cells_DCN': 20, 'N_Cells_IO': 20}\n"
     ]
    }
   ],
   "source": [
    "SimParams = {}\n",
    "######################## Save\n",
    "SimParams['saving'] = 'yes' #'yes','no'\n",
    "######################## plot\n",
    "SimParams['plotting'] = 'yes' #'yes','no'\n",
    "######################## Experiment length\n",
    "SimParams['dt'] = 0.025*ms\n",
    "SimParams['exp_runtime'] = asarray(size(Noise_t)*SimParams['dt'])\n",
    "#print(type(SimParams['exp_runtime']*second))\n",
    "######################## Neuronal responses to run. \n",
    "SimParams['IO_response']='both' #'oscillatory', 'non', 'spiking', 'both' \n",
    "SimParams['N_Cells_PC'] = 10\n",
    "SimParams['N_Cells_DCN'] = 20\n",
    "SimParams['N_Cells_IO'] = 20\n",
    "name = namenoise+'SimParam.pickle'\n",
    "print(SimParams)\n",
    "######################## Saving SimParams\n",
    "with open(name, 'wb') as sims:\n",
    "    pickle.dump(SimParams,sims, pickle.HIGHEST_PROTOCOL)\n",
    "#sio.savemat('SimParams.mat', mdict={'SimParams': SimParams})\n"
   ]
  },
  {
   "cell_type": "code",
   "execution_count": null,
   "metadata": {
    "scrolled": false
   },
   "outputs": [
    {
     "name": "stdout",
     "output_type": "stream",
     "text": [
      "loading went fine\n",
      "intrinsic current coupled = <PC_Coupled_STDP.I_intrinsic: array([2.02, 1.94, 1.98, 2.08, 2.06, 1.96, 1.92, 1.9 , 2.04, 2.  ]) * namp>\n",
      "intrinsic current uncoupled = <PC_Uncoupled_STDP.I_intrinsic: array([2.02, 1.94, 1.98, 2.08, 2.06, 1.96, 1.92, 1.9 , 2.04, 2.  ]) * namp>\n"
     ]
    },
    {
     "name": "stderr",
     "output_type": "stream",
     "text": [
      "WARNING    The expression \"(conn_target - noise_source) / N_Cells_PC\" divides two integer values. In previous versions of Brian, this would have used either an integer (\"flooring\") or a floating point division, depending on the Python version and the code generation target. In the current version, it always uses a floating point division. Explicitly ask for an  integer division (\"//\"), or turn one of the operands into a floating point value (e.g. replace \"1/2\" by \"1.0/2\") to no longer receive this warning. [brian2.parsing.bast.floating_point_division]\n"
     ]
    },
    {
     "name": "stdout",
     "output_type": "stream",
     "text": [
      "number of IO 20\n",
      "nr of noise is 2\n",
      "offset [0.2 0.2 0.2 0.2 0.2 0.2 0.2 0.2 0.2 0.2 0.2 0.2 0.2 0.2 0.2 0.2 0.2 0.2\n",
      " 0.2 0.2] ampl [0.2 0.2 0.2 0.2 0.2 0.2 0.2 0.2 0.2 0.2 0.2 0.2 0.2 0.2 0.2 0.2 0.2 0.2\n",
      " 0.2 0.2] freq [ 2.  2.  2.  2.  2.  2.  2.  2.  2.  2. 20. 20. 20. 20. 20. 20. 20. 20.\n",
      " 20. 20.]\n",
      "new weights <dummy_Coupled.weight: array([0.52631579, 0.47368421, 0.47058824, 0.46666667, 0.46153846,\n",
      "       0.45454545, 0.44444444, 0.42857143, 0.4       , 0.33333333,\n",
      "       0.47368421, 0.52631579, 0.52941176, 0.53333333, 0.53846154,\n",
      "       0.54545455, 0.55555556, 0.57142857, 0.6       , 0.66666667])>\n",
      "offset [0.2 0.2 0.2 0.2 0.2 0.2 0.2 0.2 0.2 0.2 0.2 0.2 0.2 0.2 0.2 0.2 0.2 0.2\n",
      " 0.2 0.2] ampl [0.2 0.2 0.2 0.2 0.2 0.2 0.2 0.2 0.2 0.2 0.2 0.2 0.2 0.2 0.2 0.2 0.2 0.2\n",
      " 0.2 0.2] freq [ 2.  2.  2.  2.  2.  2.  2.  2.  2.  2. 20. 20. 20. 20. 20. 20. 20. 20.\n",
      " 20. 20.]\n"
     ]
    }
   ],
   "source": [
    "#from E_Synapses_NoPlasticity import *\n",
    "from E_New_Plasticity import *\n",
    "#visualise(S_Coupled_noSTDP)\n",
    "#visualise(DCN_PC_Synapse_Coupled_noSTDP)\n",
    "#visualise(DCN_PC_Synapse_Uncoupled_noSTD"
   ]
  },
  {
   "cell_type": "code",
   "execution_count": null,
   "metadata": {
    "scrolled": true
   },
   "outputs": [],
   "source": [
    "run(exp_runtime,report='text')"
   ]
  },
  {
   "cell_type": "code",
   "execution_count": null,
   "metadata": {},
   "outputs": [],
   "source": [
    "#run(exp_runtime,report='text')"
   ]
  },
  {
   "cell_type": "code",
   "execution_count": null,
   "metadata": {
    "scrolled": true
   },
   "outputs": [],
   "source": [
    "from G_Plot_Plasticity import *"
   ]
  },
  {
   "cell_type": "code",
   "execution_count": null,
   "metadata": {},
   "outputs": [],
   "source": [
    "from F_save_data_Plasticity import *"
   ]
  },
  {
   "cell_type": "code",
   "execution_count": null,
   "metadata": {
    "scrolled": false
   },
   "outputs": [],
   "source": [
    "from G_Plot_Plasticity import *"
   ]
  },
  {
   "cell_type": "code",
   "execution_count": null,
   "metadata": {
    "scrolled": true
   },
   "outputs": [],
   "source": [
    "#from G_Plot_Plasticity import *"
   ]
  },
  {
   "cell_type": "code",
   "execution_count": null,
   "metadata": {},
   "outputs": [],
   "source": [
    "#print(mon_N_PC_Coupled.max_LTD_IO_uncoupled[1])\n",
    "plt.figure()\n",
    "for k in range(0,20):\n",
    "    plt.plot(mon_N_PC_Coupled.freq_st_IO_coupled[k])\n",
    "plt.show()"
   ]
  },
  {
   "cell_type": "code",
   "execution_count": null,
   "metadata": {
    "scrolled": false
   },
   "outputs": [],
   "source": [
    "%matplotlib notebook\n",
    "\n",
    "plt.figure()\n",
    "#plt.title('distribution uncoupled')\n",
    "for k in range(0,10):\n",
    "    plt.plot(mon_N_PC_Uncoupled.freq_st_IO_uncoupled[k],color='red')\n",
    "    plt.plot(mon_N_PC_Coupled.f_lt_PC_uncoupled[k],color='black')\n",
    "plt.xlabel('time [ms]')\n",
    "plt.ylabel('frequency [Hz]')\n",
    "plt.show()\n",
    "plt.figure()\n",
    "#plt.title('distribution uncoupled')\n",
    "for k in range(0,10):\n",
    "    plt.plot(mon_N_PC_Uncoupled.f_lt_PC_uncoupled[k],color='red')\n",
    "    plt.plot(mon_N_PC_Coupled.f_lt_PC_coupled[k],color='black')\n",
    "plt.xlabel('time [ms]')\n",
    "plt.ylabel('frequency [Hz]')\n",
    "plt.show()\n",
    "plt.figure()\n",
    "#plt.title('distribution uncoupled')\n",
    "for k in range(0,10):\n",
    "    plt.plot(mon_N_PC_Uncoupled.mean_freq_IO_uncoupled[k],color='red')\n",
    "    plt.plot(mon_N_PC_Coupled.mean_freq_IO_coupled[k],color='black')\n",
    "plt.xlabel('time [ms]')\n",
    "plt.ylabel('frequency [Hz]')\n",
    "plt.show()\n",
    "plt.figure()\n",
    "#plt.title('distribution uncoupled')\n",
    "for k in range(0,10):\n",
    "    plt.plot(mon_N_PC_Uncoupled.max_LTD_IO_uncoupled[k],color='red')\n",
    "    plt.plot(mon_N_PC_Coupled.max_LTD_IO_coupled[k],color='black')\n",
    "plt.xlabel('time [ms]')\n",
    "plt.ylabel('frequency [Hz]')\n",
    "plt.show()\n"
   ]
  },
  {
   "cell_type": "code",
   "execution_count": null,
   "metadata": {},
   "outputs": [],
   "source": [
    "from F_save_data_Plasticity import *"
   ]
  },
  {
   "cell_type": "code",
   "execution_count": null,
   "metadata": {
    "scrolled": false
   },
   "outputs": [],
   "source": [
    "\n",
    "plt.figure()\n",
    "plt.title('PC moving average')\n",
    "for k in range(0,1):\n",
    "    plt.plot(mon_N_PC_Coupled.y[k],color='red')\n",
    "    #plt.plot(mon_N_PC_Coupled.f_st_PC[k],color='black')\n",
    "plt.xlabel('time [ms]')\n",
    "plt.ylabel('frequency [Hz]')\n",
    "plt.show()\n",
    "plt.figure()\n",
    "plt.title('IO moving average')\n",
    "for p in range(0,n_IO):\n",
    "    plt.plot(mon_N_PC_Coupled.f_lt_IO[p],color='red')\n",
    "    plt.plot(mon_N_PC_Coupled.f_st_IO[p], color='black')\n",
    "plt.legend(['long term','short term'])\n",
    "plt.xlabel('time [ms]')\n",
    "plt.ylabel('frequency [Hz]')\n",
    "\n",
    "plt.figure()\n",
    "plt.title('Difference in moving average IO (short term - long term)')\n",
    "#for p in range(0,n_IO):\n",
    "#    difio=mon_N_PC_Coupled.f_st_IO[p]-mon_N_PC_Coupled.f_lt_IO[p]\n",
    "#    idxio = (difio>0).astype(float)\n",
    "#    procentage_LTD = sum(idxio)/1000\n",
    "#    print('depression %',procentage_LTD)\n",
    "#    plt.plot(mon_N_PC_Coupled.f_st_IO[p]-mon_N_PC_Coupled.f_lt_IO[p])\n",
    "#plt.figure()\n",
    "for p in range(0,10):\n",
    "    difio=mon_N_PC_Coupled.f_st_IO[p]-mon_N_PC_Coupled.f_lt_IO[p]\n",
    "\n",
    "    dif=mon_N_PC_Coupled.f_st_PC[p]-mon_N_PC_Coupled.f_lt_PC[p]\n",
    "    idx = (dif>0).astype(float)\n",
    "    #plt.plot(idx)\n",
    "    #plt.ylim([0,1.1])\n",
    "    procentage_LTP = sum(idx)/1000\n",
    "    plt.plot(dif)\n",
    "    plt.plot(difio)\n",
    "    print('potentiated %',procentage_LTP)\n",
    "print(mon_N_PC_Coupled.f_lt_IO.shape)"
   ]
  },
  {
   "cell_type": "code",
   "execution_count": null,
   "metadata": {},
   "outputs": [],
   "source": [
    "plt.figure()\n",
    "plt.title('PC moving average')\n",
    "for k in range(0,1):\n",
    "    plt.plot(mon_N_PC_Coupled.y[k],color='red')\n",
    "    #plt.plot(mon_N_PC_Coupled.f_st_PC[k],color='black')\n",
    "plt.xlabel('time [ms]')\n",
    "plt.ylabel('frequency [Hz]')\n",
    "plt.show()"
   ]
  },
  {
   "cell_type": "code",
   "execution_count": null,
   "metadata": {},
   "outputs": [],
   "source": []
  },
  {
   "cell_type": "code",
   "execution_count": null,
   "metadata": {},
   "outputs": [],
   "source": []
  }
 ],
 "metadata": {
  "kernelspec": {
   "display_name": "Python 3",
   "language": "python",
   "name": "python3"
  },
  "language_info": {
   "codemirror_mode": {
    "name": "ipython",
    "version": 3
   },
   "file_extension": ".py",
   "mimetype": "text/x-python",
   "name": "python",
   "nbconvert_exporter": "python",
   "pygments_lexer": "ipython3",
   "version": "3.6.7"
  }
 },
 "nbformat": 4,
 "nbformat_minor": 2
}
