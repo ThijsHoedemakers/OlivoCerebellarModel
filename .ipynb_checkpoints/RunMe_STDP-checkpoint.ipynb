{
 "cells": [
  {
   "cell_type": "code",
   "execution_count": null,
   "metadata": {},
   "outputs": [],
   "source": [
    "%reset -f\n",
    "from A_Functions import *"
   ]
  },
  {
   "cell_type": "code",
   "execution_count": null,
   "metadata": {},
   "outputs": [],
   "source": [
    "# Create Noise Type\n",
    "# Give a name for your noise - be precise to make it easy to detect what type it is\n",
    "# Example 'NoiseConst_2nA' or 'NoiseDS_2A10Hz_9A1Hz'\n",
    "namenoise = 'NoiseDS_07A20Hz_17A42Hz'\n",
    "\n",
    "# extra step to make a new file with the same name only with 'SimParams.mat' added\n",
    "simparameter=list(namenoise)\n",
    "simparameter.append('_SimParams.mat')\n",
    "simparameter=\"\".join(simparameter)\n",
    "\n",
    "## input of NoiseGenerator for double sine is :\n",
    "# (amount of noise sources, 'DS', [amplitude sine1 (nA), frequency sine1(Hz), amplitude sine2, frequency sine2],\n",
    "#  duration in ms, name of the file)\n",
    "\n",
    "## input of NoiseGenerator for OU is :\n",
    "# (amount of noise sources, 'OU', [initial I, initial I0, sigma], duration in ms, name of the file)\n",
    "\n",
    "## input of NoiseGenerator Constant value :\n",
    "# (amount, 'const',[constant value in nA], duration in ms, name of the file)\n",
    "\n",
    "Noise_t,Noise_I,N_Noise=NoiseGenerator(5,'DS',[0.7,20,1.7,42],1000,namenoise,simparameter)\n",
    "\n",
    "#Noise_const15 = NoiseGenerator(2,'const',[1.5],10,'Noise_const15')\n",
    "\n"
   ]
  },
  {
   "cell_type": "code",
   "execution_count": null,
   "metadata": {
    "scrolled": false
   },
   "outputs": [],
   "source": [
    "SimParams = Struct()\n",
    "######################## Save\n",
    "SimParams.saving = 'yes' #'yes','no'\n",
    "######################## plot\n",
    "SimParams.plotting = 'yes' #'yes','no'\n",
    "######################## Experiment length\n",
    "SimParams.dt = 0.025*ms\n",
    "SimParams.exp_runtime = size(Noise_t)*SimParams.dt\n",
    "######################## Neuronal responses to run. \n",
    "SimParams.IO_response='both' #'oscillatory', 'non', 'spiking', 'both' \n",
    "SimParams.N_Cells_PC = 10\n",
    "SimParams.N_Cells_DCN = 20\n",
    "SimParams.N_Cells_IO = 20\n",
    "######################## Saving SimParams\n",
    "\n",
    "sio.savemat(simparameter, mdict={'SimParams': SimParams})"
   ]
  },
  {
   "cell_type": "code",
   "execution_count": null,
   "metadata": {},
   "outputs": [],
   "source": [
    "from E_Synapses_Plasticity import *"
   ]
  },
  {
   "cell_type": "code",
   "execution_count": null,
   "metadata": {
    "scrolled": true
   },
   "outputs": [],
   "source": [
    "run(exp_runtime*2,report='text')"
   ]
  },
  {
   "cell_type": "code",
   "execution_count": null,
   "metadata": {},
   "outputs": [],
   "source": [
    "from F_save_data_Plasticity import *"
   ]
  },
  {
   "cell_type": "code",
   "execution_count": null,
   "metadata": {
    "scrolled": true
   },
   "outputs": [],
   "source": [
    "from G_Plot_Plasticity import *"
   ]
  },
  {
   "cell_type": "code",
   "execution_count": null,
   "metadata": {
    "scrolled": false
   },
   "outputs": [],
   "source": [
    "figure(figsize=(15, 4), dpi= 80, facecolor='w', edgecolor='k')\n",
    "title('I_Noise_PC', fontsize=16)\n",
    "for pp in range(0,N_Cells_PC):\n",
    "    plot(PC_Statemon_Coupled_STDP.t/ms,PC_Statemon_Coupled_STDP.I_Noise[pp]/nA, ('C'+str(pp)), label=('I_Noise_PC'+str(1+pp)))\n",
    "legend(loc='best')\n",
    "xlabel('t (ms)')\n",
    "ylabel('I (nA)')\n",
    "legend();\n",
    "show() \n",
    "\n",
    "figure(figsize=(15, 4), dpi= 80, facecolor='w', edgecolor='k')\n",
    "title('I_Noise_PC', fontsize=16)\n",
    "for pp in range(0,N_Cells_PC):\n",
    "    plot(PC_Statemon_Uncoupled_STDP.t/ms,PC_Statemon_Uncoupled_STDP.I_Noise[pp]/nA, ('C'+str(pp)), label=('I_Noise_PC'+str(1+pp)))\n",
    "legend(loc='best')\n",
    "xlabel('t (ms)')\n",
    "ylabel('I (nA)')\n",
    "legend();\n",
    "show() "
   ]
  },
  {
   "cell_type": "code",
   "execution_count": null,
   "metadata": {
    "scrolled": false
   },
   "outputs": [],
   "source": [
    "    for pp in range(0,N_Cells_PC,1):    \n",
    "        DCN_spikes_Uncoupled_STDP = DCN_Statemon_Uncoupled_STDP.v[:]\n",
    "        Times_DCN_Uncoupled_STDP = DCN_Spikemon_Uncoupled_STDP.values('t')[pp]/(0.025*ms)\n",
    "        print(\"Number of spikes DCN: %s\"% np.size(Times_DCN_Uncoupled_STDP))\n",
    "        for t in range(0,np.size(Times_DCN_Uncoupled_STDP),1):\n",
    "            i = int(Times_DCN_Uncoupled_STDP[t])\n",
    "            DCN_spikes_Uncoupled_STDP[pp][i] = 60*mV\n",
    "        PC_spikes_Uncoupled_STDP = PC_Statemon_Uncoupled_STDP.v[:]\n",
    "        Times_PC_Uncoupled_STDP = PC_Spikemon_Uncoupled_STDP.values('t')[pp]/(0.025*ms)\n",
    "        print(\"Number of spikes PC: %s\"% np.size(Times_PC_Uncoupled_STDP))\n",
    "        for t in range(0,np.size(Times_PC_Uncoupled_STDP),1):\n",
    "            i = int(Times_PC_Uncoupled_STDP[t])\n",
    "            PC_spikes_Uncoupled_STDP[pp][i] = 50*mV\n",
    "        figure(figsize=(15, 4), dpi= 80, facecolor='w', edgecolor='k')\n",
    "        title('Voltage Cells '+str(pp+1) + ' Uncoupled', fontsize=16)\n",
    "        plot(PC_Statemon_Uncoupled_STDP.t/ms, PC_spikes_Uncoupled_STDP[pp]/mV, ('C'+str(2)), label=('PC'+' '+str(pp+1)))\n",
    "        plot(IO_Statemon_Uncoupled_STDP.t/msecond, IO_Statemon_Uncoupled_STDP.Vs[pp]/mvolt, ('C'+str(3)), lw='4', label=('Vs'+' '+str(pp+1)))\n",
    "        plot(DCN_Statemon_Uncoupled_STDP.t/ms, DCN_spikes_Uncoupled_STDP[pp]/mV, ('C'+str(4)), lw='1',label=('DCN'+' '+str(pp+1)))\n",
    "        legend(loc='best')\n",
    "        xlabel('Time (ms)')\n",
    "        ylabel('V (mV)')\n",
    "        legend();\n",
    "        show()"
   ]
  },
  {
   "cell_type": "code",
   "execution_count": null,
   "metadata": {},
   "outputs": [],
   "source": [
    "figure(figsize=(15, 4), dpi= 80, facecolor='w', edgecolor='k')\n",
    "title('a_IO', fontsize=16)\n",
    "for pp in range(0,n_Noise*n_PC,1):\n",
    "    plot(mon_N_PC_Coupled.t/msecond, mon_N_PC_Coupled.a_IO[pp], ('C'+str(pp)), lw='2')\n",
    "xlabel('Time (ms)')\n",
    "ylabel('V (mV)')\n",
    "show()"
   ]
  },
  {
   "cell_type": "code",
   "execution_count": null,
   "metadata": {},
   "outputs": [],
   "source": []
  },
  {
   "cell_type": "code",
   "execution_count": null,
   "metadata": {},
   "outputs": [],
   "source": []
  }
 ],
 "metadata": {
  "kernelspec": {
   "display_name": "Python 3",
   "language": "python",
   "name": "python3"
  },
  "language_info": {
   "codemirror_mode": {
    "name": "ipython",
    "version": 3
   },
   "file_extension": ".py",
   "mimetype": "text/x-python",
   "name": "python",
   "nbconvert_exporter": "python",
   "pygments_lexer": "ipython3",
   "version": "3.6.7"
  }
 },
 "nbformat": 4,
 "nbformat_minor": 2
}
