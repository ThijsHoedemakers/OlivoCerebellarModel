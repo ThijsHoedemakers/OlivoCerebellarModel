{
 "cells": [
  {
   "cell_type": "code",
   "execution_count": 1,
   "metadata": {},
   "outputs": [],
   "source": [
    "%reset -f\n",
    "from A_Functions import *"
   ]
  },
  {
   "cell_type": "code",
   "execution_count": 2,
   "metadata": {
    "scrolled": true
   },
   "outputs": [
    {
     "name": "stdout",
     "output_type": "stream",
     "text": [
      "Noise input is of type double sine\n",
      "Data is saved\n"
     ]
    }
   ],
   "source": [
    "# Create Noise Type\n",
    "# Give a name for your noise - be precise to make it easy to detect what type it is\n",
    "# Example 'NoiseConst_2nA' or 'NoiseDS_2A10Hz_9A1Hz'\n",
    "namenoise = 'Plasticity_Rule_test'\n",
    "\n",
    "# extra step to make a new file with the same name only with 'SimParams.mat' added\n",
    "#simparameter=list(namenoise)\n",
    "#simparameter.append('_SimParams.mat')\n",
    "#simparameter=\"\".join(simparameter)\n",
    "\n",
    "## input of NoiseGenerator for double sine is :\n",
    "# (amount of noise sources, 'DS', [offset sine1,offset sine2,amplitude sine1 (nA), frequency sine1(Hz),,\n",
    "#amplitude sine2, frequency sine2], duration in ms, name of the file)\n",
    "\n",
    "## input of NoiseGenerator for OU is :\n",
    "# (amount of noise sources, 'OU', [initial I, initial I0, sigma], duration in ms, name of the file)\n",
    "\n",
    "## input of NoiseGenerator Constant value :\n",
    "# (amount, 'const',[constant value in nA], duration in ms, name of the file)\n",
    "\n",
    "Noise_t,Noise_I,N_Noise=NoiseGenerator(2,'DS',[0.2,0.2     # offset in nA\n",
    "                                               ,0.0,0.0 # amplitude in nA\n",
    "                                               ,2,20   # frequency in Hz\n",
    "                                              ],2000,namenoise)\n",
    "\n",
    "#Noise_t,Noise_I,N_Noise=NoiseGenerator(5,'DS',[1 ,0.5, 0, -0.5, -1,     #offsets in nA\n",
    "#                                              1, 0.5, 0, 0.5, 1, #amplitude in nA\n",
    "#                                              20, 2, 2, 20, 2]         # frequency in Hz\n",
    "#                                              ,2500,namenoise,simparameter)\n",
    "\n",
    "#Noise_const15 = NoiseGenerator(2,'const',[1.5],10,'Noise_const15')\n"
   ]
  },
  {
   "cell_type": "code",
   "execution_count": 3,
   "metadata": {},
   "outputs": [
    {
     "name": "stdout",
     "output_type": "stream",
     "text": [
      "{'saving': 'yes', 'plotting': 'yes', 'dt': 25. * usecond, 'exp_runtime': array(2.), 'IO_response': 'both', 'N_Cells_PC': 10, 'N_Cells_DCN': 20, 'N_Cells_IO': 20}\n"
     ]
    }
   ],
   "source": [
    "SimParams = {}\n",
    "######################## Save\n",
    "SimParams['saving'] = 'yes' #'yes','no'\n",
    "######################## plot\n",
    "SimParams['plotting'] = 'yes' #'yes','no'\n",
    "######################## Experiment length\n",
    "SimParams['dt'] = 0.025*ms\n",
    "SimParams['exp_runtime'] = asarray(size(Noise_t)*SimParams['dt'])\n",
    "#print(type(SimParams['exp_runtime']*second))\n",
    "######################## Neuronal responses to run. \n",
    "SimParams['IO_response']='both' #'oscillatory', 'non', 'spiking', 'both' \n",
    "SimParams['N_Cells_PC'] = 10\n",
    "SimParams['N_Cells_DCN'] = 20\n",
    "SimParams['N_Cells_IO'] = 20\n",
    "name = namenoise+'SimParam.pickle'\n",
    "print(SimParams)\n",
    "######################## Saving SimParams\n",
    "with open(name, 'wb') as sims:\n",
    "    pickle.dump(SimParams,sims, pickle.HIGHEST_PROTOCOL)\n",
    "#sio.savemat('SimParams.mat', mdict={'SimParams': SimParams})\n"
   ]
  },
  {
   "cell_type": "code",
   "execution_count": 6,
   "metadata": {
    "scrolled": false
   },
   "outputs": [
    {
     "ename": "SyntaxError",
     "evalue": "invalid syntax (E_New_Plasticity.py, line 20)",
     "output_type": "error",
     "traceback": [
      "Traceback \u001b[1;36m(most recent call last)\u001b[0m:\n",
      "  File \u001b[0;32m\"C:\\Users\\thoed\\Anaconda3\\envs\\brian\\lib\\site-packages\\IPython\\core\\interactiveshell.py\"\u001b[0m, line \u001b[0;32m3331\u001b[0m, in \u001b[0;35mrun_code\u001b[0m\n    exec(code_obj, self.user_global_ns, self.user_ns)\n",
      "\u001b[1;36m  File \u001b[1;32m\"<ipython-input-6-ccc78b3dc267>\"\u001b[1;36m, line \u001b[1;32m2\u001b[1;36m, in \u001b[1;35m<module>\u001b[1;36m\u001b[0m\n\u001b[1;33m    from E_New_Plasticity import *\u001b[0m\n",
      "\u001b[1;36m  File \u001b[1;32m\"C:\\Users\\thoed\\OneDrive\\Documenten\\Universiteit_Delft\\master\\TheModelPlasticity\\ModelPlasticity\\E_New_Plasticity.py\"\u001b[1;36m, line \u001b[1;32m20\u001b[0m\n\u001b[1;33m    for k in range(0,n_IO):\u001b[0m\n\u001b[1;37m                          ^\u001b[0m\n\u001b[1;31mSyntaxError\u001b[0m\u001b[1;31m:\u001b[0m invalid syntax\n"
     ]
    }
   ],
   "source": [
    "#from E_Synapses_NoPlasticity import *\n",
    "from E_New_Plasticity import *\n",
    "#visualise(S_Coupled_noSTDP)\n",
    "#visualise(DCN_PC_Synapse_Coupled_noSTDP)\n",
    "#visualise(DCN_PC_Synapse_Uncoupled_noSTD"
   ]
  },
  {
   "cell_type": "code",
   "execution_count": null,
   "metadata": {
    "scrolled": false
   },
   "outputs": [],
   "source": [
    "run(exp_runtime,report='text')"
   ]
  },
  {
   "cell_type": "code",
   "execution_count": null,
   "metadata": {},
   "outputs": [],
   "source": [
    "#run(exp_runtime,report='text')"
   ]
  },
  {
   "cell_type": "code",
   "execution_count": null,
   "metadata": {
    "scrolled": false
   },
   "outputs": [],
   "source": [
    "from G_Plot_Plasticity import *"
   ]
  },
  {
   "cell_type": "code",
   "execution_count": null,
   "metadata": {},
   "outputs": [],
   "source": [
    "from F_save_data_Plasticity import *"
   ]
  },
  {
   "cell_type": "code",
   "execution_count": null,
   "metadata": {
    "scrolled": false
   },
   "outputs": [],
   "source": [
    "x = np.empty((2,4))\n",
    "print(x)"
   ]
  },
  {
   "cell_type": "code",
   "execution_count": null,
   "metadata": {
    "scrolled": true
   },
   "outputs": [],
   "source": [
    "#from G_Plot_Plasticity import *"
   ]
  },
  {
   "cell_type": "code",
   "execution_count": null,
   "metadata": {},
   "outputs": [],
   "source": []
  },
  {
   "cell_type": "code",
   "execution_count": null,
   "metadata": {
    "scrolled": true
   },
   "outputs": [],
   "source": [
    "visualise(S_IO_N_Coupled)\n",
    "visualise(S_IO_N_Uncoupled)\n",
    "\n",
    "#visualise(Synapse_IO_PC_Coupled_noSTDP)\n",
    "#visualise(Synapse_IO_PC_Uncoupled_noSTDP)\n",
    "visualise(Synapse_IO_PC_Coupled_STDP)\n",
    "visualise(Synapse_IO_PC_Uncoupled_STDP)\n",
    "\n",
    "#visualise(IO_DCN_Synapse_Coupled_noSTDP)\n",
    "#visualise(IO_DCN_Synapse_Uncoupled_noSTDP)\n",
    "visualise(IO_DCN_Synapse_Coupled_STDP)\n",
    "visualise(IO_DCN_Synapse_Uncoupled_STDP)\n",
    "\n",
    "#visualise(DCN_PC_Synapse_Coupled_noSTDP)\n",
    "#visualise(DCN_PC_Synapse_Uncoupled_noSTDP)\n",
    "visualise(DCN_PC_Synapse_Coupled_STDP)\n",
    "visualise(DCN_PC_Synapse_Uncoupled_STDP)"
   ]
  },
  {
   "cell_type": "code",
   "execution_count": null,
   "metadata": {},
   "outputs": [],
   "source": [
    "from F_save_data_Plasticity import *"
   ]
  },
  {
   "cell_type": "code",
   "execution_count": null,
   "metadata": {},
   "outputs": [],
   "source": [
    "%matplotlib notebook\n",
    "\n",
    "plt.figure()\n",
    "for k in range(0,10):\n",
    "    plt.plot(mon_N_PC_Coupled.f_st[k])\n",
    "    plt.plot(mon_N_PC_Coupled.f_lt[k])\n",
    "\n",
    "plt.show()\n",
    "\n",
    "print(mon_N_PC_Coupled.f_lt.shape)"
   ]
  },
  {
   "cell_type": "code",
   "execution_count": null,
   "metadata": {},
   "outputs": [],
   "source": []
  }
 ],
 "metadata": {
  "kernelspec": {
   "display_name": "Python 3",
   "language": "python",
   "name": "python3"
  },
  "language_info": {
   "codemirror_mode": {
    "name": "ipython",
    "version": 3
   },
   "file_extension": ".py",
   "mimetype": "text/x-python",
   "name": "python",
   "nbconvert_exporter": "python",
   "pygments_lexer": "ipython3",
   "version": "3.6.7"
  }
 },
 "nbformat": 4,
 "nbformat_minor": 2
}
