{
 "cells": [
  {
   "cell_type": "code",
   "execution_count": 1,
   "metadata": {},
   "outputs": [],
   "source": [
    "%reset -f\n",
    "from A_Functions import *"
   ]
  },
  {
   "cell_type": "code",
   "execution_count": 2,
   "metadata": {
    "scrolled": true
   },
   "outputs": [
    {
     "name": "stdout",
     "output_type": "stream",
     "text": [
      "Noise input is of type double sine\n",
      "Data is saved\n"
     ]
    }
   ],
   "source": [
    "# Create Noise Type\n",
    "# Give a name for your noise - be precise to make it easy to detect what type it is\n",
    "# Example 'NoiseConst_2nA' or 'NoiseDS_2A10Hz_9A1Hz'\n",
    "namenoise = 'DCN_IO_plast_test'\n",
    "\n",
    "# extra step to make a new file with the same name only with 'SimParams.mat' added\n",
    "#simparameter=list(namenoise)\n",
    "#simparameter.append('_SimParams.mat')\n",
    "#simparameter=\"\".join(simparameter)\n",
    "\n",
    "## input of NoiseGenerator for double sine is :\n",
    "# (amount of noise sources, 'DS', [offset sine1,offset sine2,amplitude sine1 (nA), frequency sine1(Hz),,\n",
    "#amplitude sine2, frequency sine2], duration in ms, name of the file)\n",
    "\n",
    "## input of NoiseGenerator for OU is :\n",
    "# (amount of noise sources, 'OU', [initial I, initial I0, sigma], duration in ms, name of the file)\n",
    "\n",
    "## input of NoiseGenerator Constant value :\n",
    "# (amount, 'const',[constant value in nA], duration in ms, name of the file)\n",
    "\n",
    "Noise_t,Noise_I,N_Noise=NoiseGenerator(2,'DS',[0.2,0.2     # offset in nA\n",
    "                                               ,0.2,0.2 # amplitude in nA\n",
    "                                               ,2,20   # frequency in Hz\n",
    "                                              ],500,namenoise)\n",
    "\n",
    "#Noise_t,Noise_I,N_Noise=NoiseGenerator(5,'DS',[1 ,0.5, 0, -0.5, -1,     #offsets in nA\n",
    "#                                              1, 0.5, 0, 0.5, 1, #amplitude in nA\n",
    "#                                              20, 2, 2, 20, 2]         # frequency in Hz\n",
    "#                                              ,2500,namenoise,simparameter)\n",
    "\n",
    "#Noise_const15 = NoiseGenerator(2,'const',[1.5],10,'Noise_const15')\n"
   ]
  },
  {
   "cell_type": "code",
   "execution_count": 3,
   "metadata": {},
   "outputs": [
    {
     "name": "stdout",
     "output_type": "stream",
     "text": [
      "{'saving': 'yes', 'plotting': 'yes', 'dt': 25. * usecond, 'exp_runtime': array(0.5), 'IO_response': 'both', 'N_Cells_PC': 10, 'N_Cells_DCN': 20, 'N_Cells_IO': 20}\n"
     ]
    }
   ],
   "source": [
    "SimParams = {}\n",
    "######################## Save\n",
    "SimParams['saving'] = 'yes' #'yes','no'\n",
    "######################## plot\n",
    "SimParams['plotting'] = 'yes' #'yes','no'\n",
    "######################## Experiment length\n",
    "SimParams['dt'] = 0.025*ms\n",
    "SimParams['exp_runtime'] = asarray(size(Noise_t)*SimParams['dt'])\n",
    "#print(type(SimParams['exp_runtime']*second))\n",
    "######################## Neuronal responses to run. \n",
    "SimParams['IO_response']='both' #'oscillatory', 'non', 'spiking', 'both' \n",
    "SimParams['N_Cells_PC'] = 10\n",
    "SimParams['N_Cells_DCN'] = 20\n",
    "SimParams['N_Cells_IO'] = 20\n",
    "name = namenoise+'SimParam.pickle'\n",
    "print(SimParams)\n",
    "######################## Saving SimParams\n",
    "with open(name, 'wb') as sims:\n",
    "    pickle.dump(SimParams,sims, pickle.HIGHEST_PROTOCOL)\n",
    "#sio.savemat('SimParams.mat', mdict={'SimParams': SimParams})\n"
   ]
  },
  {
   "cell_type": "code",
   "execution_count": 4,
   "metadata": {
    "scrolled": false
   },
   "outputs": [
    {
     "name": "stdout",
     "output_type": "stream",
     "text": [
      "loading went fine\n",
      "intrinsic currents PC [2.06 2.02 1.94 1.9  2.04 2.08 1.96 2.   1.92 1.98] nA\n",
      "nr of noise is 2\n",
      "offset [0.2 0.2 0.2 0.2 0.2 0.2 0.2 0.2 0.2 0.2 0.2 0.2 0.2 0.2 0.2 0.2 0.2 0.2\n",
      " 0.2 0.2] ampl [0.2 0.2 0.2 0.2 0.2 0.2 0.2 0.2 0.2 0.2 0.2 0.2 0.2 0.2 0.2 0.2 0.2 0.2\n",
      " 0.2 0.2] freq [ 2.  2.  2.  2.  2.  2.  2.  2.  2.  2. 20. 20. 20. 20. 20. 20. 20. 20.\n",
      " 20. 20.]\n"
     ]
    },
    {
     "name": "stderr",
     "output_type": "stream",
     "text": [
      "WARNING    The expression \"(conn_target - noise_source) / N_Cells_PC\" divides two integer values. In previous versions of Brian, this would have used either an integer (\"flooring\") or a floating point division, depending on the Python version and the code generation target. In the current version, it always uses a floating point division. Explicitly ask for an  integer division (\"//\"), or turn one of the operands into a floating point value (e.g. replace \"1/2\" by \"1.0/2\") to no longer receive this warning. [brian2.parsing.bast.floating_point_division]\n"
     ]
    },
    {
     "name": "stdout",
     "output_type": "stream",
     "text": [
      "final static weights STDP [0.52631579 0.47368421 0.47058824 0.46666667 0.46153846 0.45454545\n",
      " 0.44444444 0.42857143 0.4        0.33333333 0.47368421 0.52631579\n",
      " 0.52941176 0.53333333 0.53846154 0.54545455 0.55555556 0.57142857\n",
      " 0.6        0.66666667]\n",
      "new weights <dummy_Coupled.weight: array([0.52631579, 0.47368421, 0.47058824, 0.46666667, 0.46153846,\n",
      "       0.45454545, 0.44444444, 0.42857143, 0.4       , 0.33333333,\n",
      "       0.47368421, 0.52631579, 0.52941176, 0.53333333, 0.53846154,\n",
      "       0.54545455, 0.55555556, 0.57142857, 0.6       , 0.66666667])>\n",
      "offset [0.2 0.2 0.2 0.2 0.2 0.2 0.2 0.2 0.2 0.2 0.2 0.2 0.2 0.2 0.2 0.2 0.2 0.2\n",
      " 0.2 0.2] ampl [0.2 0.2 0.2 0.2 0.2 0.2 0.2 0.2 0.2 0.2 0.2 0.2 0.2 0.2 0.2 0.2 0.2 0.2\n",
      " 0.2 0.2] freq [ 2.  2.  2.  2.  2.  2.  2.  2.  2.  2. 20. 20. 20. 20. 20. 20. 20. 20.\n",
      " 20. 20.]\n",
      "final static weights uncoupled STDP [0.52631579 0.47368421 0.47058824 0.46666667 0.46153846 0.45454545\n",
      " 0.44444444 0.42857143 0.4        0.33333333 0.47368421 0.52631579\n",
      " 0.52941176 0.53333333 0.53846154 0.54545455 0.55555556 0.57142857\n",
      " 0.6        0.66666667]\n",
      "Synapses(clock=Clock(dt=25. * usecond, name='dummy_PC_Uncoupled_clock'), when=start, order=0, name='dummy_PC_Uncoupled')\n"
     ]
    }
   ],
   "source": [
    "#from E_Synapses_NoPlasticity import *\n",
    "from E_Synapses_Plasticity import *\n",
    "#visualise(S_Coupled_noSTDP)\n",
    "#visualise(DCN_PC_Synapse_Coupled_noSTDP)\n",
    "#visualise(DCN_PC_Synapse_Uncoupled_noSTD"
   ]
  },
  {
   "cell_type": "code",
   "execution_count": 5,
   "metadata": {
    "scrolled": false
   },
   "outputs": [
    {
     "ename": "BrianObjectException",
     "evalue": "Original error and traceback:\nTraceback (most recent call last):\n  File \"C:\\Users\\thoed\\Anaconda3\\envs\\brian\\lib\\site-packages\\brian2\\core\\network.py\", line 901, in before_run\n    obj.before_run(run_namespace)\n  File \"C:\\Users\\thoed\\Anaconda3\\envs\\brian\\lib\\site-packages\\brian2\\groups\\neurongroup.py\", line 888, in before_run\n    self.equations.check_units(self, run_namespace=run_namespace)\n  File \"C:\\Users\\thoed\\Anaconda3\\envs\\brian\\lib\\site-packages\\brian2\\equations\\equations.py\", line 950, in check_units\n    user_identifiers=external)  # all variables are user defined\n  File \"C:\\Users\\thoed\\Anaconda3\\envs\\brian\\lib\\site-packages\\brian2\\groups\\group.py\", line 744, in resolve_all\n    run_namespace=run_namespace)\n  File \"C:\\Users\\thoed\\Anaconda3\\envs\\brian\\lib\\site-packages\\brian2\\groups\\group.py\", line 701, in _resolve\n    return self._resolve_external(identifier, run_namespace=run_namespace)\n  File \"C:\\Users\\thoed\\Anaconda3\\envs\\brian\\lib\\site-packages\\brian2\\groups\\group.py\", line 825, in _resolve_external\n    raise KeyError(error_msg)\nKeyError: 'The identifier \"max\" could not be resolved.'\n\nError encountered with object named \"dummy_Coupled\".\nObject was created here (most recent call only, full details in debug log):\n  File \"C:\\Users\\thoed\\OneDrive\\Documenten\\Universiteit_Delft\\master\\TheModelPlasticity\\ModelPlasticity\\E_Synapses_Plasticity.py\", line 98, in <module>\n    conn_N_PC_Coupled = NeuronGroup(n_Noise*n_PC, eqs_syn_Noise_PC_STDP, method='euler',name = 'dummy_Coupled',dt=t_Neuron)\n\nAn error occurred when preparing an object. KeyError: 'The identifier \"max\" could not be resolved.'\n(See above for original error message and traceback.)",
     "output_type": "error",
     "traceback": [
      "\u001b[1;31m---------------------------------------------------------------------------\u001b[0m",
      "\u001b[1;31mKeyError\u001b[0m                                  Traceback (most recent call last)",
      "\u001b[1;32m~\\Anaconda3\\envs\\brian\\lib\\site-packages\\brian2\\core\\network.py\u001b[0m in \u001b[0;36mbefore_run\u001b[1;34m(self, run_namespace)\u001b[0m\n\u001b[0;32m    900\u001b[0m                 \u001b[1;32mtry\u001b[0m\u001b[1;33m:\u001b[0m\u001b[1;33m\u001b[0m\u001b[1;33m\u001b[0m\u001b[0m\n\u001b[1;32m--> 901\u001b[1;33m                     \u001b[0mobj\u001b[0m\u001b[1;33m.\u001b[0m\u001b[0mbefore_run\u001b[0m\u001b[1;33m(\u001b[0m\u001b[0mrun_namespace\u001b[0m\u001b[1;33m)\u001b[0m\u001b[1;33m\u001b[0m\u001b[1;33m\u001b[0m\u001b[0m\n\u001b[0m\u001b[0;32m    902\u001b[0m                 \u001b[1;32mexcept\u001b[0m \u001b[0mException\u001b[0m \u001b[1;32mas\u001b[0m \u001b[0mex\u001b[0m\u001b[1;33m:\u001b[0m\u001b[1;33m\u001b[0m\u001b[1;33m\u001b[0m\u001b[0m\n",
      "\u001b[1;32m~\\Anaconda3\\envs\\brian\\lib\\site-packages\\brian2\\groups\\neurongroup.py\u001b[0m in \u001b[0;36mbefore_run\u001b[1;34m(self, run_namespace)\u001b[0m\n\u001b[0;32m    887\u001b[0m         \u001b[1;31m# Check units\u001b[0m\u001b[1;33m\u001b[0m\u001b[1;33m\u001b[0m\u001b[1;33m\u001b[0m\u001b[0m\n\u001b[1;32m--> 888\u001b[1;33m         \u001b[0mself\u001b[0m\u001b[1;33m.\u001b[0m\u001b[0mequations\u001b[0m\u001b[1;33m.\u001b[0m\u001b[0mcheck_units\u001b[0m\u001b[1;33m(\u001b[0m\u001b[0mself\u001b[0m\u001b[1;33m,\u001b[0m \u001b[0mrun_namespace\u001b[0m\u001b[1;33m=\u001b[0m\u001b[0mrun_namespace\u001b[0m\u001b[1;33m)\u001b[0m\u001b[1;33m\u001b[0m\u001b[1;33m\u001b[0m\u001b[0m\n\u001b[0m\u001b[0;32m    889\u001b[0m         \u001b[1;31m# Check that subexpressions that refer to stateful functions are labeled\u001b[0m\u001b[1;33m\u001b[0m\u001b[1;33m\u001b[0m\u001b[1;33m\u001b[0m\u001b[0m\n",
      "\u001b[1;32m~\\Anaconda3\\envs\\brian\\lib\\site-packages\\brian2\\equations\\equations.py\u001b[0m in \u001b[0;36mcheck_units\u001b[1;34m(self, group, run_namespace)\u001b[0m\n\u001b[0;32m    949\u001b[0m         resolved_namespace = group.resolve_all(external, run_namespace,\n\u001b[1;32m--> 950\u001b[1;33m                                                user_identifiers=external)  # all variables are user defined\n\u001b[0m\u001b[0;32m    951\u001b[0m \u001b[1;33m\u001b[0m\u001b[0m\n",
      "\u001b[1;32m~\\Anaconda3\\envs\\brian\\lib\\site-packages\\brian2\\groups\\group.py\u001b[0m in \u001b[0;36mresolve_all\u001b[1;34m(self, identifiers, run_namespace, user_identifiers, additional_variables)\u001b[0m\n\u001b[0;32m    743\u001b[0m                                                  \u001b[0madditional_variables\u001b[0m\u001b[1;33m=\u001b[0m\u001b[0madditional_variables\u001b[0m\u001b[1;33m,\u001b[0m\u001b[1;33m\u001b[0m\u001b[1;33m\u001b[0m\u001b[0m\n\u001b[1;32m--> 744\u001b[1;33m                                                  run_namespace=run_namespace)\n\u001b[0m\u001b[0;32m    745\u001b[0m         \u001b[1;32mreturn\u001b[0m \u001b[0mresolved\u001b[0m\u001b[1;33m\u001b[0m\u001b[1;33m\u001b[0m\u001b[0m\n",
      "\u001b[1;32m~\\Anaconda3\\envs\\brian\\lib\\site-packages\\brian2\\groups\\group.py\u001b[0m in \u001b[0;36m_resolve\u001b[1;34m(self, identifier, run_namespace, user_identifier, additional_variables)\u001b[0m\n\u001b[0;32m    700\u001b[0m         \u001b[1;31m# namespace\u001b[0m\u001b[1;33m\u001b[0m\u001b[1;33m\u001b[0m\u001b[1;33m\u001b[0m\u001b[0m\n\u001b[1;32m--> 701\u001b[1;33m         \u001b[1;32mreturn\u001b[0m \u001b[0mself\u001b[0m\u001b[1;33m.\u001b[0m\u001b[0m_resolve_external\u001b[0m\u001b[1;33m(\u001b[0m\u001b[0midentifier\u001b[0m\u001b[1;33m,\u001b[0m \u001b[0mrun_namespace\u001b[0m\u001b[1;33m=\u001b[0m\u001b[0mrun_namespace\u001b[0m\u001b[1;33m)\u001b[0m\u001b[1;33m\u001b[0m\u001b[1;33m\u001b[0m\u001b[0m\n\u001b[0m\u001b[0;32m    702\u001b[0m \u001b[1;33m\u001b[0m\u001b[0m\n",
      "\u001b[1;32m~\\Anaconda3\\envs\\brian\\lib\\site-packages\\brian2\\groups\\group.py\u001b[0m in \u001b[0;36m_resolve_external\u001b[1;34m(self, identifier, run_namespace, user_identifier, internal_variable)\u001b[0m\n\u001b[0;32m    824\u001b[0m                                  identifier)\n\u001b[1;32m--> 825\u001b[1;33m                 \u001b[1;32mraise\u001b[0m \u001b[0mKeyError\u001b[0m\u001b[1;33m(\u001b[0m\u001b[0merror_msg\u001b[0m\u001b[1;33m)\u001b[0m\u001b[1;33m\u001b[0m\u001b[1;33m\u001b[0m\u001b[0m\n\u001b[0m\u001b[0;32m    826\u001b[0m \u001b[1;33m\u001b[0m\u001b[0m\n",
      "\u001b[1;31mKeyError\u001b[0m: 'The identifier \"max\" could not be resolved.'",
      "\nDuring handling of the above exception, another exception occurred:\n",
      "\u001b[1;31mBrianObjectException\u001b[0m                      Traceback (most recent call last)",
      "\u001b[1;32m<ipython-input-5-0d7ba2006ccb>\u001b[0m in \u001b[0;36m<module>\u001b[1;34m\u001b[0m\n\u001b[1;32m----> 1\u001b[1;33m \u001b[0mrun\u001b[0m\u001b[1;33m(\u001b[0m\u001b[0mexp_runtime\u001b[0m\u001b[1;33m,\u001b[0m\u001b[0mreport\u001b[0m\u001b[1;33m=\u001b[0m\u001b[1;34m'text'\u001b[0m\u001b[1;33m)\u001b[0m\u001b[1;33m\u001b[0m\u001b[1;33m\u001b[0m\u001b[0m\n\u001b[0m",
      "\u001b[1;32m~\\Anaconda3\\envs\\brian\\lib\\site-packages\\brian2\\units\\fundamentalunits.py\u001b[0m in \u001b[0;36mnew_f\u001b[1;34m(*args, **kwds)\u001b[0m\n\u001b[0;32m   2390\u001b[0m                                                      get_dimensions(newkeyset[k]))\n\u001b[0;32m   2391\u001b[0m \u001b[1;33m\u001b[0m\u001b[0m\n\u001b[1;32m-> 2392\u001b[1;33m             \u001b[0mresult\u001b[0m \u001b[1;33m=\u001b[0m \u001b[0mf\u001b[0m\u001b[1;33m(\u001b[0m\u001b[1;33m*\u001b[0m\u001b[0margs\u001b[0m\u001b[1;33m,\u001b[0m \u001b[1;33m**\u001b[0m\u001b[0mkwds\u001b[0m\u001b[1;33m)\u001b[0m\u001b[1;33m\u001b[0m\u001b[1;33m\u001b[0m\u001b[0m\n\u001b[0m\u001b[0;32m   2393\u001b[0m             \u001b[1;32mif\u001b[0m \u001b[1;34m'result'\u001b[0m \u001b[1;32min\u001b[0m \u001b[0mau\u001b[0m\u001b[1;33m:\u001b[0m\u001b[1;33m\u001b[0m\u001b[1;33m\u001b[0m\u001b[0m\n\u001b[0;32m   2394\u001b[0m                 \u001b[1;32mif\u001b[0m \u001b[0mau\u001b[0m\u001b[1;33m[\u001b[0m\u001b[1;34m'result'\u001b[0m\u001b[1;33m]\u001b[0m \u001b[1;33m==\u001b[0m \u001b[0mbool\u001b[0m\u001b[1;33m:\u001b[0m\u001b[1;33m\u001b[0m\u001b[1;33m\u001b[0m\u001b[0m\n",
      "\u001b[1;32m~\\Anaconda3\\envs\\brian\\lib\\site-packages\\brian2\\core\\magic.py\u001b[0m in \u001b[0;36mrun\u001b[1;34m(duration, report, report_period, namespace, profile, level)\u001b[0m\n\u001b[0;32m    372\u001b[0m     '''\n\u001b[0;32m    373\u001b[0m     return magic_network.run(duration, report=report, report_period=report_period,\n\u001b[1;32m--> 374\u001b[1;33m                              namespace=namespace, profile=profile, level=2+level)\n\u001b[0m\u001b[0;32m    375\u001b[0m \u001b[0mrun\u001b[0m\u001b[1;33m.\u001b[0m\u001b[0m__module__\u001b[0m \u001b[1;33m=\u001b[0m \u001b[0m__name__\u001b[0m\u001b[1;33m\u001b[0m\u001b[1;33m\u001b[0m\u001b[0m\n\u001b[0;32m    376\u001b[0m \u001b[1;33m\u001b[0m\u001b[0m\n",
      "\u001b[1;32m~\\Anaconda3\\envs\\brian\\lib\\site-packages\\brian2\\core\\magic.py\u001b[0m in \u001b[0;36mrun\u001b[1;34m(self, duration, report, report_period, namespace, profile, level)\u001b[0m\n\u001b[0;32m    230\u001b[0m         \u001b[0mself\u001b[0m\u001b[1;33m.\u001b[0m\u001b[0m_update_magic_objects\u001b[0m\u001b[1;33m(\u001b[0m\u001b[0mlevel\u001b[0m\u001b[1;33m=\u001b[0m\u001b[0mlevel\u001b[0m\u001b[1;33m+\u001b[0m\u001b[1;36m1\u001b[0m\u001b[1;33m)\u001b[0m\u001b[1;33m\u001b[0m\u001b[1;33m\u001b[0m\u001b[0m\n\u001b[0;32m    231\u001b[0m         Network.run(self, duration, report=report, report_period=report_period,\n\u001b[1;32m--> 232\u001b[1;33m                     namespace=namespace, profile=profile, level=level+1)\n\u001b[0m\u001b[0;32m    233\u001b[0m \u001b[1;33m\u001b[0m\u001b[0m\n\u001b[0;32m    234\u001b[0m     \u001b[1;32mdef\u001b[0m \u001b[0mstore\u001b[0m\u001b[1;33m(\u001b[0m\u001b[0mself\u001b[0m\u001b[1;33m,\u001b[0m \u001b[0mname\u001b[0m\u001b[1;33m=\u001b[0m\u001b[1;34m'default'\u001b[0m\u001b[1;33m,\u001b[0m \u001b[0mfilename\u001b[0m\u001b[1;33m=\u001b[0m\u001b[1;32mNone\u001b[0m\u001b[1;33m,\u001b[0m \u001b[0mlevel\u001b[0m\u001b[1;33m=\u001b[0m\u001b[1;36m0\u001b[0m\u001b[1;33m)\u001b[0m\u001b[1;33m:\u001b[0m\u001b[1;33m\u001b[0m\u001b[1;33m\u001b[0m\u001b[0m\n",
      "\u001b[1;32m~\\Anaconda3\\envs\\brian\\lib\\site-packages\\brian2\\core\\base.py\u001b[0m in \u001b[0;36mdevice_override_decorated_function\u001b[1;34m(*args, **kwds)\u001b[0m\n\u001b[0;32m    278\u001b[0m                 \u001b[1;32mreturn\u001b[0m \u001b[0mgetattr\u001b[0m\u001b[1;33m(\u001b[0m\u001b[0mcurdev\u001b[0m\u001b[1;33m,\u001b[0m \u001b[0mname\u001b[0m\u001b[1;33m)\u001b[0m\u001b[1;33m(\u001b[0m\u001b[1;33m*\u001b[0m\u001b[0margs\u001b[0m\u001b[1;33m,\u001b[0m \u001b[1;33m**\u001b[0m\u001b[0mkwds\u001b[0m\u001b[1;33m)\u001b[0m\u001b[1;33m\u001b[0m\u001b[1;33m\u001b[0m\u001b[0m\n\u001b[0;32m    279\u001b[0m             \u001b[1;32melse\u001b[0m\u001b[1;33m:\u001b[0m\u001b[1;33m\u001b[0m\u001b[1;33m\u001b[0m\u001b[0m\n\u001b[1;32m--> 280\u001b[1;33m                 \u001b[1;32mreturn\u001b[0m \u001b[0mfunc\u001b[0m\u001b[1;33m(\u001b[0m\u001b[1;33m*\u001b[0m\u001b[0margs\u001b[0m\u001b[1;33m,\u001b[0m \u001b[1;33m**\u001b[0m\u001b[0mkwds\u001b[0m\u001b[1;33m)\u001b[0m\u001b[1;33m\u001b[0m\u001b[1;33m\u001b[0m\u001b[0m\n\u001b[0m\u001b[0;32m    281\u001b[0m \u001b[1;33m\u001b[0m\u001b[0m\n\u001b[0;32m    282\u001b[0m         \u001b[0mdevice_override_decorated_function\u001b[0m\u001b[1;33m.\u001b[0m\u001b[0m__doc__\u001b[0m \u001b[1;33m=\u001b[0m \u001b[0mfunc\u001b[0m\u001b[1;33m.\u001b[0m\u001b[0m__doc__\u001b[0m\u001b[1;33m\u001b[0m\u001b[1;33m\u001b[0m\u001b[0m\n",
      "\u001b[1;32m~\\Anaconda3\\envs\\brian\\lib\\site-packages\\brian2\\units\\fundamentalunits.py\u001b[0m in \u001b[0;36mnew_f\u001b[1;34m(*args, **kwds)\u001b[0m\n\u001b[0;32m   2390\u001b[0m                                                      get_dimensions(newkeyset[k]))\n\u001b[0;32m   2391\u001b[0m \u001b[1;33m\u001b[0m\u001b[0m\n\u001b[1;32m-> 2392\u001b[1;33m             \u001b[0mresult\u001b[0m \u001b[1;33m=\u001b[0m \u001b[0mf\u001b[0m\u001b[1;33m(\u001b[0m\u001b[1;33m*\u001b[0m\u001b[0margs\u001b[0m\u001b[1;33m,\u001b[0m \u001b[1;33m**\u001b[0m\u001b[0mkwds\u001b[0m\u001b[1;33m)\u001b[0m\u001b[1;33m\u001b[0m\u001b[1;33m\u001b[0m\u001b[0m\n\u001b[0m\u001b[0;32m   2393\u001b[0m             \u001b[1;32mif\u001b[0m \u001b[1;34m'result'\u001b[0m \u001b[1;32min\u001b[0m \u001b[0mau\u001b[0m\u001b[1;33m:\u001b[0m\u001b[1;33m\u001b[0m\u001b[1;33m\u001b[0m\u001b[0m\n\u001b[0;32m   2394\u001b[0m                 \u001b[1;32mif\u001b[0m \u001b[0mau\u001b[0m\u001b[1;33m[\u001b[0m\u001b[1;34m'result'\u001b[0m\u001b[1;33m]\u001b[0m \u001b[1;33m==\u001b[0m \u001b[0mbool\u001b[0m\u001b[1;33m:\u001b[0m\u001b[1;33m\u001b[0m\u001b[1;33m\u001b[0m\u001b[0m\n",
      "\u001b[1;32m~\\Anaconda3\\envs\\brian\\lib\\site-packages\\brian2\\core\\network.py\u001b[0m in \u001b[0;36mrun\u001b[1;34m(self, duration, report, report_period, namespace, profile, level)\u001b[0m\n\u001b[0;32m   1010\u001b[0m             \u001b[0mnamespace\u001b[0m \u001b[1;33m=\u001b[0m \u001b[0mget_local_namespace\u001b[0m\u001b[1;33m(\u001b[0m\u001b[0mlevel\u001b[0m\u001b[1;33m=\u001b[0m\u001b[0mlevel\u001b[0m\u001b[1;33m+\u001b[0m\u001b[1;36m3\u001b[0m\u001b[1;33m)\u001b[0m\u001b[1;33m\u001b[0m\u001b[1;33m\u001b[0m\u001b[0m\n\u001b[0;32m   1011\u001b[0m \u001b[1;33m\u001b[0m\u001b[0m\n\u001b[1;32m-> 1012\u001b[1;33m         \u001b[0mself\u001b[0m\u001b[1;33m.\u001b[0m\u001b[0mbefore_run\u001b[0m\u001b[1;33m(\u001b[0m\u001b[0mnamespace\u001b[0m\u001b[1;33m)\u001b[0m\u001b[1;33m\u001b[0m\u001b[1;33m\u001b[0m\u001b[0m\n\u001b[0m\u001b[0;32m   1013\u001b[0m \u001b[1;33m\u001b[0m\u001b[0m\n\u001b[0;32m   1014\u001b[0m         \u001b[1;32mif\u001b[0m \u001b[0mlen\u001b[0m\u001b[1;33m(\u001b[0m\u001b[0mall_objects\u001b[0m\u001b[1;33m)\u001b[0m \u001b[1;33m==\u001b[0m \u001b[1;36m0\u001b[0m\u001b[1;33m:\u001b[0m\u001b[1;33m\u001b[0m\u001b[1;33m\u001b[0m\u001b[0m\n",
      "\u001b[1;32m~\\Anaconda3\\envs\\brian\\lib\\site-packages\\brian2\\core\\base.py\u001b[0m in \u001b[0;36mdevice_override_decorated_function\u001b[1;34m(*args, **kwds)\u001b[0m\n\u001b[0;32m    278\u001b[0m                 \u001b[1;32mreturn\u001b[0m \u001b[0mgetattr\u001b[0m\u001b[1;33m(\u001b[0m\u001b[0mcurdev\u001b[0m\u001b[1;33m,\u001b[0m \u001b[0mname\u001b[0m\u001b[1;33m)\u001b[0m\u001b[1;33m(\u001b[0m\u001b[1;33m*\u001b[0m\u001b[0margs\u001b[0m\u001b[1;33m,\u001b[0m \u001b[1;33m**\u001b[0m\u001b[0mkwds\u001b[0m\u001b[1;33m)\u001b[0m\u001b[1;33m\u001b[0m\u001b[1;33m\u001b[0m\u001b[0m\n\u001b[0;32m    279\u001b[0m             \u001b[1;32melse\u001b[0m\u001b[1;33m:\u001b[0m\u001b[1;33m\u001b[0m\u001b[1;33m\u001b[0m\u001b[0m\n\u001b[1;32m--> 280\u001b[1;33m                 \u001b[1;32mreturn\u001b[0m \u001b[0mfunc\u001b[0m\u001b[1;33m(\u001b[0m\u001b[1;33m*\u001b[0m\u001b[0margs\u001b[0m\u001b[1;33m,\u001b[0m \u001b[1;33m**\u001b[0m\u001b[0mkwds\u001b[0m\u001b[1;33m)\u001b[0m\u001b[1;33m\u001b[0m\u001b[1;33m\u001b[0m\u001b[0m\n\u001b[0m\u001b[0;32m    281\u001b[0m \u001b[1;33m\u001b[0m\u001b[0m\n\u001b[0;32m    282\u001b[0m         \u001b[0mdevice_override_decorated_function\u001b[0m\u001b[1;33m.\u001b[0m\u001b[0m__doc__\u001b[0m \u001b[1;33m=\u001b[0m \u001b[0mfunc\u001b[0m\u001b[1;33m.\u001b[0m\u001b[0m__doc__\u001b[0m\u001b[1;33m\u001b[0m\u001b[1;33m\u001b[0m\u001b[0m\n",
      "\u001b[1;32m~\\Anaconda3\\envs\\brian\\lib\\site-packages\\brian2\\core\\network.py\u001b[0m in \u001b[0;36mbefore_run\u001b[1;34m(self, run_namespace)\u001b[0m\n\u001b[0;32m    901\u001b[0m                     \u001b[0mobj\u001b[0m\u001b[1;33m.\u001b[0m\u001b[0mbefore_run\u001b[0m\u001b[1;33m(\u001b[0m\u001b[0mrun_namespace\u001b[0m\u001b[1;33m)\u001b[0m\u001b[1;33m\u001b[0m\u001b[1;33m\u001b[0m\u001b[0m\n\u001b[0;32m    902\u001b[0m                 \u001b[1;32mexcept\u001b[0m \u001b[0mException\u001b[0m \u001b[1;32mas\u001b[0m \u001b[0mex\u001b[0m\u001b[1;33m:\u001b[0m\u001b[1;33m\u001b[0m\u001b[1;33m\u001b[0m\u001b[0m\n\u001b[1;32m--> 903\u001b[1;33m                     \u001b[1;32mraise\u001b[0m \u001b[0mbrian_object_exception\u001b[0m\u001b[1;33m(\u001b[0m\u001b[1;34m\"An error occurred when preparing an object.\"\u001b[0m\u001b[1;33m,\u001b[0m \u001b[0mobj\u001b[0m\u001b[1;33m,\u001b[0m \u001b[0mex\u001b[0m\u001b[1;33m)\u001b[0m\u001b[1;33m\u001b[0m\u001b[1;33m\u001b[0m\u001b[0m\n\u001b[0m\u001b[0;32m    904\u001b[0m \u001b[1;33m\u001b[0m\u001b[0m\n\u001b[0;32m    905\u001b[0m         \u001b[1;31m# Check that no object has been run as part of another network before\u001b[0m\u001b[1;33m\u001b[0m\u001b[1;33m\u001b[0m\u001b[1;33m\u001b[0m\u001b[0m\n",
      "\u001b[1;31mBrianObjectException\u001b[0m: Original error and traceback:\nTraceback (most recent call last):\n  File \"C:\\Users\\thoed\\Anaconda3\\envs\\brian\\lib\\site-packages\\brian2\\core\\network.py\", line 901, in before_run\n    obj.before_run(run_namespace)\n  File \"C:\\Users\\thoed\\Anaconda3\\envs\\brian\\lib\\site-packages\\brian2\\groups\\neurongroup.py\", line 888, in before_run\n    self.equations.check_units(self, run_namespace=run_namespace)\n  File \"C:\\Users\\thoed\\Anaconda3\\envs\\brian\\lib\\site-packages\\brian2\\equations\\equations.py\", line 950, in check_units\n    user_identifiers=external)  # all variables are user defined\n  File \"C:\\Users\\thoed\\Anaconda3\\envs\\brian\\lib\\site-packages\\brian2\\groups\\group.py\", line 744, in resolve_all\n    run_namespace=run_namespace)\n  File \"C:\\Users\\thoed\\Anaconda3\\envs\\brian\\lib\\site-packages\\brian2\\groups\\group.py\", line 701, in _resolve\n    return self._resolve_external(identifier, run_namespace=run_namespace)\n  File \"C:\\Users\\thoed\\Anaconda3\\envs\\brian\\lib\\site-packages\\brian2\\groups\\group.py\", line 825, in _resolve_external\n    raise KeyError(error_msg)\nKeyError: 'The identifier \"max\" could not be resolved.'\n\nError encountered with object named \"dummy_Coupled\".\nObject was created here (most recent call only, full details in debug log):\n  File \"C:\\Users\\thoed\\OneDrive\\Documenten\\Universiteit_Delft\\master\\TheModelPlasticity\\ModelPlasticity\\E_Synapses_Plasticity.py\", line 98, in <module>\n    conn_N_PC_Coupled = NeuronGroup(n_Noise*n_PC, eqs_syn_Noise_PC_STDP, method='euler',name = 'dummy_Coupled',dt=t_Neuron)\n\nAn error occurred when preparing an object. KeyError: 'The identifier \"max\" could not be resolved.'\n(See above for original error message and traceback.)"
     ]
    }
   ],
   "source": [
    "run(exp_runtime,report='text')"
   ]
  },
  {
   "cell_type": "code",
   "execution_count": null,
   "metadata": {},
   "outputs": [],
   "source": [
    "#run(exp_runtime,report='text')"
   ]
  },
  {
   "cell_type": "code",
   "execution_count": null,
   "metadata": {
    "scrolled": false
   },
   "outputs": [],
   "source": [
    "from G_Plot_Plasticity import *"
   ]
  },
  {
   "cell_type": "code",
   "execution_count": null,
   "metadata": {},
   "outputs": [],
   "source": [
    "from F_save_data_Plasticity import *"
   ]
  },
  {
   "cell_type": "code",
   "execution_count": null,
   "metadata": {
    "scrolled": false
   },
   "outputs": [],
   "source": [
    "#run(exp_runtime,report='text')"
   ]
  },
  {
   "cell_type": "code",
   "execution_count": null,
   "metadata": {
    "scrolled": true
   },
   "outputs": [],
   "source": [
    "#from G_Plot_Plasticity import *"
   ]
  },
  {
   "cell_type": "code",
   "execution_count": null,
   "metadata": {},
   "outputs": [],
   "source": []
  },
  {
   "cell_type": "code",
   "execution_count": null,
   "metadata": {
    "scrolled": true
   },
   "outputs": [],
   "source": [
    "visualise(S_IO_N_Coupled)\n",
    "visualise(S_IO_N_Uncoupled)\n",
    "\n",
    "#visualise(Synapse_IO_PC_Coupled_noSTDP)\n",
    "#visualise(Synapse_IO_PC_Uncoupled_noSTDP)\n",
    "visualise(Synapse_IO_PC_Coupled_STDP)\n",
    "visualise(Synapse_IO_PC_Uncoupled_STDP)\n",
    "\n",
    "#visualise(IO_DCN_Synapse_Coupled_noSTDP)\n",
    "#visualise(IO_DCN_Synapse_Uncoupled_noSTDP)\n",
    "visualise(IO_DCN_Synapse_Coupled_STDP)\n",
    "visualise(IO_DCN_Synapse_Uncoupled_STDP)\n",
    "\n",
    "#visualise(DCN_PC_Synapse_Coupled_noSTDP)\n",
    "#visualise(DCN_PC_Synapse_Uncoupled_noSTDP)\n",
    "visualise(DCN_PC_Synapse_Coupled_STDP)\n",
    "visualise(DCN_PC_Synapse_Uncoupled_STDP)"
   ]
  },
  {
   "cell_type": "code",
   "execution_count": null,
   "metadata": {},
   "outputs": [],
   "source": [
    "from F_save_data_Plasticity import *"
   ]
  },
  {
   "cell_type": "code",
   "execution_count": null,
   "metadata": {},
   "outputs": [],
   "source": []
  },
  {
   "cell_type": "code",
   "execution_count": null,
   "metadata": {},
   "outputs": [],
   "source": []
  }
 ],
 "metadata": {
  "kernelspec": {
   "display_name": "Python 3",
   "language": "python",
   "name": "python3"
  },
  "language_info": {
   "codemirror_mode": {
    "name": "ipython",
    "version": 3
   },
   "file_extension": ".py",
   "mimetype": "text/x-python",
   "name": "python",
   "nbconvert_exporter": "python",
   "pygments_lexer": "ipython3",
   "version": "3.6.7"
  }
 },
 "nbformat": 4,
 "nbformat_minor": 2
}
