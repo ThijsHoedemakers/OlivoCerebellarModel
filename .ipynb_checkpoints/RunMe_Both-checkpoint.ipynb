{
 "cells": [
  {
   "cell_type": "code",
   "execution_count": null,
   "metadata": {},
   "outputs": [],
   "source": [
    "%reset -f\n",
    "from A_Functions import *"
   ]
  },
  {
   "cell_type": "code",
   "execution_count": null,
   "metadata": {},
   "outputs": [],
   "source": [
    "# Create Noise Type\n",
    "# Give a name for your noise - be precise to make it easy to detect what type it is\n",
    "# Example 'NoiseConst_2nA' or 'NoiseDS_2A10Hz_9A1Hz'\n",
    "namenoise = 'Input_2DS'\n",
    "\n",
    "# extra step to make a new file with the same name only with 'SimParams.mat' added\n",
    "simparameter=list(namenoise)\n",
    "simparameter.append('_SimParams.mat')\n",
    "simparameter=\"\".join(simparameter)\n",
    "\n",
    "## input of NoiseGenerator for double sine is :\n",
    "# (amount of noise sources, 'DS', [offset sine1,offset sine2,amplitude sine1 (nA), frequency sine1(Hz),,\n",
    "#amplitude sine2, frequency sine2], duration in ms, name of the file)\n",
    "\n",
    "## input of NoiseGenerator for OU is :\n",
    "# (amount of noise sources, 'OU', [initial I, initial I0, sigma], duration in ms, name of the file)\n",
    "\n",
    "## input of NoiseGenerator Constant value :\n",
    "# (amount, 'const',[constant value in nA], duration in ms, name of the file)\n",
    "\n",
    "Noise_t,Noise_I,N_Noise=NoiseGenerator(2,'DS',[1 ,1     # offset in nA\n",
    "                                               , 1, 0.5 # amplitude in nA\n",
    "                                               ,1,14   # frequency in Hz\n",
    "                                              ],2500,namenoise,simparameter)\n",
    "\n",
    "#Noise_t,Noise_I,N_Noise=NoiseGenerator(5,'DS',[1 ,0.5, 0, -0.5, -1,     #offsets in nA\n",
    "#                                              1, 0.5, 0, 0.5, 1, #amplitude in nA\n",
    "#                                              20, 2, 2, 20, 2]         # frequency in Hz\n",
    "#                                              ,2500,namenoise,simparameter)\n",
    "\n",
    "#Noise_const15 = NoiseGenerator(2,'const',[1.5],10,'Noise_const15')\n",
    "\n"
   ]
  },
  {
   "cell_type": "code",
   "execution_count": null,
   "metadata": {},
   "outputs": [],
   "source": [
    "SimParams = Struct()\n",
    "######################## Save\n",
    "SimParams.saving = 'yes' #'yes','no'\n",
    "######################## plot\n",
    "SimParams.plotting = 'yes' #'yes','no'\n",
    "######################## Experiment length\n",
    "SimParams.dt = 0.025*ms\n",
    "SimParams.exp_runtime = size(Noise_t)*SimParams.dt\n",
    "######################## Neuronal responses to run. \n",
    "SimParams.IO_response='both' #'oscillatory', 'non', 'spiking', 'both' \n",
    "SimParams.N_Cells_PC = 10\n",
    "SimParams.N_Cells_DCN = 20\n",
    "SimParams.N_Cells_IO = 20\n",
    "######################## Saving SimParams\n",
    "sio.savemat('SimParams.mat', mdict={'SimParams': SimParams})"
   ]
  },
  {
   "cell_type": "code",
   "execution_count": null,
   "metadata": {
    "scrolled": false
   },
   "outputs": [],
   "source": [
    "from E_Synapses_NoPlasticity import *\n",
    "#from E_Synapses_Plasticity import *"
   ]
  },
  {
   "cell_type": "code",
   "execution_count": null,
   "metadata": {
    "scrolled": true
   },
   "outputs": [],
   "source": [
    "visualise(S_IO_N_Coupled)\n",
    "visualise(S_IO_N_Uncoupled)\n",
    "\n",
    "visualise(Synapse_IO_PC_Coupled_noSTDP)\n",
    "visualise(Synapse_IO_PC_Uncoupled_noSTDP)\n",
    "visualise(Synapse_IO_PC_Coupled_STDP)\n",
    "visualise(Synapse_IO_PC_Uncoupled_STDP)\n",
    "\n",
    "visualise(IO_DCN_Synapse_Coupled_noSTDP)\n",
    "visualise(IO_DCN_Synapse_Uncoupled_noSTDP)\n",
    "visualise(IO_DCN_Synapse_Coupled_STDP)\n",
    "visualise(IO_DCN_Synapse_Uncoupled_STDP)\n",
    "\n",
    "visualise(DCN_PC_Synapse_Coupled_noSTDP)\n",
    "visualise(DCN_PC_Synapse_Uncoupled_noSTDP)\n",
    "visualise(DCN_PC_Synapse_Coupled_STDP)\n",
    "visualise(DCN_PC_Synapse_Uncoupled_STDP)"
   ]
  },
  {
   "cell_type": "code",
   "execution_count": null,
   "metadata": {
    "scrolled": false
   },
   "outputs": [],
   "source": [
    "run(exp_runtime,report='text')"
   ]
  },
  {
   "cell_type": "code",
   "execution_count": null,
   "metadata": {
    "scrolled": true
   },
   "outputs": [],
   "source": [
    "from G_Plot_NoPlasticity import *"
   ]
  },
  {
   "cell_type": "code",
   "execution_count": null,
   "metadata": {},
   "outputs": [],
   "source": [
    "from F_save_data_NoPlasticity import *"
   ]
  },
  {
   "cell_type": "code",
   "execution_count": null,
   "metadata": {
    "scrolled": false
   },
   "outputs": [],
   "source": [
    "run(exp_runtime,report='text')"
   ]
  },
  {
   "cell_type": "code",
   "execution_count": null,
   "metadata": {
    "scrolled": true
   },
   "outputs": [],
   "source": [
    "from G_Plot_Plasticity import *"
   ]
  },
  {
   "cell_type": "code",
   "execution_count": null,
   "metadata": {},
   "outputs": [],
   "source": [
    "from F_save_data_Plasticity import *"
   ]
  }
 ],
 "metadata": {
  "kernelspec": {
   "display_name": "Python 3",
   "language": "python",
   "name": "python3"
  },
  "language_info": {
   "codemirror_mode": {
    "name": "ipython",
    "version": 3
   },
   "file_extension": ".py",
   "mimetype": "text/x-python",
   "name": "python",
   "nbconvert_exporter": "python",
   "pygments_lexer": "ipython3",
   "version": "3.6.7"
  }
 },
 "nbformat": 4,
 "nbformat_minor": 2
}
