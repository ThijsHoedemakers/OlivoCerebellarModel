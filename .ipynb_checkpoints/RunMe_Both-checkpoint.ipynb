{
 "cells": [
  {
   "cell_type": "code",
   "execution_count": 1,
   "metadata": {},
   "outputs": [],
   "source": [
    "%reset -f\n",
    "from A_Functions import *"
   ]
  },
  {
   "cell_type": "code",
   "execution_count": 2,
   "metadata": {
    "scrolled": false
   },
   "outputs": [
    {
     "name": "stdout",
     "output_type": "stream",
     "text": [
      "Noise input is of type double sine\n"
     ]
    },
    {
     "ename": "KeyboardInterrupt",
     "evalue": "",
     "output_type": "error",
     "traceback": [
      "\u001b[1;31m---------------------------------------------------------------------------\u001b[0m",
      "\u001b[1;31mKeyboardInterrupt\u001b[0m                         Traceback (most recent call last)",
      "\u001b[1;32m<ipython-input-2-78045a4fd0c8>\u001b[0m in \u001b[0;36m<module>\u001b[1;34m\u001b[0m\n\u001b[0;32m     23\u001b[0m                                                \u001b[1;33m,\u001b[0m\u001b[1;36m4\u001b[0m\u001b[1;33m,\u001b[0m\u001b[1;36m8\u001b[0m   \u001b[1;31m# frequency in Hz\u001b[0m\u001b[1;33m\u001b[0m\u001b[1;33m\u001b[0m\u001b[0m\n\u001b[0;32m     24\u001b[0m                                               ],20000,20000,\n\u001b[1;32m---> 25\u001b[1;33m                                        namenoise)\n\u001b[0m\u001b[0;32m     26\u001b[0m \u001b[1;33m\u001b[0m\u001b[0m\n\u001b[0;32m     27\u001b[0m \u001b[1;31m#Noise_t,Noise_I,N_Noise=NoiseGenerator(5,'DS',[1 ,0.5, 0, -0.5, -1,     #offsets in nA\u001b[0m\u001b[1;33m\u001b[0m\u001b[1;33m\u001b[0m\u001b[1;33m\u001b[0m\u001b[0m\n",
      "\u001b[1;32m~\\OneDrive\\Documenten\\Universiteit_Delft\\master\\TheModelPlasticity\\ModelPlasticity\\A_Functions.py\u001b[0m in \u001b[0;36mNoiseGenerator\u001b[1;34m(number, noisetype, IC, durationInput, durationTotal, name)\u001b[0m\n\u001b[0;32m    126\u001b[0m \u001b[1;33m\u001b[0m\u001b[0m\n\u001b[0;32m    127\u001b[0m \u001b[1;33m\u001b[0m\u001b[0m\n\u001b[1;32m--> 128\u001b[1;33m     \u001b[0mrun\u001b[0m\u001b[1;33m(\u001b[0m\u001b[0mdurationInput\u001b[0m\u001b[1;33m*\u001b[0m\u001b[0mms\u001b[0m\u001b[1;33m)\u001b[0m\u001b[1;33m\u001b[0m\u001b[1;33m\u001b[0m\u001b[0m\n\u001b[0m\u001b[0;32m    129\u001b[0m \u001b[1;33m\u001b[0m\u001b[0m\n\u001b[0;32m    130\u001b[0m \u001b[1;33m\u001b[0m\u001b[0m\n",
      "\u001b[1;32m~\\Anaconda3\\envs\\brian\\lib\\site-packages\\brian2\\units\\fundamentalunits.py\u001b[0m in \u001b[0;36mnew_f\u001b[1;34m(*args, **kwds)\u001b[0m\n\u001b[0;32m   2390\u001b[0m                                                      get_dimensions(newkeyset[k]))\n\u001b[0;32m   2391\u001b[0m \u001b[1;33m\u001b[0m\u001b[0m\n\u001b[1;32m-> 2392\u001b[1;33m             \u001b[0mresult\u001b[0m \u001b[1;33m=\u001b[0m \u001b[0mf\u001b[0m\u001b[1;33m(\u001b[0m\u001b[1;33m*\u001b[0m\u001b[0margs\u001b[0m\u001b[1;33m,\u001b[0m \u001b[1;33m**\u001b[0m\u001b[0mkwds\u001b[0m\u001b[1;33m)\u001b[0m\u001b[1;33m\u001b[0m\u001b[1;33m\u001b[0m\u001b[0m\n\u001b[0m\u001b[0;32m   2393\u001b[0m             \u001b[1;32mif\u001b[0m \u001b[1;34m'result'\u001b[0m \u001b[1;32min\u001b[0m \u001b[0mau\u001b[0m\u001b[1;33m:\u001b[0m\u001b[1;33m\u001b[0m\u001b[1;33m\u001b[0m\u001b[0m\n\u001b[0;32m   2394\u001b[0m                 \u001b[1;32mif\u001b[0m \u001b[0mau\u001b[0m\u001b[1;33m[\u001b[0m\u001b[1;34m'result'\u001b[0m\u001b[1;33m]\u001b[0m \u001b[1;33m==\u001b[0m \u001b[0mbool\u001b[0m\u001b[1;33m:\u001b[0m\u001b[1;33m\u001b[0m\u001b[1;33m\u001b[0m\u001b[0m\n",
      "\u001b[1;32m~\\Anaconda3\\envs\\brian\\lib\\site-packages\\brian2\\core\\magic.py\u001b[0m in \u001b[0;36mrun\u001b[1;34m(duration, report, report_period, namespace, profile, level)\u001b[0m\n\u001b[0;32m    372\u001b[0m     '''\n\u001b[0;32m    373\u001b[0m     return magic_network.run(duration, report=report, report_period=report_period,\n\u001b[1;32m--> 374\u001b[1;33m                              namespace=namespace, profile=profile, level=2+level)\n\u001b[0m\u001b[0;32m    375\u001b[0m \u001b[0mrun\u001b[0m\u001b[1;33m.\u001b[0m\u001b[0m__module__\u001b[0m \u001b[1;33m=\u001b[0m \u001b[0m__name__\u001b[0m\u001b[1;33m\u001b[0m\u001b[1;33m\u001b[0m\u001b[0m\n\u001b[0;32m    376\u001b[0m \u001b[1;33m\u001b[0m\u001b[0m\n",
      "\u001b[1;32m~\\Anaconda3\\envs\\brian\\lib\\site-packages\\brian2\\core\\magic.py\u001b[0m in \u001b[0;36mrun\u001b[1;34m(self, duration, report, report_period, namespace, profile, level)\u001b[0m\n\u001b[0;32m    230\u001b[0m         \u001b[0mself\u001b[0m\u001b[1;33m.\u001b[0m\u001b[0m_update_magic_objects\u001b[0m\u001b[1;33m(\u001b[0m\u001b[0mlevel\u001b[0m\u001b[1;33m=\u001b[0m\u001b[0mlevel\u001b[0m\u001b[1;33m+\u001b[0m\u001b[1;36m1\u001b[0m\u001b[1;33m)\u001b[0m\u001b[1;33m\u001b[0m\u001b[1;33m\u001b[0m\u001b[0m\n\u001b[0;32m    231\u001b[0m         Network.run(self, duration, report=report, report_period=report_period,\n\u001b[1;32m--> 232\u001b[1;33m                     namespace=namespace, profile=profile, level=level+1)\n\u001b[0m\u001b[0;32m    233\u001b[0m \u001b[1;33m\u001b[0m\u001b[0m\n\u001b[0;32m    234\u001b[0m     \u001b[1;32mdef\u001b[0m \u001b[0mstore\u001b[0m\u001b[1;33m(\u001b[0m\u001b[0mself\u001b[0m\u001b[1;33m,\u001b[0m \u001b[0mname\u001b[0m\u001b[1;33m=\u001b[0m\u001b[1;34m'default'\u001b[0m\u001b[1;33m,\u001b[0m \u001b[0mfilename\u001b[0m\u001b[1;33m=\u001b[0m\u001b[1;32mNone\u001b[0m\u001b[1;33m,\u001b[0m \u001b[0mlevel\u001b[0m\u001b[1;33m=\u001b[0m\u001b[1;36m0\u001b[0m\u001b[1;33m)\u001b[0m\u001b[1;33m:\u001b[0m\u001b[1;33m\u001b[0m\u001b[1;33m\u001b[0m\u001b[0m\n",
      "\u001b[1;32m~\\Anaconda3\\envs\\brian\\lib\\site-packages\\brian2\\core\\base.py\u001b[0m in \u001b[0;36mdevice_override_decorated_function\u001b[1;34m(*args, **kwds)\u001b[0m\n\u001b[0;32m    278\u001b[0m                 \u001b[1;32mreturn\u001b[0m \u001b[0mgetattr\u001b[0m\u001b[1;33m(\u001b[0m\u001b[0mcurdev\u001b[0m\u001b[1;33m,\u001b[0m \u001b[0mname\u001b[0m\u001b[1;33m)\u001b[0m\u001b[1;33m(\u001b[0m\u001b[1;33m*\u001b[0m\u001b[0margs\u001b[0m\u001b[1;33m,\u001b[0m \u001b[1;33m**\u001b[0m\u001b[0mkwds\u001b[0m\u001b[1;33m)\u001b[0m\u001b[1;33m\u001b[0m\u001b[1;33m\u001b[0m\u001b[0m\n\u001b[0;32m    279\u001b[0m             \u001b[1;32melse\u001b[0m\u001b[1;33m:\u001b[0m\u001b[1;33m\u001b[0m\u001b[1;33m\u001b[0m\u001b[0m\n\u001b[1;32m--> 280\u001b[1;33m                 \u001b[1;32mreturn\u001b[0m \u001b[0mfunc\u001b[0m\u001b[1;33m(\u001b[0m\u001b[1;33m*\u001b[0m\u001b[0margs\u001b[0m\u001b[1;33m,\u001b[0m \u001b[1;33m**\u001b[0m\u001b[0mkwds\u001b[0m\u001b[1;33m)\u001b[0m\u001b[1;33m\u001b[0m\u001b[1;33m\u001b[0m\u001b[0m\n\u001b[0m\u001b[0;32m    281\u001b[0m \u001b[1;33m\u001b[0m\u001b[0m\n\u001b[0;32m    282\u001b[0m         \u001b[0mdevice_override_decorated_function\u001b[0m\u001b[1;33m.\u001b[0m\u001b[0m__doc__\u001b[0m \u001b[1;33m=\u001b[0m \u001b[0mfunc\u001b[0m\u001b[1;33m.\u001b[0m\u001b[0m__doc__\u001b[0m\u001b[1;33m\u001b[0m\u001b[1;33m\u001b[0m\u001b[0m\n",
      "\u001b[1;32m~\\Anaconda3\\envs\\brian\\lib\\site-packages\\brian2\\units\\fundamentalunits.py\u001b[0m in \u001b[0;36mnew_f\u001b[1;34m(*args, **kwds)\u001b[0m\n\u001b[0;32m   2390\u001b[0m                                                      get_dimensions(newkeyset[k]))\n\u001b[0;32m   2391\u001b[0m \u001b[1;33m\u001b[0m\u001b[0m\n\u001b[1;32m-> 2392\u001b[1;33m             \u001b[0mresult\u001b[0m \u001b[1;33m=\u001b[0m \u001b[0mf\u001b[0m\u001b[1;33m(\u001b[0m\u001b[1;33m*\u001b[0m\u001b[0margs\u001b[0m\u001b[1;33m,\u001b[0m \u001b[1;33m**\u001b[0m\u001b[0mkwds\u001b[0m\u001b[1;33m)\u001b[0m\u001b[1;33m\u001b[0m\u001b[1;33m\u001b[0m\u001b[0m\n\u001b[0m\u001b[0;32m   2393\u001b[0m             \u001b[1;32mif\u001b[0m \u001b[1;34m'result'\u001b[0m \u001b[1;32min\u001b[0m \u001b[0mau\u001b[0m\u001b[1;33m:\u001b[0m\u001b[1;33m\u001b[0m\u001b[1;33m\u001b[0m\u001b[0m\n\u001b[0;32m   2394\u001b[0m                 \u001b[1;32mif\u001b[0m \u001b[0mau\u001b[0m\u001b[1;33m[\u001b[0m\u001b[1;34m'result'\u001b[0m\u001b[1;33m]\u001b[0m \u001b[1;33m==\u001b[0m \u001b[0mbool\u001b[0m\u001b[1;33m:\u001b[0m\u001b[1;33m\u001b[0m\u001b[1;33m\u001b[0m\u001b[0m\n",
      "\u001b[1;32m~\\Anaconda3\\envs\\brian\\lib\\site-packages\\brian2\\core\\network.py\u001b[0m in \u001b[0;36mrun\u001b[1;34m(self, duration, report, report_period, namespace, profile, level)\u001b[0m\n\u001b[0;32m   1097\u001b[0m                     \u001b[0mtimestep\u001b[0m\u001b[1;33m,\u001b[0m \u001b[0mt\u001b[0m\u001b[1;33m,\u001b[0m \u001b[0mdt\u001b[0m \u001b[1;33m=\u001b[0m \u001b[0mself\u001b[0m\u001b[1;33m.\u001b[0m\u001b[0m_clock_variables\u001b[0m\u001b[1;33m[\u001b[0m\u001b[0mc\u001b[0m\u001b[1;33m]\u001b[0m\u001b[1;33m\u001b[0m\u001b[1;33m\u001b[0m\u001b[0m\n\u001b[0;32m   1098\u001b[0m                     \u001b[0mtimestep\u001b[0m\u001b[1;33m[\u001b[0m\u001b[1;36m0\u001b[0m\u001b[1;33m]\u001b[0m \u001b[1;33m+=\u001b[0m \u001b[1;36m1\u001b[0m\u001b[1;33m\u001b[0m\u001b[1;33m\u001b[0m\u001b[0m\n\u001b[1;32m-> 1099\u001b[1;33m                     \u001b[0mt\u001b[0m\u001b[1;33m[\u001b[0m\u001b[1;36m0\u001b[0m\u001b[1;33m]\u001b[0m \u001b[1;33m=\u001b[0m \u001b[0mtimestep\u001b[0m\u001b[1;33m[\u001b[0m\u001b[1;36m0\u001b[0m\u001b[1;33m]\u001b[0m \u001b[1;33m*\u001b[0m \u001b[0mdt\u001b[0m\u001b[1;33m[\u001b[0m\u001b[1;36m0\u001b[0m\u001b[1;33m]\u001b[0m\u001b[1;33m\u001b[0m\u001b[1;33m\u001b[0m\u001b[0m\n\u001b[0m\u001b[0;32m   1100\u001b[0m                 \u001b[1;31m# find the next clocks to be updated. The < operator for Clock\u001b[0m\u001b[1;33m\u001b[0m\u001b[1;33m\u001b[0m\u001b[1;33m\u001b[0m\u001b[0m\n\u001b[0;32m   1101\u001b[0m                 \u001b[1;31m# determines that the first clock to be updated should be the one\u001b[0m\u001b[1;33m\u001b[0m\u001b[1;33m\u001b[0m\u001b[1;33m\u001b[0m\u001b[0m\n",
      "\u001b[1;31mKeyboardInterrupt\u001b[0m: "
     ]
    }
   ],
   "source": [
    "# Create Noise Type\n",
    "# Give a name for your noise - be precise to make it easy to detect what type it is\n",
    "# Example 'NoiseConst_2nA' or 'NoiseDS_2A10Hz_9A1Hz'\n",
    "namenoise = '4Hz_8Hz_pt2_20ssaturation_spiking'\n",
    "\n",
    "# extra step to make a new file with the same name only with 'SimParams.mat' added\n",
    "#simparameter=list(namenoise)\n",
    "#simparameter.append('_SimParams.mat')\n",
    "#simparameter=\"\".join(simparameter)\n",
    "\n",
    "## input of NoiseGenerator for double sine is :\n",
    "# (amount of noise sources, 'DS', [offset sine1,offset sine2,amplitude sine1 (nA), frequency sine1(Hz),,\n",
    "#amplitude sine2, frequency sine2], duration in ms, name of the file)\n",
    "\n",
    "## input of NoiseGenerator for OU is :\n",
    "# (amount of noise sources, 'OU', [initial I, initial I0, sigma], duration in ms, name of the file)\n",
    "\n",
    "## input of NoiseGenerator Constant value :\n",
    "# (amount, 'const',[constant value in nA], duration in ms, name of the file)\n",
    "\n",
    "Noise_t,Noise_I,N_Noise=NoiseGenerator(2,'DS',[0.2,0.2    # offset in nA\n",
    "                                               ,0.0,0.0 # amplitude in nA\n",
    "                                               ,4,8   # frequency in Hz\n",
    "                                              ],20000,20000,\n",
    "                                       namenoise)\n",
    "\n",
    "#Noise_t,Noise_I,N_Noise=NoiseGenerator(5,'DS',[1 ,0.5, 0, -0.5, -1,     #offsets in nA\n",
    "#                                              1, 0.5, 0, 0.5, 1, #amplitude in nA\n",
    "#                                              20, 2, 2, 20, 2]         # frequency in Hz\n",
    "#                                              ,2500,namenoise,simparameter)\n",
    "\n",
    "#Noise_const15 = NoiseGenerator(2,'const',[1.5],10,'Noise_const15')\n"
   ]
  },
  {
   "cell_type": "code",
   "execution_count": null,
   "metadata": {},
   "outputs": [],
   "source": [
    "SimParams = {}\n",
    "######################## Save\n",
    "SimParams['saving'] = 'yes' #'yes','no'\n",
    "######################## plot\n",
    "SimParams['plotting'] = 'yes' #'yes','no'\n",
    "######################## Experiment length\n",
    "SimParams['dt'] = 0.025*ms\n",
    "SimParams['exp_runtime'] = asarray(size(Noise_t)*SimParams['dt'])\n",
    "#print(type(SimParams['exp_runtime']*second))\n",
    "######################## Neuronal responses to run. \n",
    "SimParams['IO_response']='both' #'oscillatory', 'non', 'spiking', 'both' \n",
    "SimParams['N_Cells_PC'] = 10\n",
    "SimParams['N_Cells_DCN'] = 20\n",
    "SimParams['N_Cells_IO'] = 20\n",
    "name = namenoise+'SimParam.pickle'\n",
    "print(SimParams)\n",
    "######################## Saving SimParams\n",
    "with open(name, 'wb') as sims:\n",
    "    pickle.dump(SimParams,sims, pickle.HIGHEST_PROTOCOL)\n",
    "#sio.savemat('SimParams.mat', mdict={'SimParams': SimParams})\n"
   ]
  },
  {
   "cell_type": "code",
   "execution_count": null,
   "metadata": {
    "scrolled": true
   },
   "outputs": [],
   "source": [
    "#from E_Synapses_NoPlasticity import *\n",
    "from E_New_Plasticity import *\n",
    "#visualise(S_Coupled_noSTDP)\n",
    "#visualise(DCN_PC_Synapse_Coupled_noSTDP)\n",
    "#visualise(DCN_PC_Synapse_Uncoupled_noSTD"
   ]
  },
  {
   "cell_type": "code",
   "execution_count": null,
   "metadata": {
    "scrolled": true
   },
   "outputs": [],
   "source": [
    "# run pt1\n",
    "run(exp_runtime,report='text')"
   ]
  },
  {
   "cell_type": "code",
   "execution_count": null,
   "metadata": {},
   "outputs": [],
   "source": []
  },
  {
   "cell_type": "code",
   "execution_count": null,
   "metadata": {
    "scrolled": false
   },
   "outputs": [],
   "source": [
    "from G_Plot_Plasticity import *"
   ]
  },
  {
   "cell_type": "code",
   "execution_count": null,
   "metadata": {},
   "outputs": [],
   "source": [
    "#from F_save_data_Plasticity import *"
   ]
  },
  {
   "cell_type": "code",
   "execution_count": null,
   "metadata": {
    "scrolled": false
   },
   "outputs": [],
   "source": []
  },
  {
   "cell_type": "code",
   "execution_count": null,
   "metadata": {},
   "outputs": [],
   "source": [
    "from F_save_data_Plasticity import *"
   ]
  },
  {
   "cell_type": "code",
   "execution_count": null,
   "metadata": {
    "scrolled": false
   },
   "outputs": [],
   "source": [
    "%matplotlib notebook\n",
    "#print(y)\n",
    "y_post = np.append(np.zeros(1000),np.ones(59000))\n",
    "print(y_post)\n",
    "print(mon_N_PC_Uncoupled.w_IO_uncoupled)\n",
    "x=np.linspace(0,len(y_post),len(y_post))\n",
    "print(x)\n",
    "plt.figure()\n",
    "#plt.title('distribution uncoupled')\n",
    "for k in range(1,2):\n",
    "    x= np.abs(mon_N_PC_Uncoupled.weight_IO[k])/(np.abs(mon_N_PC_Uncoupled.weight_IO[k])+mon_N_PC_Uncoupled.weight_PC[k])\n",
    "    x2 =1-x\n",
    "\n",
    "    plt.plot(x)\n",
    "    plt.plot(x2)\n",
    "    #plt.plot(mon_N_PC_Uncoupled.f_lt_PC_uncoupled[k],color='red')\n",
    "    #plt.plot(mon_N_PC_Uncoupled.f_st_PC_uncoupled[k],color='black')\n",
    "    #plt.scatter(x,mon_N_PC_Coupled.freq_dep[k])\n",
    "    #plt.scatter(x,mon_N_PC_Uncoupled.freq_dep[k])\n",
    "    #plt.plot(mon_N_PC_Coupled.f_st_PC_coupled[k],color='black')\n",
    "plt.xlim([0,30000])    \n",
    "#plt.legend(['w io coupled', 'w pc coupled'])\n",
    "plt.show()\n",
    "print('mean x',np.nanmean(x))\n",
    "print('std x',np.nanstd(x))\n",
    "plt.figure()\n",
    "#plt.title('distribution uncoupled')\n",
    "for k in range(1,20):\n",
    "\n",
    "    plt.plot(mon_N_PC_Coupled.tau[k],color='green')\n",
    "    plt.plot(mon_N_PC_Uncoupled.tau[k],color='red')\n",
    "    \n",
    "    #plt.plot(mon_N_PC_Uncoupled.w_PC_uncoupled[k],color='blue')\n",
    "plt.legend(['w pc unc', 'w io unc'])\n",
    "plt.show()\n",
    "\n",
    "#plt.title('distribution uncoupled')\n",
    "plt.figure()\n",
    "for k in range(0,20):\n",
    "    #plt.plot(mon_N_PC_Uncoupled.f_lt_PC_uncoupled[k],color='red')\n",
    "    #plt.plot(mon_N_PC_Uncoupled.f_st_PC_uncoupled[k],color='black')\n",
    "    #plt.plot(mon_N_PC_Coupled.freq_dep[k],color='red')\n",
    "    #plt.plot(mon_N_PC_Coupled.weight_IO[k],color='black')\n",
    "    #plt.plot(mon_N_PC_Coupled.weight_PC[k],color='red')\n",
    "    plt.plot(mon_N_PC_Uncoupled.max_LTD_IO_uncoupled[k],color='red')\n",
    "\n",
    "    plt.plot(mon_N_PC_Coupled.max_LTD_IO_coupled[k],color='green')\n",
    "\n",
    "#plt.legend(['long term', 'short term'])\n",
    "plt.figure()\n",
    "plt.plot(mon_N_PC_Coupled.weight_IO[k],color='black')\n",
    "plt.plot(mon_N_PC_Coupled.weight_PC[k],color='red')\n",
    "plt.show()\n",
    "\n"
   ]
  },
  {
   "cell_type": "code",
   "execution_count": null,
   "metadata": {},
   "outputs": [],
   "source": [
    "from F_save_data_Plasticity import *"
   ]
  },
  {
   "cell_type": "code",
   "execution_count": null,
   "metadata": {
    "scrolled": true
   },
   "outputs": [],
   "source": [
    "plt.figure()\n",
    "#plt.title('distribution uncoupled')\n",
    "for k in range(0,10):\n",
    "    plt.plot(mon_N_PC_Uncoupled.f_lt_PC_uncoupled[k],color='red')\n",
    "    plt.plot(mon_N_PC_Coupled.f_lt_PC_coupled[k],color='black')\n",
    "plt.xlabel('time [ms]')\n",
    "plt.ylabel('frequency [Hz]')\n",
    "plt.show()\n",
    "plt.figure()\n",
    "#plt.title('distribution uncoupled')\n",
    "for k in range(0,10):\n",
    "    plt.plot(mon_N_PC_Uncoupled.mean_freq_IO_uncoupled[k],color='red')\n",
    "    plt.plot(mon_N_PC_Coupled.mean_freq_IO_coupled[k],color='black')\n",
    "plt.xlabel('time [ms]')\n",
    "plt.ylabel('frequency [Hz]')\n",
    "plt.show()\n",
    "plt.figure()\n",
    "#plt.title('distribution uncoupled')\n",
    "for k in range(0,10):\n",
    "    plt.plot(mon_N_PC_Uncoupled.max_LTD_IO_uncoupled[k],color='red')\n",
    "    plt.plot(mon_N_PC_Coupled.max_LTD_IO_coupled[k],color='black')\n",
    "plt.xlabel('time [ms]')\n",
    "plt.ylabel('frequency [Hz]')\n",
    "plt.show()\n",
    "plt.figure()\n",
    "plt.title('PC moving average')\n",
    "for k in range(0,1):\n",
    "    plt.plot(mon_N_PC_Coupled.y[k],color='red')\n",
    "    #plt.plot(mon_N_PC_Coupled.f_st_PC[k],color='black')\n",
    "plt.xlabel('time [ms]')\n",
    "plt.ylabel('frequency [Hz]')\n",
    "plt.show()\n",
    "plt.figure()\n",
    "plt.title('IO moving average')\n",
    "for p in range(0,n_IO):\n",
    "    plt.plot(mon_N_PC_Coupled.f_lt_IO[p],color='red')\n",
    "    plt.plot(mon_N_PC_Coupled.f_st_IO[p], color='black')\n",
    "plt.legend(['long term','short term'])\n",
    "plt.xlabel('time [ms]')\n",
    "plt.ylabel('frequency [Hz]')\n",
    "\n",
    "plt.figure()\n",
    "plt.title('Difference in moving average IO (short term - long term)')\n",
    "#for p in range(0,n_IO):\n",
    "#    difio=mon_N_PC_Coupled.f_st_IO[p]-mon_N_PC_Coupled.f_lt_IO[p]\n",
    "#    idxio = (difio>0).astype(float)\n",
    "#    procentage_LTD = sum(idxio)/1000\n",
    "#    print('depression %',procentage_LTD)\n",
    "#    plt.plot(mon_N_PC_Coupled.f_st_IO[p]-mon_N_PC_Coupled.f_lt_IO[p])\n",
    "#plt.figure()\n",
    "for p in range(0,10):\n",
    "    difio=mon_N_PC_Coupled.f_st_IO[p]-mon_N_PC_Coupled.f_lt_IO[p]\n",
    "\n",
    "    dif=mon_N_PC_Coupled.f_st_PC[p]-mon_N_PC_Coupled.f_lt_PC[p]\n",
    "    idx = (dif>0).astype(float)\n",
    "    #plt.plot(idx)\n",
    "    #plt.ylim([0,1.1])\n",
    "    procentage_LTP = sum(idx)/1000\n",
    "    plt.plot(dif)\n",
    "    plt.plot(difio)\n",
    "    print('potentiated %',procentage_LTP)\n",
    "print(mon_N_PC_Coupled.f_lt_IO.shape)"
   ]
  },
  {
   "cell_type": "code",
   "execution_count": null,
   "metadata": {},
   "outputs": [],
   "source": [
    "print(np.floor(-0.1))"
   ]
  },
  {
   "cell_type": "code",
   "execution_count": null,
   "metadata": {
    "scrolled": false
   },
   "outputs": [],
   "source": [
    "neuron = 0\n",
    "ex = 2000\n",
    "wpc = mon_N_PC_Coupled.weight_PC[neuron]\n",
    "wio = mon_N_PC_Coupled.weight_IO[neuron]\n",
    "maxDelay = 100\n",
    "gr = (1-1/(1+exp(-ex*(wpc+np.abs(wio)-0.3*0.5))))\n",
    "prop= (np.abs(wio)/(np.abs(wio)+wpc))\n",
    "prop2=(np.abs(wpc)/(np.abs(wio)+wpc))\n",
    "tauIO = maxDelay*(np.abs(wio)/(np.abs(wio)+wpc))*gr\n",
    "tauPC = maxDelay*(np.abs(wpc)/(np.abs(wio)+wpc))*gr\n",
    "\n",
    "fig, axs = plt.subplots(4,1, figsize=(10,20))\n",
    "\n",
    "ax1 = plt.subplot(4,1,1)\n",
    "plt.plot(tauPC)\n",
    "plt.plot(tauIO)\n",
    "\n",
    "ax2 = plt.subplot(4,1,2)\n",
    "plt.plot(wpc)\n",
    "plt.plot(wio)\n",
    "\n",
    "ax3 = plt.subplot(4,1,3)\n",
    "plt.plot(prop2)\n",
    "plt.plot(prop)\n",
    "plt.show()"
   ]
  },
  {
   "cell_type": "code",
   "execution_count": null,
   "metadata": {},
   "outputs": [],
   "source": [
    "x= np.linspace(0,20,10000)\n",
    "sin1 = np.sin(x)\n",
    "sin2 = np.sin(x*3)\n",
    "neu = [2.5,5,14,18]\n",
    "yPC = np.ones(len(neu))\n",
    "\n",
    "f, a =plt.subplots(2,1, figsize=(20,15))\n",
    "ax=plt.subplot(211)\n",
    "plt.plot(x,sin1,linewidth=4)\n",
    "for k in neu:\n",
    "    plt.axvline(x=k,color='r',linestyle='--')\n",
    "plt.ylabel('Input current [nA]')\n",
    "plt.subplot(212,sharex=ax)\n",
    "plt.scatter(x=neu,y=yPC,marker='|', color='black',s=1000)\n",
    "plt.xlabel('time [s]')\n",
    "#plt.xlim([0,20])\n",
    "plt.show()\n",
    "plt.figure()\n",
    "plt.plot(x,sin2,linewidth=3)\n",
    "plt.show()"
   ]
  },
  {
   "cell_type": "code",
   "execution_count": null,
   "metadata": {},
   "outputs": [],
   "source": []
  }
 ],
 "metadata": {
  "kernelspec": {
   "display_name": "Python 3",
   "language": "python",
   "name": "python3"
  },
  "language_info": {
   "codemirror_mode": {
    "name": "ipython",
    "version": 3
   },
   "file_extension": ".py",
   "mimetype": "text/x-python",
   "name": "python",
   "nbconvert_exporter": "python",
   "pygments_lexer": "ipython3",
   "version": "3.6.7"
  }
 },
 "nbformat": 4,
 "nbformat_minor": 2
}
