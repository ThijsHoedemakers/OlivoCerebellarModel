{
 "cells": [
  {
   "cell_type": "code",
   "execution_count": 1,
   "metadata": {},
   "outputs": [],
   "source": [
    "%reset -f\n",
    "from A_Functions import *"
   ]
  },
  {
   "cell_type": "code",
   "execution_count": 2,
   "metadata": {
    "scrolled": false
   },
   "outputs": [
    {
     "name": "stdout",
     "output_type": "stream",
     "text": [
      "Noise input is of type double sine\n",
      "Data is saved\n"
     ]
    }
   ],
   "source": [
    "# Create Noise Type\n",
    "# Give a name for your noise - be precise to make it easy to detect what type it is\n",
    "# Example 'NoiseConst_2nA' or 'NoiseDS_2A10Hz_9A1Hz'\n",
    "namenoise = 'Plasticity_Rule_test'\n",
    "\n",
    "# extra step to make a new file with the same name only with 'SimParams.mat' added\n",
    "#simparameter=list(namenoise)\n",
    "#simparameter.append('_SimParams.mat')\n",
    "#simparameter=\"\".join(simparameter)\n",
    "\n",
    "## input of NoiseGenerator for double sine is :\n",
    "# (amount of noise sources, 'DS', [offset sine1,offset sine2,amplitude sine1 (nA), frequency sine1(Hz),,\n",
    "#amplitude sine2, frequency sine2], duration in ms, name of the file)\n",
    "\n",
    "## input of NoiseGenerator for OU is :\n",
    "# (amount of noise sources, 'OU', [initial I, initial I0, sigma], duration in ms, name of the file)\n",
    "\n",
    "## input of NoiseGenerator Constant value :\n",
    "# (amount, 'const',[constant value in nA], duration in ms, name of the file)\n",
    "\n",
    "Noise_t,Noise_I,N_Noise=NoiseGenerator(2,'DS',[0.2,0.2    # offset in nA\n",
    "                                               ,0.2,0.2 # amplitude in nA\n",
    "                                               ,2,20   # frequency in Hz\n",
    "                                              ],5000,namenoise)\n",
    "\n",
    "#Noise_t,Noise_I,N_Noise=NoiseGenerator(5,'DS',[1 ,0.5, 0, -0.5, -1,     #offsets in nA\n",
    "#                                              1, 0.5, 0, 0.5, 1, #amplitude in nA\n",
    "#                                              20, 2, 2, 20, 2]         # frequency in Hz\n",
    "#                                              ,2500,namenoise,simparameter)\n",
    "\n",
    "#Noise_const15 = NoiseGenerator(2,'const',[1.5],10,'Noise_const15')\n"
   ]
  },
  {
   "cell_type": "code",
   "execution_count": 3,
   "metadata": {},
   "outputs": [
    {
     "name": "stdout",
     "output_type": "stream",
     "text": [
      "{'saving': 'yes', 'plotting': 'yes', 'dt': 25. * usecond, 'exp_runtime': array(5.), 'IO_response': 'both', 'N_Cells_PC': 10, 'N_Cells_DCN': 20, 'N_Cells_IO': 20}\n"
     ]
    }
   ],
   "source": [
    "SimParams = {}\n",
    "######################## Save\n",
    "SimParams['saving'] = 'yes' #'yes','no'\n",
    "######################## plot\n",
    "SimParams['plotting'] = 'yes' #'yes','no'\n",
    "######################## Experiment length\n",
    "SimParams['dt'] = 0.025*ms\n",
    "SimParams['exp_runtime'] = asarray(size(Noise_t)*SimParams['dt'])\n",
    "#print(type(SimParams['exp_runtime']*second))\n",
    "######################## Neuronal responses to run. \n",
    "SimParams['IO_response']='both' #'oscillatory', 'non', 'spiking', 'both' \n",
    "SimParams['N_Cells_PC'] = 10\n",
    "SimParams['N_Cells_DCN'] = 20\n",
    "SimParams['N_Cells_IO'] = 20\n",
    "name = namenoise+'SimParam.pickle'\n",
    "print(SimParams)\n",
    "######################## Saving SimParams\n",
    "with open(name, 'wb') as sims:\n",
    "    pickle.dump(SimParams,sims, pickle.HIGHEST_PROTOCOL)\n",
    "#sio.savemat('SimParams.mat', mdict={'SimParams': SimParams})\n"
   ]
  },
  {
   "cell_type": "code",
   "execution_count": 4,
   "metadata": {
    "scrolled": false
   },
   "outputs": [
    {
     "name": "stdout",
     "output_type": "stream",
     "text": [
      "loading went fine\n",
      "intrinsic current = <PC_Uncoupled_STDP.I_intrinsic: array([2., 2., 2., 2., 2., 2., 2., 2., 2., 2.]) * namp>\n",
      "number of IO 20\n",
      "nr of noise is 2\n",
      "offset"
     ]
    },
    {
     "name": "stderr",
     "output_type": "stream",
     "text": [
      "WARNING    C:\\Users\\thoed\\OneDrive\\Documenten\\Universiteit_Delft\\master\\TheModelPlasticity\\ModelPlasticity\\E_Synapses_Plasticity.py:133: RuntimeWarning: invalid value encountered in true_divide\n",
      "  reshaped_weight = norm_coupled/ column_sum[np.newaxis,:]\n",
      " [py.warnings]\n"
     ]
    },
    {
     "name": "stdout",
     "output_type": "stream",
     "text": [
      " [0.2 0.2 0.2 0.2 0.2 0.2 0.2 0.2 0.2 0.2 0.2 0.2 0.2 0.2 0.2 0.2 0.2 0.2\n",
      " 0.2 0.2] ampl [0.2 0.2 0.2 0.2 0.2 0.2 0.2 0.2 0.2 0.2 0.2 0.2 0.2 0.2 0.2 0.2 0.2 0.2\n",
      " 0.2 0.2] freq [ 2.  2.  2.  2.  2.  2.  2.  2.  2.  2. 20. 20. 20. 20. 20. 20. 20. 20.\n",
      " 20. 20.]\n",
      "new weights <dummy_Coupled.weight: array([0.5, 0.5, 0.5, 0.5, 0.5, 0.5, 0.5, 0.5, 0.5, 0.5, 0.5, 0.5, 0.5,\n",
      "       0.5, 0.5, 0.5, 0.5, 0.5, 0.5, 0.5])>\n"
     ]
    },
    {
     "name": "stderr",
     "output_type": "stream",
     "text": [
      "WARNING    The expression \"(conn_target - noise_source) / N_Cells_PC\" divides two integer values. In previous versions of Brian, this would have used either an integer (\"flooring\") or a floating point division, depending on the Python version and the code generation target. In the current version, it always uses a floating point division. Explicitly ask for an  integer division (\"//\"), or turn one of the operands into a floating point value (e.g. replace \"1/2\" by \"1.0/2\") to no longer receive this warning. [brian2.parsing.bast.floating_point_division]\n"
     ]
    },
    {
     "name": "stdout",
     "output_type": "stream",
     "text": [
      "offset [0.2 0.2 0.2 0.2 0.2 0.2 0.2 0.2 0.2 0.2 0.2 0.2 0.2 0.2 0.2 0.2 0.2 0.2\n",
      " 0.2 0.2] ampl [0.2 0.2 0.2 0.2 0.2 0.2 0.2 0.2 0.2 0.2 0.2 0.2 0.2 0.2 0.2 0.2 0.2 0.2\n",
      " 0.2 0.2] freq [ 2.  2.  2.  2.  2.  2.  2.  2.  2.  2. 20. 20. 20. 20. 20. 20. 20. 20.\n",
      " 20. 20.]\n"
     ]
    }
   ],
   "source": [
    "#from E_Synapses_NoPlasticity import *\n",
    "from E_New_Plasticity import *\n",
    "#visualise(S_Coupled_noSTDP)\n",
    "#visualise(DCN_PC_Synapse_Coupled_noSTDP)\n",
    "#visualise(DCN_PC_Synapse_Uncoupled_noSTD"
   ]
  },
  {
   "cell_type": "code",
   "execution_count": 5,
   "metadata": {
    "scrolled": false
   },
   "outputs": [
    {
     "name": "stdout",
     "output_type": "stream",
     "text": [
      "Starting simulation at t=0. s for a duration of 5. s\n",
      "0.373025 s (7%) simulated in 10s, estimated 2m 4s remaining.\n",
      "0.73905 s (14%) simulated in 20s, estimated 1m 55s remaining.\n",
      "1.04615 s (20%) simulated in 30s, estimated 1m 53s remaining.\n",
      "1.197025 s (23%) simulated in 40s, estimated 2m 7s remaining.\n",
      "1.3482 s (26%) simulated in 50s, estimated 2m 16s remaining.\n",
      "1.5004 s (30%) simulated in 1m 0s, estimated 2m 20s remaining.\n",
      "1.65145 s (33%) simulated in 1m 10s, estimated 2m 22s remaining.\n",
      "1.806025 s (36%) simulated in 1m 20s, estimated 2m 22s remaining.\n",
      "1.956025 s (39%) simulated in 1m 30s, estimated 2m 20s remaining.\n",
      "2.105025 s (42%) simulated in 1m 40s, estimated 2m 18s remaining.\n",
      "2.259025 s (45%) simulated in 1m 50s, estimated 2m 14s remaining.\n",
      "2.410025 s (48%) simulated in 2m 0s, estimated 2m 9s remaining.\n",
      "2.559025 s (51%) simulated in 2m 10s, estimated 2m 4s remaining.\n",
      "2.712675 s (54%) simulated in 2m 20s, estimated 1m 58s remaining.\n",
      "2.863025 s (57%) simulated in 2m 30s, estimated 1m 52s remaining.\n",
      "3.017025 s (60%) simulated in 2m 40s, estimated 1m 45s remaining.\n",
      "3.168025 s (63%) simulated in 2m 50s, estimated 1m 38s remaining.\n",
      "3.319025 s (66%) simulated in 3m 0s, estimated 1m 31s remaining.\n",
      "3.472025 s (69%) simulated in 3m 10s, estimated 1m 24s remaining.\n",
      "3.622025 s (72%) simulated in 3m 20s, estimated 1m 16s remaining.\n",
      "3.77065 s (75%) simulated in 3m 30s, estimated 1m 9s remaining.\n",
      "3.921025 s (78%) simulated in 3m 40s, estimated 1m 1s remaining.\n",
      "4.072025 s (81%) simulated in 3m 50s, estimated 52s remaining.\n",
      "4.222025 s (84%) simulated in 4m 0s, estimated 44s remaining.\n",
      "4.372025 s (87%) simulated in 4m 10s, estimated 36s remaining.\n",
      "4.522025 s (90%) simulated in 4m 20s, estimated 28s remaining.\n",
      "4.674525 s (93%) simulated in 4m 30s, estimated 19s remaining.\n",
      "4.823025 s (96%) simulated in 4m 40s, estimated 10s remaining.\n",
      "4.972025 s (99%) simulated in 4m 50s, estimated 2s remaining.\n",
      "5. s (100%) simulated in 4m 52s\n"
     ]
    }
   ],
   "source": [
    "run(exp_runtime,report='text')"
   ]
  },
  {
   "cell_type": "code",
   "execution_count": 6,
   "metadata": {},
   "outputs": [],
   "source": [
    "#run(exp_runtime,report='text')"
   ]
  },
  {
   "cell_type": "code",
   "execution_count": 13,
   "metadata": {
    "scrolled": false
   },
   "outputs": [],
   "source": [
    "from G_Plot_Plasticity import *"
   ]
  },
  {
   "cell_type": "code",
   "execution_count": 14,
   "metadata": {},
   "outputs": [
    {
     "ename": "AttributeError",
     "evalue": "No attribute with name a_PC",
     "output_type": "error",
     "traceback": [
      "\u001b[1;31m---------------------------------------------------------------------------\u001b[0m",
      "\u001b[1;31mKeyError\u001b[0m                                  Traceback (most recent call last)",
      "\u001b[1;32m~\\Anaconda3\\envs\\brian\\lib\\site-packages\\brian2\\groups\\group.py\u001b[0m in \u001b[0;36mstate\u001b[1;34m(self, name, use_units, level)\u001b[0m\n\u001b[0;32m    358\u001b[0m         \u001b[1;32mtry\u001b[0m\u001b[1;33m:\u001b[0m\u001b[1;33m\u001b[0m\u001b[1;33m\u001b[0m\u001b[0m\n\u001b[1;32m--> 359\u001b[1;33m             \u001b[0mvar\u001b[0m \u001b[1;33m=\u001b[0m \u001b[0mself\u001b[0m\u001b[1;33m.\u001b[0m\u001b[0mvariables\u001b[0m\u001b[1;33m[\u001b[0m\u001b[0mname\u001b[0m\u001b[1;33m]\u001b[0m\u001b[1;33m\u001b[0m\u001b[1;33m\u001b[0m\u001b[0m\n\u001b[0m\u001b[0;32m    360\u001b[0m         \u001b[1;32mexcept\u001b[0m \u001b[0mKeyError\u001b[0m\u001b[1;33m:\u001b[0m\u001b[1;33m\u001b[0m\u001b[1;33m\u001b[0m\u001b[0m\n",
      "\u001b[1;32m~\\Anaconda3\\envs\\brian\\lib\\site-packages\\brian2\\core\\variables.py\u001b[0m in \u001b[0;36m__getitem__\u001b[1;34m(self, item)\u001b[0m\n\u001b[0;32m   1403\u001b[0m     \u001b[1;32mdef\u001b[0m \u001b[0m__getitem__\u001b[0m\u001b[1;33m(\u001b[0m\u001b[0mself\u001b[0m\u001b[1;33m,\u001b[0m \u001b[0mitem\u001b[0m\u001b[1;33m)\u001b[0m\u001b[1;33m:\u001b[0m\u001b[1;33m\u001b[0m\u001b[1;33m\u001b[0m\u001b[0m\n\u001b[1;32m-> 1404\u001b[1;33m         \u001b[1;32mreturn\u001b[0m \u001b[0mself\u001b[0m\u001b[1;33m.\u001b[0m\u001b[0m_variables\u001b[0m\u001b[1;33m[\u001b[0m\u001b[0mitem\u001b[0m\u001b[1;33m]\u001b[0m\u001b[1;33m\u001b[0m\u001b[1;33m\u001b[0m\u001b[0m\n\u001b[0m\u001b[0;32m   1405\u001b[0m \u001b[1;33m\u001b[0m\u001b[0m\n",
      "\u001b[1;31mKeyError\u001b[0m: 'a_PC'",
      "\nDuring handling of the above exception, another exception occurred:\n",
      "\u001b[1;31mKeyError\u001b[0m                                  Traceback (most recent call last)",
      "\u001b[1;32m~\\Anaconda3\\envs\\brian\\lib\\site-packages\\brian2\\groups\\group.py\u001b[0m in \u001b[0;36m__getattr__\u001b[1;34m(self, name)\u001b[0m\n\u001b[0;32m    394\u001b[0m                 \u001b[0muse_units\u001b[0m \u001b[1;33m=\u001b[0m \u001b[1;32mTrue\u001b[0m\u001b[1;33m\u001b[0m\u001b[1;33m\u001b[0m\u001b[0m\n\u001b[1;32m--> 395\u001b[1;33m             \u001b[1;32mreturn\u001b[0m \u001b[0mself\u001b[0m\u001b[1;33m.\u001b[0m\u001b[0mstate\u001b[0m\u001b[1;33m(\u001b[0m\u001b[0mname\u001b[0m\u001b[1;33m,\u001b[0m \u001b[0muse_units\u001b[0m\u001b[1;33m)\u001b[0m\u001b[1;33m\u001b[0m\u001b[1;33m\u001b[0m\u001b[0m\n\u001b[0m\u001b[0;32m    396\u001b[0m \u001b[1;33m\u001b[0m\u001b[0m\n",
      "\u001b[1;32m~\\Anaconda3\\envs\\brian\\lib\\site-packages\\brian2\\groups\\group.py\u001b[0m in \u001b[0;36mstate\u001b[1;34m(self, name, use_units, level)\u001b[0m\n\u001b[0;32m    360\u001b[0m         \u001b[1;32mexcept\u001b[0m \u001b[0mKeyError\u001b[0m\u001b[1;33m:\u001b[0m\u001b[1;33m\u001b[0m\u001b[1;33m\u001b[0m\u001b[0m\n\u001b[1;32m--> 361\u001b[1;33m             \u001b[1;32mraise\u001b[0m \u001b[0mKeyError\u001b[0m\u001b[1;33m(\u001b[0m\u001b[1;34m\"State variable \"\u001b[0m\u001b[1;33m+\u001b[0m\u001b[0mname\u001b[0m\u001b[1;33m+\u001b[0m\u001b[1;34m\" not found.\"\u001b[0m\u001b[1;33m)\u001b[0m\u001b[1;33m\u001b[0m\u001b[1;33m\u001b[0m\u001b[0m\n\u001b[0m\u001b[0;32m    362\u001b[0m \u001b[1;33m\u001b[0m\u001b[0m\n",
      "\u001b[1;31mKeyError\u001b[0m: 'State variable a_PC not found.'",
      "\nDuring handling of the above exception, another exception occurred:\n",
      "\u001b[1;31mAttributeError\u001b[0m                            Traceback (most recent call last)",
      "\u001b[1;32m<ipython-input-14-28a76d811c12>\u001b[0m in \u001b[0;36m<module>\u001b[1;34m\u001b[0m\n\u001b[1;32m----> 1\u001b[1;33m \u001b[1;32mfrom\u001b[0m \u001b[0mF_save_data_Plasticity\u001b[0m \u001b[1;32mimport\u001b[0m \u001b[1;33m*\u001b[0m\u001b[1;33m\u001b[0m\u001b[1;33m\u001b[0m\u001b[0m\n\u001b[0m",
      "\u001b[1;32m~\\OneDrive\\Documenten\\Universiteit_Delft\\master\\TheModelPlasticity\\ModelPlasticity\\F_save_data_Plasticity.py\u001b[0m in \u001b[0;36m<module>\u001b[1;34m\u001b[0m\n\u001b[0;32m     22\u001b[0m \u001b[1;31m### Plasticity Variables\u001b[0m\u001b[1;33m\u001b[0m\u001b[1;33m\u001b[0m\u001b[1;33m\u001b[0m\u001b[0m\n\u001b[0;32m     23\u001b[0m \u001b[1;33m\u001b[0m\u001b[0m\n\u001b[1;32m---> 24\u001b[1;33m \u001b[0mPV\u001b[0m\u001b[1;33m=\u001b[0m\u001b[1;33m{\u001b[0m\u001b[1;34m'a_PC_coupled'\u001b[0m\u001b[1;33m:\u001b[0m\u001b[0mmon_N_PC_Coupled\u001b[0m\u001b[1;33m.\u001b[0m\u001b[0ma_PC\u001b[0m\u001b[1;33m,\u001b[0m \u001b[1;34m'a_IO_coupled'\u001b[0m\u001b[1;33m:\u001b[0m\u001b[0mmon_N_PC_Coupled\u001b[0m\u001b[1;33m.\u001b[0m\u001b[0ma_IO\u001b[0m\u001b[1;33m,\u001b[0m \u001b[1;34m'weight_PC_coupled'\u001b[0m\u001b[1;33m:\u001b[0m\u001b[0mmon_N_PC_Coupled\u001b[0m\u001b[1;33m.\u001b[0m\u001b[0mweight_PC\u001b[0m\u001b[1;33m,\u001b[0m \u001b[1;34m'weight_IO_coupled'\u001b[0m\u001b[1;33m:\u001b[0m\u001b[0mmon_N_PC_Coupled\u001b[0m\u001b[1;33m.\u001b[0m\u001b[0mweight_IO\u001b[0m\u001b[1;33m,\u001b[0m\u001b[1;34m'delta_weight_coupled'\u001b[0m\u001b[1;33m:\u001b[0m\u001b[0mmon_N_PC_Coupled\u001b[0m\u001b[1;33m.\u001b[0m\u001b[0mdelta_weight\u001b[0m\u001b[1;33m,\u001b[0m \u001b[1;34m'new_weight_coupled'\u001b[0m\u001b[1;33m:\u001b[0m\u001b[0mmon_N_PC_Coupled\u001b[0m\u001b[1;33m.\u001b[0m\u001b[0mnew_weight\u001b[0m\u001b[1;33m,\u001b[0m\u001b[1;34m'a_PC_uncoupled'\u001b[0m\u001b[1;33m:\u001b[0m\u001b[0mmon_N_PC_Uncoupled\u001b[0m\u001b[1;33m.\u001b[0m\u001b[0ma_PC\u001b[0m\u001b[1;33m,\u001b[0m \u001b[1;34m'a_IO_uncoupled'\u001b[0m\u001b[1;33m:\u001b[0m\u001b[0mmon_N_PC_Uncoupled\u001b[0m\u001b[1;33m.\u001b[0m\u001b[0ma_IO\u001b[0m\u001b[1;33m,\u001b[0m \u001b[1;34m'weight_PC_uncoupled'\u001b[0m\u001b[1;33m:\u001b[0m \u001b[0mmon_N_PC_Uncoupled\u001b[0m\u001b[1;33m.\u001b[0m\u001b[0mweight_PC\u001b[0m\u001b[1;33m,\u001b[0m \u001b[1;34m'weight_IO_uncoupled'\u001b[0m\u001b[1;33m:\u001b[0m\u001b[0mmon_N_PC_Uncoupled\u001b[0m\u001b[1;33m.\u001b[0m\u001b[0mweight_IO\u001b[0m\u001b[1;33m,\u001b[0m \u001b[1;34m'delta_weight_uncoupled'\u001b[0m\u001b[1;33m:\u001b[0m\u001b[0mmon_N_PC_Uncoupled\u001b[0m\u001b[1;33m.\u001b[0m\u001b[0mdelta_weight\u001b[0m\u001b[1;33m,\u001b[0m \u001b[1;34m'new_weight_uncoupled'\u001b[0m\u001b[1;33m:\u001b[0m\u001b[0mmon_N_PC_Uncoupled\u001b[0m\u001b[1;33m.\u001b[0m\u001b[0mnew_weight\u001b[0m\u001b[1;33m}\u001b[0m\u001b[1;33m\u001b[0m\u001b[1;33m\u001b[0m\u001b[0m\n\u001b[0m\u001b[0;32m     25\u001b[0m \u001b[1;33m\u001b[0m\u001b[0m\n\u001b[0;32m     26\u001b[0m \u001b[1;32mwith\u001b[0m \u001b[0mopen\u001b[0m\u001b[1;33m(\u001b[0m\u001b[0mparam\u001b[0m\u001b[1;33m,\u001b[0m \u001b[1;34m'wb'\u001b[0m\u001b[1;33m)\u001b[0m \u001b[1;32mas\u001b[0m \u001b[0mpar\u001b[0m\u001b[1;33m:\u001b[0m\u001b[1;33m\u001b[0m\u001b[1;33m\u001b[0m\u001b[0m\n",
      "\u001b[1;32m~\\Anaconda3\\envs\\brian\\lib\\site-packages\\brian2\\monitors\\statemonitor.py\u001b[0m in \u001b[0;36m__getattr__\u001b[1;34m(self, item)\u001b[0m\n\u001b[0;32m    329\u001b[0m             \u001b[1;32mreturn\u001b[0m \u001b[0mself\u001b[0m\u001b[1;33m.\u001b[0m\u001b[0mvariables\u001b[0m\u001b[1;33m[\u001b[0m\u001b[0mitem\u001b[0m\u001b[1;33m[\u001b[0m\u001b[1;33m:\u001b[0m\u001b[1;33m-\u001b[0m\u001b[1;36m1\u001b[0m\u001b[1;33m]\u001b[0m\u001b[1;33m]\u001b[0m\u001b[1;33m.\u001b[0m\u001b[0mget_value\u001b[0m\u001b[1;33m(\u001b[0m\u001b[1;33m)\u001b[0m\u001b[1;33m.\u001b[0m\u001b[0mT\u001b[0m\u001b[1;33m\u001b[0m\u001b[1;33m\u001b[0m\u001b[0m\n\u001b[0;32m    330\u001b[0m         \u001b[1;32melse\u001b[0m\u001b[1;33m:\u001b[0m\u001b[1;33m\u001b[0m\u001b[1;33m\u001b[0m\u001b[0m\n\u001b[1;32m--> 331\u001b[1;33m             \u001b[1;32mreturn\u001b[0m \u001b[0mGroup\u001b[0m\u001b[1;33m.\u001b[0m\u001b[0m__getattr__\u001b[0m\u001b[1;33m(\u001b[0m\u001b[0mself\u001b[0m\u001b[1;33m,\u001b[0m \u001b[0mitem\u001b[0m\u001b[1;33m)\u001b[0m\u001b[1;33m\u001b[0m\u001b[1;33m\u001b[0m\u001b[0m\n\u001b[0m\u001b[0;32m    332\u001b[0m \u001b[1;33m\u001b[0m\u001b[0m\n\u001b[0;32m    333\u001b[0m     \u001b[1;32mdef\u001b[0m \u001b[0m__repr__\u001b[0m\u001b[1;33m(\u001b[0m\u001b[0mself\u001b[0m\u001b[1;33m)\u001b[0m\u001b[1;33m:\u001b[0m\u001b[1;33m\u001b[0m\u001b[1;33m\u001b[0m\u001b[0m\n",
      "\u001b[1;32m~\\Anaconda3\\envs\\brian\\lib\\site-packages\\brian2\\groups\\group.py\u001b[0m in \u001b[0;36m__getattr__\u001b[1;34m(self, name)\u001b[0m\n\u001b[0;32m    396\u001b[0m \u001b[1;33m\u001b[0m\u001b[0m\n\u001b[0;32m    397\u001b[0m         \u001b[1;32mexcept\u001b[0m \u001b[0mKeyError\u001b[0m\u001b[1;33m:\u001b[0m\u001b[1;33m\u001b[0m\u001b[1;33m\u001b[0m\u001b[0m\n\u001b[1;32m--> 398\u001b[1;33m             \u001b[1;32mraise\u001b[0m \u001b[0mAttributeError\u001b[0m\u001b[1;33m(\u001b[0m\u001b[1;34m'No attribute with name '\u001b[0m \u001b[1;33m+\u001b[0m \u001b[0mname\u001b[0m\u001b[1;33m)\u001b[0m\u001b[1;33m\u001b[0m\u001b[1;33m\u001b[0m\u001b[0m\n\u001b[0m\u001b[0;32m    399\u001b[0m \u001b[1;33m\u001b[0m\u001b[0m\n\u001b[0;32m    400\u001b[0m     \u001b[1;32mdef\u001b[0m \u001b[0m__setattr__\u001b[0m\u001b[1;33m(\u001b[0m\u001b[0mself\u001b[0m\u001b[1;33m,\u001b[0m \u001b[0mname\u001b[0m\u001b[1;33m,\u001b[0m \u001b[0mval\u001b[0m\u001b[1;33m,\u001b[0m \u001b[0mlevel\u001b[0m\u001b[1;33m=\u001b[0m\u001b[1;36m0\u001b[0m\u001b[1;33m)\u001b[0m\u001b[1;33m:\u001b[0m\u001b[1;33m\u001b[0m\u001b[1;33m\u001b[0m\u001b[0m\n",
      "\u001b[1;31mAttributeError\u001b[0m: No attribute with name a_PC"
     ]
    }
   ],
   "source": [
    "from F_save_data_Plasticity import *"
   ]
  },
  {
   "cell_type": "code",
   "execution_count": 15,
   "metadata": {
    "scrolled": false
   },
   "outputs": [],
   "source": [
    "from G_Plot_Plasticity import *"
   ]
  },
  {
   "cell_type": "code",
   "execution_count": null,
   "metadata": {
    "scrolled": true
   },
   "outputs": [],
   "source": [
    "#from G_Plot_Plasticity import *"
   ]
  },
  {
   "cell_type": "code",
   "execution_count": null,
   "metadata": {},
   "outputs": [],
   "source": [
    "#print(mon_N_PC_Coupled.max_LTD_IO_uncoupled[1])\n",
    "plt.figure()\n",
    "for k in range(0,20):\n",
    "    plt.plot(mon_N_PC_Coupled.freq_st_IO_coupled[k])\n",
    "plt.show()"
   ]
  },
  {
   "cell_type": "code",
   "execution_count": null,
   "metadata": {
    "scrolled": false
   },
   "outputs": [],
   "source": [
    "%matplotlib notebook\n",
    "\n",
    "plt.figure()\n",
    "#plt.title('distribution uncoupled')\n",
    "for k in range(0,10):\n",
    "    plt.plot(mon_N_PC_Uncoupled.freq_st_IO_uncoupled[k],color='red')\n",
    "    plt.plot(mon_N_PC_Coupled.f_lt_PC_uncoupled[k],color='black')\n",
    "plt.xlabel('time [ms]')\n",
    "plt.ylabel('frequency [Hz]')\n",
    "plt.show()\n",
    "plt.figure()\n",
    "#plt.title('distribution uncoupled')\n",
    "for k in range(0,10):\n",
    "    plt.plot(mon_N_PC_Uncoupled.f_lt_PC_uncoupled[k],color='red')\n",
    "    plt.plot(mon_N_PC_Coupled.f_lt_PC_coupled[k],color='black')\n",
    "plt.xlabel('time [ms]')\n",
    "plt.ylabel('frequency [Hz]')\n",
    "plt.show()\n",
    "plt.figure()\n",
    "#plt.title('distribution uncoupled')\n",
    "for k in range(0,10):\n",
    "    plt.plot(mon_N_PC_Uncoupled.mean_freq_IO_uncoupled[k],color='red')\n",
    "    plt.plot(mon_N_PC_Coupled.mean_freq_IO_coupled[k],color='black')\n",
    "plt.xlabel('time [ms]')\n",
    "plt.ylabel('frequency [Hz]')\n",
    "plt.show()\n",
    "plt.figure()\n",
    "#plt.title('distribution uncoupled')\n",
    "for k in range(0,10):\n",
    "    plt.plot(mon_N_PC_Uncoupled.max_LTD_IO_uncoupled[k],color='red')\n",
    "    plt.plot(mon_N_PC_Coupled.max_LTD_IO_coupled[k],color='black')\n",
    "plt.xlabel('time [ms]')\n",
    "plt.ylabel('frequency [Hz]')\n",
    "plt.show()\n"
   ]
  },
  {
   "cell_type": "code",
   "execution_count": null,
   "metadata": {},
   "outputs": [],
   "source": [
    "from F_save_data_Plasticity import *"
   ]
  },
  {
   "cell_type": "code",
   "execution_count": 16,
   "metadata": {
    "scrolled": false
   },
   "outputs": [
    {
     "ename": "AttributeError",
     "evalue": "No attribute with name y",
     "output_type": "error",
     "traceback": [
      "\u001b[1;31m---------------------------------------------------------------------------\u001b[0m",
      "\u001b[1;31mKeyError\u001b[0m                                  Traceback (most recent call last)",
      "\u001b[1;32m~\\Anaconda3\\envs\\brian\\lib\\site-packages\\brian2\\groups\\group.py\u001b[0m in \u001b[0;36mstate\u001b[1;34m(self, name, use_units, level)\u001b[0m\n\u001b[0;32m    358\u001b[0m         \u001b[1;32mtry\u001b[0m\u001b[1;33m:\u001b[0m\u001b[1;33m\u001b[0m\u001b[1;33m\u001b[0m\u001b[0m\n\u001b[1;32m--> 359\u001b[1;33m             \u001b[0mvar\u001b[0m \u001b[1;33m=\u001b[0m \u001b[0mself\u001b[0m\u001b[1;33m.\u001b[0m\u001b[0mvariables\u001b[0m\u001b[1;33m[\u001b[0m\u001b[0mname\u001b[0m\u001b[1;33m]\u001b[0m\u001b[1;33m\u001b[0m\u001b[1;33m\u001b[0m\u001b[0m\n\u001b[0m\u001b[0;32m    360\u001b[0m         \u001b[1;32mexcept\u001b[0m \u001b[0mKeyError\u001b[0m\u001b[1;33m:\u001b[0m\u001b[1;33m\u001b[0m\u001b[1;33m\u001b[0m\u001b[0m\n",
      "\u001b[1;32m~\\Anaconda3\\envs\\brian\\lib\\site-packages\\brian2\\core\\variables.py\u001b[0m in \u001b[0;36m__getitem__\u001b[1;34m(self, item)\u001b[0m\n\u001b[0;32m   1403\u001b[0m     \u001b[1;32mdef\u001b[0m \u001b[0m__getitem__\u001b[0m\u001b[1;33m(\u001b[0m\u001b[0mself\u001b[0m\u001b[1;33m,\u001b[0m \u001b[0mitem\u001b[0m\u001b[1;33m)\u001b[0m\u001b[1;33m:\u001b[0m\u001b[1;33m\u001b[0m\u001b[1;33m\u001b[0m\u001b[0m\n\u001b[1;32m-> 1404\u001b[1;33m         \u001b[1;32mreturn\u001b[0m \u001b[0mself\u001b[0m\u001b[1;33m.\u001b[0m\u001b[0m_variables\u001b[0m\u001b[1;33m[\u001b[0m\u001b[0mitem\u001b[0m\u001b[1;33m]\u001b[0m\u001b[1;33m\u001b[0m\u001b[1;33m\u001b[0m\u001b[0m\n\u001b[0m\u001b[0;32m   1405\u001b[0m \u001b[1;33m\u001b[0m\u001b[0m\n",
      "\u001b[1;31mKeyError\u001b[0m: 'y'",
      "\nDuring handling of the above exception, another exception occurred:\n",
      "\u001b[1;31mKeyError\u001b[0m                                  Traceback (most recent call last)",
      "\u001b[1;32m~\\Anaconda3\\envs\\brian\\lib\\site-packages\\brian2\\groups\\group.py\u001b[0m in \u001b[0;36m__getattr__\u001b[1;34m(self, name)\u001b[0m\n\u001b[0;32m    394\u001b[0m                 \u001b[0muse_units\u001b[0m \u001b[1;33m=\u001b[0m \u001b[1;32mTrue\u001b[0m\u001b[1;33m\u001b[0m\u001b[1;33m\u001b[0m\u001b[0m\n\u001b[1;32m--> 395\u001b[1;33m             \u001b[1;32mreturn\u001b[0m \u001b[0mself\u001b[0m\u001b[1;33m.\u001b[0m\u001b[0mstate\u001b[0m\u001b[1;33m(\u001b[0m\u001b[0mname\u001b[0m\u001b[1;33m,\u001b[0m \u001b[0muse_units\u001b[0m\u001b[1;33m)\u001b[0m\u001b[1;33m\u001b[0m\u001b[1;33m\u001b[0m\u001b[0m\n\u001b[0m\u001b[0;32m    396\u001b[0m \u001b[1;33m\u001b[0m\u001b[0m\n",
      "\u001b[1;32m~\\Anaconda3\\envs\\brian\\lib\\site-packages\\brian2\\groups\\group.py\u001b[0m in \u001b[0;36mstate\u001b[1;34m(self, name, use_units, level)\u001b[0m\n\u001b[0;32m    360\u001b[0m         \u001b[1;32mexcept\u001b[0m \u001b[0mKeyError\u001b[0m\u001b[1;33m:\u001b[0m\u001b[1;33m\u001b[0m\u001b[1;33m\u001b[0m\u001b[0m\n\u001b[1;32m--> 361\u001b[1;33m             \u001b[1;32mraise\u001b[0m \u001b[0mKeyError\u001b[0m\u001b[1;33m(\u001b[0m\u001b[1;34m\"State variable \"\u001b[0m\u001b[1;33m+\u001b[0m\u001b[0mname\u001b[0m\u001b[1;33m+\u001b[0m\u001b[1;34m\" not found.\"\u001b[0m\u001b[1;33m)\u001b[0m\u001b[1;33m\u001b[0m\u001b[1;33m\u001b[0m\u001b[0m\n\u001b[0m\u001b[0;32m    362\u001b[0m \u001b[1;33m\u001b[0m\u001b[0m\n",
      "\u001b[1;31mKeyError\u001b[0m: 'State variable y not found.'",
      "\nDuring handling of the above exception, another exception occurred:\n",
      "\u001b[1;31mAttributeError\u001b[0m                            Traceback (most recent call last)",
      "\u001b[1;32m<ipython-input-16-1d18a89a0119>\u001b[0m in \u001b[0;36m<module>\u001b[1;34m\u001b[0m\n\u001b[0;32m      2\u001b[0m \u001b[0mplt\u001b[0m\u001b[1;33m.\u001b[0m\u001b[0mtitle\u001b[0m\u001b[1;33m(\u001b[0m\u001b[1;34m'PC moving average'\u001b[0m\u001b[1;33m)\u001b[0m\u001b[1;33m\u001b[0m\u001b[1;33m\u001b[0m\u001b[0m\n\u001b[0;32m      3\u001b[0m \u001b[1;32mfor\u001b[0m \u001b[0mk\u001b[0m \u001b[1;32min\u001b[0m \u001b[0mrange\u001b[0m\u001b[1;33m(\u001b[0m\u001b[1;36m0\u001b[0m\u001b[1;33m,\u001b[0m\u001b[1;36m1\u001b[0m\u001b[1;33m)\u001b[0m\u001b[1;33m:\u001b[0m\u001b[1;33m\u001b[0m\u001b[1;33m\u001b[0m\u001b[0m\n\u001b[1;32m----> 4\u001b[1;33m     \u001b[0mplt\u001b[0m\u001b[1;33m.\u001b[0m\u001b[0mplot\u001b[0m\u001b[1;33m(\u001b[0m\u001b[0mmon_N_PC_Coupled\u001b[0m\u001b[1;33m.\u001b[0m\u001b[0my\u001b[0m\u001b[1;33m[\u001b[0m\u001b[0mk\u001b[0m\u001b[1;33m]\u001b[0m\u001b[1;33m,\u001b[0m\u001b[0mcolor\u001b[0m\u001b[1;33m=\u001b[0m\u001b[1;34m'red'\u001b[0m\u001b[1;33m)\u001b[0m\u001b[1;33m\u001b[0m\u001b[1;33m\u001b[0m\u001b[0m\n\u001b[0m\u001b[0;32m      5\u001b[0m     \u001b[1;31m#plt.plot(mon_N_PC_Coupled.f_st_PC[k],color='black')\u001b[0m\u001b[1;33m\u001b[0m\u001b[1;33m\u001b[0m\u001b[1;33m\u001b[0m\u001b[0m\n\u001b[0;32m      6\u001b[0m \u001b[0mplt\u001b[0m\u001b[1;33m.\u001b[0m\u001b[0mxlabel\u001b[0m\u001b[1;33m(\u001b[0m\u001b[1;34m'time [ms]'\u001b[0m\u001b[1;33m)\u001b[0m\u001b[1;33m\u001b[0m\u001b[1;33m\u001b[0m\u001b[0m\n",
      "\u001b[1;32m~\\Anaconda3\\envs\\brian\\lib\\site-packages\\brian2\\monitors\\statemonitor.py\u001b[0m in \u001b[0;36m__getattr__\u001b[1;34m(self, item)\u001b[0m\n\u001b[0;32m    329\u001b[0m             \u001b[1;32mreturn\u001b[0m \u001b[0mself\u001b[0m\u001b[1;33m.\u001b[0m\u001b[0mvariables\u001b[0m\u001b[1;33m[\u001b[0m\u001b[0mitem\u001b[0m\u001b[1;33m[\u001b[0m\u001b[1;33m:\u001b[0m\u001b[1;33m-\u001b[0m\u001b[1;36m1\u001b[0m\u001b[1;33m]\u001b[0m\u001b[1;33m]\u001b[0m\u001b[1;33m.\u001b[0m\u001b[0mget_value\u001b[0m\u001b[1;33m(\u001b[0m\u001b[1;33m)\u001b[0m\u001b[1;33m.\u001b[0m\u001b[0mT\u001b[0m\u001b[1;33m\u001b[0m\u001b[1;33m\u001b[0m\u001b[0m\n\u001b[0;32m    330\u001b[0m         \u001b[1;32melse\u001b[0m\u001b[1;33m:\u001b[0m\u001b[1;33m\u001b[0m\u001b[1;33m\u001b[0m\u001b[0m\n\u001b[1;32m--> 331\u001b[1;33m             \u001b[1;32mreturn\u001b[0m \u001b[0mGroup\u001b[0m\u001b[1;33m.\u001b[0m\u001b[0m__getattr__\u001b[0m\u001b[1;33m(\u001b[0m\u001b[0mself\u001b[0m\u001b[1;33m,\u001b[0m \u001b[0mitem\u001b[0m\u001b[1;33m)\u001b[0m\u001b[1;33m\u001b[0m\u001b[1;33m\u001b[0m\u001b[0m\n\u001b[0m\u001b[0;32m    332\u001b[0m \u001b[1;33m\u001b[0m\u001b[0m\n\u001b[0;32m    333\u001b[0m     \u001b[1;32mdef\u001b[0m \u001b[0m__repr__\u001b[0m\u001b[1;33m(\u001b[0m\u001b[0mself\u001b[0m\u001b[1;33m)\u001b[0m\u001b[1;33m:\u001b[0m\u001b[1;33m\u001b[0m\u001b[1;33m\u001b[0m\u001b[0m\n",
      "\u001b[1;32m~\\Anaconda3\\envs\\brian\\lib\\site-packages\\brian2\\groups\\group.py\u001b[0m in \u001b[0;36m__getattr__\u001b[1;34m(self, name)\u001b[0m\n\u001b[0;32m    396\u001b[0m \u001b[1;33m\u001b[0m\u001b[0m\n\u001b[0;32m    397\u001b[0m         \u001b[1;32mexcept\u001b[0m \u001b[0mKeyError\u001b[0m\u001b[1;33m:\u001b[0m\u001b[1;33m\u001b[0m\u001b[1;33m\u001b[0m\u001b[0m\n\u001b[1;32m--> 398\u001b[1;33m             \u001b[1;32mraise\u001b[0m \u001b[0mAttributeError\u001b[0m\u001b[1;33m(\u001b[0m\u001b[1;34m'No attribute with name '\u001b[0m \u001b[1;33m+\u001b[0m \u001b[0mname\u001b[0m\u001b[1;33m)\u001b[0m\u001b[1;33m\u001b[0m\u001b[1;33m\u001b[0m\u001b[0m\n\u001b[0m\u001b[0;32m    399\u001b[0m \u001b[1;33m\u001b[0m\u001b[0m\n\u001b[0;32m    400\u001b[0m     \u001b[1;32mdef\u001b[0m \u001b[0m__setattr__\u001b[0m\u001b[1;33m(\u001b[0m\u001b[0mself\u001b[0m\u001b[1;33m,\u001b[0m \u001b[0mname\u001b[0m\u001b[1;33m,\u001b[0m \u001b[0mval\u001b[0m\u001b[1;33m,\u001b[0m \u001b[0mlevel\u001b[0m\u001b[1;33m=\u001b[0m\u001b[1;36m0\u001b[0m\u001b[1;33m)\u001b[0m\u001b[1;33m:\u001b[0m\u001b[1;33m\u001b[0m\u001b[1;33m\u001b[0m\u001b[0m\n",
      "\u001b[1;31mAttributeError\u001b[0m: No attribute with name y"
     ]
    },
    {
     "data": {
      "image/png": "[encoded data removed]",
      "text/plain": [
       "<Figure size 432x288 with 1 Axes>"
      ]
     },
     "metadata": {
      "needs_background": "light"
     },
     "output_type": "display_data"
    }
   ],
   "source": [
    "\n",
    "plt.figure()\n",
    "plt.title('PC moving average')\n",
    "for k in range(0,1):\n",
    "    plt.plot(mon_N_PC_Coupled.y[k],color='red')\n",
    "    #plt.plot(mon_N_PC_Coupled.f_st_PC[k],color='black')\n",
    "plt.xlabel('time [ms]')\n",
    "plt.ylabel('frequency [Hz]')\n",
    "plt.show()\n",
    "plt.figure()\n",
    "plt.title('IO moving average')\n",
    "for p in range(0,n_IO):\n",
    "    plt.plot(mon_N_PC_Coupled.f_lt_IO[p],color='red')\n",
    "    plt.plot(mon_N_PC_Coupled.f_st_IO[p], color='black')\n",
    "plt.legend(['long term','short term'])\n",
    "plt.xlabel('time [ms]')\n",
    "plt.ylabel('frequency [Hz]')\n",
    "\n",
    "plt.figure()\n",
    "plt.title('Difference in moving average IO (short term - long term)')\n",
    "#for p in range(0,n_IO):\n",
    "#    difio=mon_N_PC_Coupled.f_st_IO[p]-mon_N_PC_Coupled.f_lt_IO[p]\n",
    "#    idxio = (difio>0).astype(float)\n",
    "#    procentage_LTD = sum(idxio)/1000\n",
    "#    print('depression %',procentage_LTD)\n",
    "#    plt.plot(mon_N_PC_Coupled.f_st_IO[p]-mon_N_PC_Coupled.f_lt_IO[p])\n",
    "#plt.figure()\n",
    "for p in range(0,10):\n",
    "    difio=mon_N_PC_Coupled.f_st_IO[p]-mon_N_PC_Coupled.f_lt_IO[p]\n",
    "\n",
    "    dif=mon_N_PC_Coupled.f_st_PC[p]-mon_N_PC_Coupled.f_lt_PC[p]\n",
    "    idx = (dif>0).astype(float)\n",
    "    #plt.plot(idx)\n",
    "    #plt.ylim([0,1.1])\n",
    "    procentage_LTP = sum(idx)/1000\n",
    "    plt.plot(dif)\n",
    "    plt.plot(difio)\n",
    "    print('potentiated %',procentage_LTP)\n",
    "print(mon_N_PC_Coupled.f_lt_IO.shape)"
   ]
  },
  {
   "cell_type": "code",
   "execution_count": null,
   "metadata": {},
   "outputs": [],
   "source": [
    "plt.figure()\n",
    "plt.title('PC moving average')\n",
    "for k in range(0,1):\n",
    "    plt.plot(mon_N_PC_Coupled.y[k],color='red')\n",
    "    #plt.plot(mon_N_PC_Coupled.f_st_PC[k],color='black')\n",
    "plt.xlabel('time [ms]')\n",
    "plt.ylabel('frequency [Hz]')\n",
    "plt.show()"
   ]
  },
  {
   "cell_type": "code",
   "execution_count": 17,
   "metadata": {},
   "outputs": [
    {
     "ename": "IndentationError",
     "evalue": "unexpected indent (<ipython-input-17-7286de46ffca>, line 2)",
     "output_type": "error",
     "traceback": [
      "\u001b[1;36m  File \u001b[1;32m\"<ipython-input-17-7286de46ffca>\"\u001b[1;36m, line \u001b[1;32m2\u001b[0m\n\u001b[1;33m    title('Noise Sources', fontsize=16)\u001b[0m\n\u001b[1;37m    ^\u001b[0m\n\u001b[1;31mIndentationError\u001b[0m\u001b[1;31m:\u001b[0m unexpected indent\n"
     ]
    }
   ],
   "source": [
    " figure(figsize=(15, 4), dpi= 80, facecolor='w', edgecolor='k')\n",
    "    title('Noise Sources', fontsize=16)\n",
    "    for ji in range(len(Noise_I)):\n",
    "        plot(Noise_extended_statemon.t/ms,Noise_extended_statemon.I[ji]/nA, color='C'+str(ji), label=('Noise_I_'+str(ji)))\n",
    "    xlabel('t (ms)')\n",
    "    ylabel('I (nA)')\n",
    "    legend();\n",
    "    show()  \n",
    "    \n",
    "    print('Plasticity')\n",
    "    figure(figsize=(15, 4), dpi= 80, facecolor='w', edgecolor='k')\n",
    "    title('I_Noise_PC', fontsize=16)\n",
    "    for pp in range(0,N_Cells_PC):\n",
    "        plot(PC_Statemon_Coupled_STDP.t/ms,PC_Statemon_Coupled_STDP.I_Noise[pp]/nA, ('C'+str(pp)), label=('I_Noise_PC'+str(1+pp)))\n",
    "    xlabel('t (ms)')\n",
    "    ylabel('I (nA)')\n",
    "    legend();\n",
    "    show() \n",
    "\n",
    "    print('Plasticity Coupled Scenario')\n",
    "\n",
    "    figure(figsize=(15, 4), dpi= 80, facecolor='w', edgecolor='k')\n",
    "    title('Voltage IO Coupled Plasticity', fontsize=16)\n",
    "    for ii in range(0,N_Cells_IO):\n",
    "        plot(IO_Statemon_Coupled_STDP.t/msecond, IO_Statemon_Coupled_STDP.Vs[ii]/mvolt, ('C'+str(ii)), lw='1')\n",
    "    xlabel('Time (ms)')\n",
    "    ylabel('V (mV)')\n",
    "    show()\n",
    "    \n",
    "    \n",
    "    for pp in range(0,N_Cells_PC,1):    \n",
    "        DCN_spikes_Coupled_STDP = DCN_Statemon_Coupled_STDP.v[:]\n",
    "        Times_DCN_Coupled_STDP = DCN_Spikemon_Coupled_STDP.values('t')[pp]/(dt)\n",
    "        print(\"Number of spikes DCN: %s\"% np.size(Times_DCN_Coupled_STDP))\n",
    "    \n",
    "#     for pp in range(0,N_Cells_PC,1):    \n",
    "#         DCN_spikes_Coupled_STDP = DCN_Statemon_Coupled_STDP.v[:]\n",
    "#         Times_DCN_Coupled_STDP = DCN_Spikemon_Coupled_STDP.values('t')[pp]/(0.025*ms)\n",
    "#         print(\"Number of spikes DCN: %s\"% np.size(Times_DCN_Coupled_STDP))\n",
    "#         for t in range(0,np.size(Times_DCN_Coupled_STDP),1):\n",
    "#             i = int(Times_DCN_Coupled_STDP[t])\n",
    "#             DCN_spikes_Coupled_STDP[pp][i] = 60*mV\n",
    "#         PC_spikes_Coupled_STDP = PC_Statemon_Coupled_STDP.v[:]\n",
    "#         Times_PC_Coupled_STDP = PC_Spikemon_Coupled_STDP.values('t')[pp]/(0.025*ms)\n",
    "#         print(\"Number of spikes PC: %s\"% np.size(Times_PC_Coupled_STDP))\n",
    "#         for t in range(0,np.size(Times_PC_Coupled_STDP),1):\n",
    "#             i = int(Times_PC_Coupled_STDP[t])\n",
    "#             PC_spikes_Coupled_STDP[pp][i] = 50*mV\n",
    "#         figure(figsize=(15, 4), dpi= 80, facecolor='w', edgecolor='k')\n",
    "#         title('Voltage Cells '+str(pp+1) + ' Coupled', fontsize=16)\n",
    "#         plot(PC_Statemon_Coupled_STDP.t/ms, PC_spikes_Coupled_STDP[pp]/mV, ('C'+str(2)), label=('PC'+' '+str(pp+1)))\n",
    "#         plot(IO_Statemon_Coupled_STDP.t/msecond, IO_Statemon_Coupled_STDP.Vs[pp]/mvolt, ('C'+str(3)), lw='4', label=('Vs'+' '+str(pp+1)))\n",
    "#         plot(DCN_Statemon_Coupled_STDP.t/ms, DCN_spikes_Coupled_STDP[pp]/mV, ('C'+str(4)), lw='1',label=('DCN'+' '+str(pp+1)))\n",
    "#         legend(loc='best')\n",
    "#         xlabel('Time (ms)')\n",
    "#         ylabel('V (mV)')\n",
    "#         legend();\n",
    "#         show()\n",
    "\n",
    "    \n",
    "    figure(figsize=(15, 4), dpi= 80, facecolor='w', edgecolor='k')\n",
    "    title('Voltage Cells DCN Coupled', fontsize=16)\n",
    "    for pp in range(0,N_Cells_DCN,1):\n",
    "        plot(DCN_Statemon_Coupled_STDP.t/ms, DCN_Statemon_Coupled_STDP.v[pp]/mV, ('C'+str(pp)), lw='1',label=('DCN'+' '+str(pp+1)))\n",
    "    legend(loc='best')\n",
    "    xlabel('Time (ms)')\n",
    "    ylabel('V (mV)')\n",
    "    legend();\n",
    "    show()\n",
    "\n",
    "#     for pp in range(0,N_Cells_IO,1):\n",
    "#         figure(figsize=(15, 4), dpi= 80, facecolor='w', edgecolor='k')\n",
    "#         title('Voltage Cells IO '+str(pp+1) + ' Coupled', fontsize=16)\n",
    "#         plot(IO_Statemon_Coupled_STDP.t/msecond, IO_Statemon_Coupled_STDP.Vs[pp]/mvolt, ('C'+str(3)), lw='4', label=('Vs'+' '+str(pp+1)))\n",
    "#         legend(loc='best')\n",
    "#         xlabel('Time (ms)')\n",
    "#         ylabel('V (mV)')\n",
    "#         legend();\n",
    "#         show()\n",
    "\n",
    "    figure(figsize=(15, 4), dpi= 80, facecolor='w', edgecolor='k')\n",
    "    title('Voltage IO Coupled', fontsize=16)\n",
    "    for ii in range(0,N_Cells_IO):\n",
    "        plot(IO_Statemon_Coupled_STDP.t/msecond, IO_Statemon_Coupled_STDP.Vs[ii]/mvolt, ('C'+str(ii)), lw='1')\n",
    "    xlabel('Time (ms)')\n",
    "    ylabel('V (mV)')\n",
    "    show()\n",
    "\n",
    "    \n",
    "\n",
    "    figure(figsize=(15, 4), dpi= 80, facecolor='w', edgecolor='k')\n",
    "    title('weight PC', fontsize=16)\n",
    "    for pp in range(0,n_PC,1):\n",
    "        plot(mon_N_PC_Coupled.t/msecond, mon_N_PC_Coupled.weight_PC[pp], ('C'+str(pp)), lw='2',color='black')\n",
    "        plot(mon_N_PC_Coupled.t/msecond, mon_N_PC_Coupled.weight_PC[pp+10], ('C'+str(pp)), lw='2', color='red')\n",
    "        #plot(mon_N_PC_Coupled.t/msecond, mon_N_PC_Coupled.weight_PC[pp], ('C'+str(pp)), lw='2')\n",
    "    legend(['frequency input #1','#2'])\n",
    "    xlabel('Time (ms)')\n",
    "    ylabel('V (mV)')\n",
    "    # legend();\n",
    "    show() \n",
    "    figure(figsize=(15, 4), dpi= 80, facecolor='w', edgecolor='k')\n",
    "    title('weight IO', fontsize=16)\n",
    "    for pp in range(0,n_n_PC,1):\n",
    "        plot(mon_N_PC_Coupled.t/msecond, mon_N_PC_Coupled.weight_IO[pp], ('C'+str(pp)), lw='2',color='black')\n",
    "        plot(mon_N_PC_Coupled.t/msecond, mon_N_PC_Coupled.weight_IO[pp+10], ('C'+str(pp)), lw='2', color='red')\n",
    "    legend(['frequency input #1','#2'])\n",
    "    xlabel('Time (ms)')\n",
    "    ylabel('V (mV)')\n",
    "    # legend();\n",
    "    show()  \n",
    "    figure(figsize=(15, 4), dpi= 80, facecolor='w', edgecolor='k')\n",
    "    title('Delta weight', fontsize=16)\n",
    "    for pp in range(0,n_Noise*n_PC,1):\n",
    "        plot(mon_N_PC_Coupled.t/msecond, mon_N_PC_Coupled.delta_weight[pp], ('C'+str(pp)), lw='2')\n",
    "    xlabel('Time (ms)')\n",
    "    ylabel('V (mV)')\n",
    "    # legend();\n",
    "    show()  \n",
    "    figure(figsize=(15, 4), dpi= 80, facecolor='w', edgecolor='k')\n",
    "    title('New weight', fontsize=16)\n",
    "    for pp in range(0,n_Noise*n_PC,1):\n",
    "        plot(mon_N_PC_Coupled.t/msecond, mon_N_PC_Coupled.new_weight[pp], ('C'+str(pp)), lw='2')\n",
    "    xlabel('Time (ms)')\n",
    "    ylabel('V (mV)')\n",
    "    # legend();\n",
    "    show()\n",
    "\n",
    "\n",
    "    print('Plasticity Uncoupled Scenario')\n",
    "\n",
    "\n",
    "    figure(figsize=(15, 4), dpi= 80, facecolor='w', edgecolor='k')\n",
    "    title('Voltage IO Uncoupled Plasticity', fontsize=16)\n",
    "    for ii in range(0,N_Cells_IO):\n",
    "        plot(IO_Statemon_Uncoupled_STDP.t/msecond, IO_Statemon_Uncoupled_STDP.Vs[ii]/mvolt, ('C'+str(ii)), lw='1')\n",
    "    xlabel('Time (ms)')\n",
    "    ylabel('V (mV)')\n",
    "    show()\n",
    "\n",
    "    for pp in range(0,N_Cells_PC,1):    \n",
    "        DCN_spikes_Uncoupled_STDP = DCN_Statemon_Uncoupled_STDP.v[:]\n",
    "        Times_DCN_Uncoupled_STDP = DCN_Spikemon_Uncoupled_STDP.values('t')[pp]/(dt)\n",
    "        print(\"Number of spikes DCN: %s\"% np.size(Times_DCN_Uncoupled_STDP))\n",
    "        \n",
    "#     for pp in range(0,N_Cells_PC,1):    \n",
    "#         DCN_spikes_Uncoupled_STDP = DCN_Statemon_Uncoupled_STDP.v[:]\n",
    "#         Times_DCN_Uncoupled_STDP = DCN_Spikemon_Uncoupled_STDP.values('t')[pp]/(0.025*ms)\n",
    "#         print(\"Number of spikes DCN: %s\"% np.size(Times_DCN_Uncoupled_STDP))\n",
    "#         for t in range(0,np.size(Times_DCN_Uncoupled_STDP),1):\n",
    "#             i = int(Times_DCN_Uncoupled_STDP[t])\n",
    "#             DCN_spikes_Uncoupled_STDP[pp][i] = 60*mV\n",
    "#         PC_spikes_Uncoupled_STDP = PC_Statemon_Uncoupled_STDP.v[:]\n",
    "#         Times_PC_Uncoupled_STDP = PC_Spikemon_Uncoupled_STDP.values('t')[pp]/(0.025*ms)\n",
    "#         print(\"Number of spikes PC: %s\"% np.size(Times_PC_Uncoupled_STDP))\n",
    "#         for t in range(0,np.size(Times_PC_Uncoupled_STDP),1):\n",
    "#             i = int(Times_PC_Uncoupled_STDP[t])\n",
    "#             PC_spikes_Uncoupled_STDP[pp][i] = 50*mV\n",
    "#         figure(figsize=(15, 4), dpi= 80, facecolor='w', edgecolor='k')\n",
    "#         title('Voltage Cells '+str(pp+1) + ' Uncoupled', fontsize=16)\n",
    "#         plot(PC_Statemon_Uncoupled_STDP.t/ms, PC_spikes_Uncoupled_STDP[pp]/mV, ('C'+str(2)), label=('PC'+' '+str(pp+1)))\n",
    "#         plot(IO_Statemon_Uncoupled_STDP.t/msecond, IO_Statemon_Uncoupled_STDP.Vs[pp]/mvolt, ('C'+str(3)), lw='4', label=('Vs'+' '+str(pp+1)))\n",
    "#         plot(DCN_Statemon_Uncoupled_STDP.t/ms, DCN_spikes_Uncoupled_STDP[pp]/mV, ('C'+str(4)), lw='1',label=('DCN'+' '+str(pp+1)))\n",
    "#         legend(loc='best')\n",
    "#         xlabel('Time (ms)')\n",
    "#         ylabel('V (mV)')\n",
    "#         legend();\n",
    "#         show()\n",
    "\n",
    "    figure(figsize=(15, 4), dpi= 80, facecolor='w', edgecolor='k')\n",
    "    title('Voltage Cells DCN Uncoupled', fontsize=16)\n",
    "    for pp in range(0,N_Cells_DCN,1):    \n",
    "        plot(DCN_Statemon_Uncoupled_STDP.t/ms, DCN_Statemon_Uncoupled_STDP.v[pp]/mV, ('C'+str(pp)), lw='1',label=('DCN'+' '+str(pp+1)))\n",
    "    legend(loc='best')\n",
    "    xlabel('Time (ms)')\n",
    "    ylabel('V (mV)')\n",
    "    legend();\n",
    "    show()\n",
    "\n",
    "#     for pp in range(0,N_Cells_IO,1):    \n",
    "#         figure(figsize=(15, 4), dpi= 80, facecolor='w', edgecolor='k')\n",
    "#         title('Voltage Cells IO'+str(pp+1) + ' Uncoupled', fontsize=16)\n",
    "#         plot(IO_Statemon_Uncoupled_STDP.t/msecond, IO_Statemon_Uncoupled_STDP.Vs[pp]/mvolt, ('C'+str(3)), lw='4', label=('Vs'+' '+str(pp+1)))\n",
    "#         legend(loc='best')\n",
    "#         xlabel('Time (ms)')\n",
    "#         ylabel('V (mV)')\n",
    "#         legend();\n",
    "#         show()\n",
    "\n",
    "    figure(figsize=(15, 4), dpi= 80, facecolor='w', edgecolor='k')\n",
    "    title('Voltage IO Uncoupled', fontsize=16)\n",
    "    for ii in range(0,N_Cells_IO):\n",
    "        plot(IO_Statemon_Uncoupled_STDP.t/msecond, IO_Statemon_Uncoupled_STDP.Vs[ii]/mvolt, ('C'+str(ii)), lw='1')\n",
    "    xlabel('Time (ms)')\n",
    "    ylabel('V (mV)')\n",
    "    show()\n",
    "    \n",
    "    \n",
    "   \n",
    "    figure(figsize=(15, 4), dpi= 80, facecolor='w', edgecolor='k')\n",
    "    \n",
    "    figure(figsize=(15, 4), dpi= 80, facecolor='w', edgecolor='k')\n",
    "    title('weight PC', fontsize=16)\n",
    "    for pp in range(0,n_Noise*n_PC,1):\n",
    "        plot(mon_N_PC_Uncoupled.t/msecond, mon_N_PC_Uncoupled.weight_PC[pp], ('C'+str(pp)), lw='2')\n",
    "        plot(mon_N_PC_Uncoupled.t/msecond, mon_N_PC_Uncoupled.weight_PC[pp], ('C'+str(pp)), lw='2')\n",
    "    legend(['freq #1','#2'])\n",
    "    xlabel('Time (ms)')\n",
    "    ylabel('V (mV)')\n",
    "    # legend();\n",
    "    show()\n",
    "    \n",
    "    figure(figsize=(15, 4), dpi= 80, facecolor='w', edgecolor='k')\n",
    "    title('weight IO', fontsize=16)\n",
    "    for pp in range(0,n_Noise*n_PC,1):\n",
    "        plot(mon_N_PC_Uncoupled.t/msecond, mon_N_PC_Uncoupled.weight_IO[pp], ('C'+str(pp)), lw='2')\n",
    "    xlabel('Time (ms)')\n",
    "    ylabel('V (mV)')\n",
    "    # legend();\n",
    "    show()    \n",
    "    figure(figsize=(15, 4), dpi= 80, facecolor='w', edgecolor='k')\n",
    "    title('delta_weight', fontsize=16)\n",
    "    for pp in range(0,n_Noise*n_PC,1):\n",
    "        plot(mon_N_PC_Uncoupled.t/msecond, mon_N_PC_Uncoupled.delta_weight[pp], ('C'+str(pp)), lw='2')\n",
    "    xlabel('Time (ms)')\n",
    "    ylabel('V (mV)')\n",
    "    # legend();\n",
    "    show()\n",
    "    figure(figsize=(15, 4), dpi= 80, facecolor='w', edgecolor='k')\n",
    "    title('new_weight', fontsize=16)\n",
    "    for pp in range(0,n_Noise*n_PC,1):\n",
    "        plot(mon_N_PC_Uncoupled.t/msecond, mon_N_PC_Uncoupled.new_weight[pp], ('C'+str(pp)), lw='2')\n",
    "    xlabel('Time (ms)')\n",
    "    ylabel('V (mV)')\n",
    "    # legend();\n",
    "    show()\n"
   ]
  },
  {
   "cell_type": "code",
   "execution_count": null,
   "metadata": {},
   "outputs": [],
   "source": []
  }
 ],
 "metadata": {
  "kernelspec": {
   "display_name": "Python 3",
   "language": "python",
   "name": "python3"
  },
  "language_info": {
   "codemirror_mode": {
    "name": "ipython",
    "version": 3
   },
   "file_extension": ".py",
   "mimetype": "text/x-python",
   "name": "python",
   "nbconvert_exporter": "python",
   "pygments_lexer": "ipython3",
   "version": "3.6.7"
  }
 },
 "nbformat": 4,
 "nbformat_minor": 2
}
