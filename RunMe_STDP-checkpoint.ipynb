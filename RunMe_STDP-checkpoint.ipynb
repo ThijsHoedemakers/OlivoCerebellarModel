{
 "cells": [
  {
   "cell_type": "code",
   "execution_count": 1,
   "metadata": {},
   "outputs": [],
   "source": [
    "%reset -f\n",
    "from A_Functions import *"
   ]
  },
  {
   "cell_type": "code",
   "execution_count": 2,
   "metadata": {},
   "outputs": [
    {
     "name": "stdout",
     "output_type": "stream",
     "text": [
      "Noise input is of type double sine\n",
      "Data is saved\n"
     ]
    }
   ],
   "source": [
    "# Create Noise Type\n",
    "# Give a name for your noise - be precise to make it easy to detect what type it is\n",
    "# Example 'NoiseConst_2nA' or 'NoiseDS_2A10Hz_9A1Hz'\n",
    "namenoise = 'InputDS_testvis'\n",
    "\n",
    "# extra step to make a new file with the same name only with 'SimParams.mat' added\n",
    "simparameter=list(namenoise)\n",
    "simparameter.append('_SimParams.mat')\n",
    "simparameter=\"\".join(simparameter)\n",
    "\n",
    "## input of NoiseGenerator for double sine is :\n",
    "# (amount of noise sources, 'DS', [offset sine1,offset sine2,amplitude sine1 (nA), frequency sine1(Hz),,\n",
    "#amplitude sine2, frequency sine2], duration in ms, name of the file)\n",
    "\n",
    "## input of NoiseGenerator for OU is :\n",
    "# (amount of noise sources, 'OU', [initial I, initial I0, sigma], duration in ms, name of the file)\n",
    "\n",
    "## input of NoiseGenerator Constant value :\n",
    "# (amount, 'const',[constant value in nA], duration in ms, name of the file)\n",
    "\n",
    "#Noise_t,Noise_I,N_Noise=NoiseGenerator(2,'DS',[1 ,0, 1, 0.5,1,14],25000,namenoise,simparameter)\n",
    "Noise_t,Noise_I,N_Noise=NoiseGenerator(5,'DS',[1 ,0.5, 0, -0.5, -1,     #offsets in nA\n",
    "                                              1, 0.5, 0, 0.5, 1, #amplitude in nA\n",
    "                                              20, 2, 2, 20, 2]         # frequency in Hz\n",
    "                                              ,2500,namenoise,simparameter)\n",
    "\n",
    "#Noise_const15 = NoiseGenerator(2,'const',[1.5],10,'Noise_const15')\n",
    "\n"
   ]
  },
  {
   "cell_type": "code",
   "execution_count": 3,
   "metadata": {
    "scrolled": false
   },
   "outputs": [],
   "source": [
    "SimParams = Struct()\n",
    "######################## Save\n",
    "SimParams.saving = 'yes' #'yes','no'\n",
    "######################## plot\n",
    "SimParams.plotting = 'yes' #'yes','no'\n",
    "######################## Experiment length\n",
    "SimParams.dt = 0.025*ms\n",
    "SimParams.exp_runtime = (size(Noise_t))*SimParams.dt #/0.025 if noise dt=t_monitor\n",
    "######################## Neuronal responses to run. \n",
    "SimParams.IO_response='both' #'oscillatory', 'non', 'spiking', 'both' \n",
    "SimParams.N_Cells_PC = 10\n",
    "SimParams.N_Cells_DCN = 20\n",
    "SimParams.N_Cells_IO = 20\n",
    "######################## Saving SimParams\n",
    "\n",
    "sio.savemat(simparameter, mdict={'SimParams': SimParams})"
   ]
  },
  {
   "cell_type": "code",
   "execution_count": 4,
   "metadata": {},
   "outputs": [
    {
     "name": "stderr",
     "output_type": "stream",
     "text": [
      "WARNING    The expression \"(conn_target - noise_source) / N_Cells_PC\" divides two integer values. In previous versions of Brian, this would have used either an integer (\"flooring\") or a floating point division, depending on the Python version and the code generation target. In the current version, it always uses a floating point division. Explicitly ask for an  integer division (\"//\"), or turn one of the operands into a floating point value (e.g. replace \"1/2\" by \"1.0/2\") to no longer receive this warning. [brian2.parsing.bast.floating_point_division]\n"
     ]
    },
    {
     "name": "stdout",
     "output_type": "stream",
     "text": [
      "weights before <dummy_Coupled.weight: array([1. , 0.9, 0.8, 0.7, 0.6, 0.5, 0.4, 0.3, 0.2, 0.1, 0.9, 1. , 0.9,\n",
      "       0.8, 0.7, 0.6, 0.5, 0.4, 0.3, 0.2, 0.8, 0.9, 1. , 0.9, 0.8, 0.7,\n",
      "       0.6, 0.5, 0.4, 0.3, 0.7, 0.8, 0.9, 1. , 0.9, 0.8, 0.7, 0.6, 0.5,\n",
      "       0.4, 0.6, 0.7, 0.8, 0.9, 1. , 0.9, 0.8, 0.7, 0.6, 0.5])>\n",
      "column sum = [4.  4.3 4.4 4.3 4.  3.5 3.  2.5 2.  1.5]\n",
      "new weights <dummy_Coupled.weight: array([0.25      , 0.20930233, 0.18181818, 0.1627907 , 0.15      ,\n",
      "       0.14285714, 0.13333333, 0.12      , 0.1       , 0.06666667,\n",
      "       0.225     , 0.23255814, 0.20454545, 0.18604651, 0.175     ,\n",
      "       0.17142857, 0.16666667, 0.16      , 0.15      , 0.13333333,\n",
      "       0.2       , 0.20930233, 0.22727273, 0.20930233, 0.2       ,\n",
      "       0.2       , 0.2       , 0.2       , 0.2       , 0.2       ,\n",
      "       0.175     , 0.18604651, 0.20454545, 0.23255814, 0.225     ,\n",
      "       0.22857143, 0.23333333, 0.24      , 0.25      , 0.26666667,\n",
      "       0.15      , 0.1627907 , 0.18181818, 0.20930233, 0.25      ,\n",
      "       0.25714286, 0.26666667, 0.28      , 0.3       , 0.33333333])>\n"
     ]
    }
   ],
   "source": [
    "from E_Synapses_Plasticity import *"
   ]
  },
  {
   "cell_type": "code",
   "execution_count": 1,
   "metadata": {
    "scrolled": true
   },
   "outputs": [
    {
     "ename": "NameError",
     "evalue": "name 'copy_noise_Coupled' is not defined",
     "output_type": "error",
     "traceback": [
      "\u001b[1;31m---------------------------------------------------------------------------\u001b[0m",
      "\u001b[1;31mNameError\u001b[0m                                 Traceback (most recent call last)",
      "\u001b[1;32m<ipython-input-1-519cdbd8a9c6>\u001b[0m in \u001b[0;36m<module>\u001b[1;34m\u001b[0m\n\u001b[0;32m      1\u001b[0m \u001b[1;31m# Input Dummy\u001b[0m\u001b[1;33m\u001b[0m\u001b[1;33m\u001b[0m\u001b[1;33m\u001b[0m\u001b[0m\n\u001b[1;32m----> 2\u001b[1;33m \u001b[0mprint\u001b[0m\u001b[1;33m(\u001b[0m\u001b[1;34m'noise-dummy = noise'\u001b[0m\u001b[1;33m,\u001b[0m\u001b[0mcopy_noise_Coupled\u001b[0m\u001b[1;33m.\u001b[0m\u001b[0mi\u001b[0m\u001b[1;33m[\u001b[0m\u001b[1;33m:\u001b[0m\u001b[1;33m]\u001b[0m\u001b[1;33m,\u001b[0m \u001b[1;34m'dummy'\u001b[0m\u001b[1;33m,\u001b[0m\u001b[0mcopy_noise_Coupled\u001b[0m\u001b[1;33m.\u001b[0m\u001b[0mj\u001b[0m\u001b[1;33m[\u001b[0m\u001b[1;33m:\u001b[0m\u001b[1;33m]\u001b[0m\u001b[1;33m)\u001b[0m\u001b[1;33m\u001b[0m\u001b[1;33m\u001b[0m\u001b[0m\n\u001b[0m\u001b[0;32m      3\u001b[0m \u001b[1;31m# Dummy PC connection\u001b[0m\u001b[1;33m\u001b[0m\u001b[1;33m\u001b[0m\u001b[1;33m\u001b[0m\u001b[0m\n\u001b[0;32m      4\u001b[0m \u001b[0mprint\u001b[0m\u001b[1;33m(\u001b[0m\u001b[1;34m'dummy-PC = dummy'\u001b[0m\u001b[1;33m,\u001b[0m\u001b[0mS_N_PC_Coupled\u001b[0m\u001b[1;33m.\u001b[0m\u001b[0mi\u001b[0m\u001b[1;33m[\u001b[0m\u001b[1;33m:\u001b[0m\u001b[1;33m]\u001b[0m\u001b[1;33m,\u001b[0m \u001b[1;34m'PC'\u001b[0m\u001b[1;33m,\u001b[0m\u001b[0mS_N_PC_Coupled\u001b[0m\u001b[1;33m.\u001b[0m\u001b[0mj\u001b[0m\u001b[1;33m[\u001b[0m\u001b[1;33m:\u001b[0m\u001b[1;33m]\u001b[0m\u001b[1;33m)\u001b[0m\u001b[1;33m\u001b[0m\u001b[1;33m\u001b[0m\u001b[0m\n\u001b[0;32m      5\u001b[0m \u001b[1;31m# IO Dummy connection\u001b[0m\u001b[1;33m\u001b[0m\u001b[1;33m\u001b[0m\u001b[1;33m\u001b[0m\u001b[0m\n",
      "\u001b[1;31mNameError\u001b[0m: name 'copy_noise_Coupled' is not defined"
     ]
    }
   ],
   "source": [
    "# Input Dummy\n",
    "print('noise-dummy = noise',copy_noise_Coupled.i[:], 'dummy',copy_noise_Coupled.j[:])\n",
    "# Dummy PC connection\n",
    "print('dummy-PC = dummy',S_N_PC_Coupled.i[:], 'PC',S_N_PC_Coupled.j[:])\n",
    "# IO Dummy connection\n",
    "print('IO - dummy = ')\n",
    "print('IO ',S_IO_N_Coupled.i[:],'dummy',S_IO_N_Coupled.j[:])\n",
    "# IO PC connection\n",
    "print('IO-PC = ')\n",
    "print('IO =',Synapse_IO_PC_Coupled_STDP.i[:], 'PC',Synapse_IO_PC_Coupled_STDP.j[:])\n",
    "# IO DCN connection\n",
    "print('DCN - IO =')\n",
    "print('DCN =',IO_DCN_Synapse_Coupled_STDP.i[:],'IO ',IO_DCN_Synapse_Coupled_STDP.j[:])\n",
    "# DCN PC connection\n",
    "print('PC - DCN =')\n",
    "print('PC',DCN_PC_Synapse_Coupled_STDP.i[:],'DCN',DCN_PC_Synapse_Coupled_STDP.j[:])\n",
    "\n",
    "visualise(S_N_PC_Coupled)\n",
    "visualise(S_IO_N_Coupled)\n",
    "visualise(Synapse_IO_PC_Coupled_STDP)\n",
    "visualise(IO_DCN_Synapse_Coupled_STDP)\n",
    "visualise(DCN_PC_Synapse_Coupled_STDP)"
   ]
  },
  {
   "cell_type": "code",
   "execution_count": 5,
   "metadata": {
    "scrolled": true
   },
   "outputs": [
    {
     "name": "stderr",
     "output_type": "stream",
     "text": [
      "WARNING    The expression \"N_Cells_DCN / 2\" divides two integer values. In previous versions of Brian, this would have used either an integer (\"flooring\") or a floating point division, depending on the Python version and the code generation target. In the current version, it always uses a floating point division. Explicitly ask for an  integer division (\"//\"), or turn one of the operands into a floating point value (e.g. replace \"1/2\" by \"1.0/2\") to no longer receive this warning. [brian2.parsing.bast.floating_point_division]\n"
     ]
    },
    {
     "name": "stdout",
     "output_type": "stream",
     "text": [
      "Starting simulation at t=0. s for a duration of 5. s\n",
      "0.3911 (7%) simulated in 10s, estimated 1m 58s remaining.\n",
      "0.8062750000000001 (16%) simulated in 20s, estimated 1m 44s remaining.\n",
      "1.23685 (24%) simulated in 30s, estimated 1m 31s remaining.\n",
      "1.6380250000000003 (32%) simulated in 40s, estimated 1m 22s remaining.\n",
      "2.058475 (41%) simulated in 50s, estimated 1m 11s remaining.\n",
      "2.4695 (49%) simulated in 1m 0s, estimated 1m 1s remaining.\n",
      "2.874625 (57%) simulated in 1m 10s, estimated 52s remaining.\n",
      "3.2991 (65%) simulated in 1m 20s, estimated 41s remaining.\n",
      "3.726175 (74%) simulated in 1m 30s, estimated 31s remaining.\n",
      "4.1513 (83%) simulated in 1m 40s, estimated 20s remaining.\n",
      "4.591725 (91%) simulated in 1m 50s, estimated 10s remaining.\n",
      "5.0 (100%) simulated in 1m 59s\n"
     ]
    }
   ],
   "source": [
    "run(exp_runtime*2,report='text')"
   ]
  },
  {
   "cell_type": "code",
   "execution_count": 6,
   "metadata": {},
   "outputs": [
    {
     "name": "stdout",
     "output_type": "stream",
     "text": [
      "Plasticity variables are saved\n",
      "Inputs are saved\n",
      "Voltage Cells are saved\n",
      "Spike Times are saved\n"
     ]
    }
   ],
   "source": [
    "from F_save_data_Plasticity import *"
   ]
  },
  {
   "cell_type": "code",
   "execution_count": null,
   "metadata": {},
   "outputs": [],
   "source": [
    "visualise(S_N_PC_Coupled)\n",
    "visualise(S_IO_N_Coupled)\n",
    "visualise(Synapse_IO_PC_Coupled_STDP)\n",
    "visualise(IO_DCN_Synapse_Coupled_STDP)\n",
    "visualise(DCN_PC_Synapse_Coupled_STDP)\n"
   ]
  },
  {
   "cell_type": "code",
   "execution_count": null,
   "metadata": {
    "scrolled": false
   },
   "outputs": [],
   "source": [
    "from G_Plot_Plasticity import *"
   ]
  },
  {
   "cell_type": "code",
   "execution_count": null,
   "metadata": {
    "scrolled": false
   },
   "outputs": [],
   "source": [
    "figure(figsize=(15, 4), dpi= 80, facecolor='w', edgecolor='k')\n",
    "title('I_Noise_PC', fontsize=16)\n",
    "for pp in range(0,N_Cells_PC):\n",
    "    plot(PC_Statemon_Coupled_STDP.t/ms,PC_Statemon_Coupled_STDP.I_Noise[pp]/nA, ('C'+str(pp)), label=('I_Noise_PC'+str(1+pp)))\n",
    "legend(loc='best')\n",
    "xlabel('t (ms)')\n",
    "ylabel('I (nA)')\n",
    "legend();\n",
    "show() \n",
    "\n",
    "figure(figsize=(15, 4), dpi= 80, facecolor='w', edgecolor='k')\n",
    "title('I_Noise_PC', fontsize=16)\n",
    "for pp in range(0,N_Cells_PC):\n",
    "    plot(PC_Statemon_Uncoupled_STDP.t/ms,PC_Statemon_Uncoupled_STDP.I_Noise[pp]/nA, ('C'+str(pp)), label=('I_Noise_PC'+str(1+pp)))\n",
    "legend(loc='best')\n",
    "xlabel('t (ms)')\n",
    "ylabel('I (nA)')\n",
    "legend();\n",
    "show() "
   ]
  },
  {
   "cell_type": "code",
   "execution_count": null,
   "metadata": {
    "scrolled": false
   },
   "outputs": [],
   "source": [
    "    for pp in range(0,N_Cells_PC,1):    \n",
    "        DCN_spikes_Uncoupled_STDP = DCN_Statemon_Uncoupled_STDP.v[:]\n",
    "        Times_DCN_Uncoupled_STDP = DCN_Spikemon_Uncoupled_STDP.values('t')[pp]/(t_Monitor)\n",
    "        print(\"Number of spikes DCN: %s\"% np.size(Times_DCN_Uncoupled_STDP))\n",
    "        for t in range(0,np.size(Times_DCN_Uncoupled_STDP),1):\n",
    "            i = int(Times_DCN_Uncoupled_STDP[t])\n",
    "            DCN_spikes_Uncoupled_STDP[pp][i] = 60*mV\n",
    "        PC_spikes_Uncoupled_STDP = PC_Statemon_Uncoupled_STDP.v[:]\n",
    "        Times_PC_Uncoupled_STDP = PC_Spikemon_Uncoupled_STDP.values('t')[pp]/(t_Monitor)\n",
    "        print(\"Number of spikes PC: %s\"% np.size(Times_PC_Uncoupled_STDP))\n",
    "        for t in range(0,np.size(Times_PC_Uncoupled_STDP),1):\n",
    "            i = int(Times_PC_Uncoupled_STDP[t])\n",
    "            PC_spikes_Uncoupled_STDP[pp][i] = 50*mV\n",
    "        figure(figsize=(15, 4), dpi= 80, facecolor='w', edgecolor='k')\n",
    "        title('Voltage Cells '+str(pp+1) + ' Uncoupled', fontsize=16)\n",
    "        plot(PC_Statemon_Uncoupled_STDP.t/ms, PC_spikes_Uncoupled_STDP[pp]/mV, ('C'+str(2)), label=('PC'+' '+str(pp+1)))\n",
    "        plot(IO_Statemon_Uncoupled_STDP.t/msecond, IO_Statemon_Uncoupled_STDP.Vs[pp]/mvolt, ('C'+str(3)), lw='4', label=('Vs'+' '+str(pp+1)))\n",
    "        plot(DCN_Statemon_Uncoupled_STDP.t/ms, DCN_spikes_Uncoupled_STDP[pp]/mV, ('C'+str(4)), lw='1',label=('DCN'+' '+str(pp+1)))\n",
    "        legend(loc='best')\n",
    "        xlabel('Time (ms)')\n",
    "        ylabel('V (mV)')\n",
    "        legend();\n",
    "        show()"
   ]
  },
  {
   "cell_type": "code",
   "execution_count": null,
   "metadata": {},
   "outputs": [],
   "source": [
    "figure(figsize=(15, 4), dpi= 80, facecolor='w', edgecolor='k')\n",
    "title('a_IO', fontsize=16)\n",
    "for pp in range(0,n_Noise*n_PC,1):\n",
    "    plot(mon_N_PC_Coupled.t/msecond, mon_N_PC_Coupled.a_IO[pp], ('C'+str(pp)), lw='2')\n",
    "xlabel('Time (ms)')\n",
    "ylabel('V (mV)')\n",
    "show()"
   ]
  },
  {
   "cell_type": "code",
   "execution_count": null,
   "metadata": {},
   "outputs": [],
   "source": [
    "# relate IO spike to input after multiplication with weight of dummy variable"
   ]
  },
  {
   "cell_type": "code",
   "execution_count": null,
   "metadata": {},
   "outputs": [],
   "source": [
    "# Input Dummy\n",
    "print('noise-dummy = noise',copy_noise_Coupled.i[:], 'dummy',copy_noise_Coupled.j[:])\n",
    "# Dummy PC connection\n",
    "print('dummy-PC = dummy',S_N_PC_Coupled.i[:], 'PC',S_N_PC_Coupled.j[:])\n",
    "# IO Dummy connection\n",
    "print('IO - dummy = ')\n",
    "print('IO ',S_IO_N_Coupled.i[:],'dummy',S_IO_N_Coupled.j[:])\n",
    "# IO PC connection\n",
    "print('IO-PC = ')\n",
    "print('IO =',Synapse_IO_PC_Coupled_STDP.i[:], 'PC',Synapse_IO_PC_Coupled_STDP.j[:])\n",
    "# IO DCN connection\n",
    "print('DCN - IO =')\n",
    "print('DCN =',IO_DCN_Synapse_Coupled_STDP.i[:],'IO ',IO_DCN_Synapse_Coupled_STDP.j[:])\n",
    "# DCN PC connection\n",
    "print('PC - DCN =')\n",
    "print('PC',DCN_PC_Synapse_Coupled_STDP.i[:],'DCN',DCN_PC_Synapse_Coupled_STDP.j[:])"
   ]
  },
  {
   "cell_type": "code",
   "execution_count": null,
   "metadata": {},
   "outputs": [],
   "source": [
    "from F_save_data_Plasticity import *"
   ]
  },
  {
   "cell_type": "code",
   "execution_count": null,
   "metadata": {},
   "outputs": [],
   "source": []
  }
 ],
 "metadata": {
  "kernelspec": {
   "display_name": "Python 3",
   "language": "python",
   "name": "python3"
  },
  "language_info": {
   "codemirror_mode": {
    "name": "ipython",
    "version": 3
   },
   "file_extension": ".py",
   "mimetype": "text/x-python",
   "name": "python",
   "nbconvert_exporter": "python",
   "pygments_lexer": "ipython3",
   "version": "3.6.7"
  }
 },
 "nbformat": 4,
 "nbformat_minor": 2
}
