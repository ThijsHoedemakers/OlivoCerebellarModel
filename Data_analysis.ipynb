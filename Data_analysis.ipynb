{
 "cells": [
  {
   "cell_type": "markdown",
   "metadata": {},
   "source": [
    "# Data Analysis of Olivocerebellar Model\n",
    "\n",
    "## Table of Contents\n",
    "### 1. Import All\n",
    "    1. Import packages\n",
    "    2. Import data of simulations\n",
    "### 2. Split Data - Before/After Adaptation\n",
    "### 3. "
   ]
  },
  {
   "cell_type": "markdown",
   "metadata": {},
   "source": [
    "## 1. Import All"
   ]
  },
  {
   "cell_type": "code",
   "execution_count": null,
   "metadata": {},
   "outputs": [],
   "source": [
    "# 1.1) Import packages\n",
    "import numpy as np\n",
    "from brian2 import*\n",
    "import NeuroTools as nt\n",
    "import matplotlib as plt\n",
    "from scipy.signal import find_peaks\n",
    "import scipy.io as sio\n",
    "class Struct:\n",
    "    pass\n",
    "\n",
    "# 1.2) Import data of simulations\n",
    "nameInput = 'NoiseDS_test2'\n",
    "name_simparam = nameInput + '_SimParams'\n",
    "name_VoltCell = nameInput + '_VoltageCell'\n",
    "name_SpikeT = nameInput + '_SpikeTimes'\n",
    "name_PV = nameInput + '_PlasticityVariables'\n",
    "name_Input = nameInput + 'AfterSim'\n",
    "\n",
    "SimParam = sio.loadmat(name_simparam)\n",
    "VoltCell = sio.loadmat(name_VoltCell)\n",
    "SpikeTimes = sio.loadmat(name_SpikeT)\n",
    "PlasticityVar = sio.loadmat(name_PV)\n",
    "Input = sio.loadmat(name_Input)"
   ]
  },
  {
   "cell_type": "markdown",
   "metadata": {},
   "source": [
    "## 2. Split Data - Before/After Adaptation"
   ]
  },
  {
   "cell_type": "code",
   "execution_count": null,
   "metadata": {},
   "outputs": [],
   "source": [
    "# 2) Split Data - before/after adaptation    \n",
    "\n",
    "# before = start_t:t_beforeAdaptation\n",
    "# after = t_beforeAdaptaion:end\n",
    "# indicated by BA (BeforeAdaptation) and AA (AfterAdaptation) accordingly\n",
    "\n",
    "\n",
    "start_t = 1000 # remove first second of data due to transient\n",
    "t_beforeAdaptation = int(len(Input['Input']['I'][0][0][0])/2) # halfway the simulation\n",
    "nrInputs=Input['Input']['I'][0][0].shape[0] # number of inputs\n",
    "nrPC = VoltCell['VoltCell']['PC'][0][0].shape[0]\n",
    "nrDCN = VoltCell['VoltCell']['DCN'][0][0].shape[0]\n",
    "nrIO = VoltCell['VoltCell']['IOsoma'][0][0].shape[0]\n",
    "lengthSim =VoltCell['VoltCell']['PC'][0][0].shape[1]\n",
    "# Input to the system\n",
    "Input_s = Struct()\n",
    "Input_s_I = [Input['Input']['I'][0][0][k][start_t:] for k in range(0,nrInputs)]\n",
    "Input_s.I_BA= [Input['Input']['I'][0][0][k][start_t:t_beforeAdaptation] for k in range(0,nrInputs)]\n",
    "Input_s.nweight_BA=[Input['Input']['nweight'][0][0][k][start_t:t_beforeAdaptation] for k in range(0,nrInputs)]\n",
    "Input_s.I_AA =[Input['Input']['I'][0][0][k][t_beforeAdaptation:] for k in range(0,nrInputs)]\n",
    "Input_s.nweight_AA =[Input['Input']['nweight'][0][0][k][t_beforeAdaptation:] for k in range(0,nrInputs)]\n",
    "\n",
    "# Membrane potentials of all the different cells\n",
    "VoltCell_s = Struct()\n",
    "VoltCell_s.PC = [VoltCell['VoltCell']['PC'][0][0][k][start_t:] for k in range(0,nrPC)]\n",
    "VoltCell_s.PC_BA = [VoltCell['VoltCell']['PC'][0][0][k][start_t:t_beforeAdaptation] for k in range(0,nrPC)]\n",
    "VoltCell_s.PC_AA = [VoltCell['VoltCell']['PC'][0][0][k][t_beforeAdaptation:] for k in range(0,nrPC)]\n",
    "VoltCell_s.DCN = [VoltCell['VoltCell']['DCN'][0][0][k][start_t:] for k in range(0,nrDCN)]\n",
    "VoltCell_s.DCN_BA =[VoltCell['VoltCell']['DCN'][0][0][k][start_t:t_beforeAdaptation] for k in range(0,nrDCN)]\n",
    "VoltCell_s.DCN_AA =[VoltCell['VoltCell']['DCN'][0][0][k][t_beforeAdaptation:] for k in range(0,nrDCN)]\n",
    "VoltCell_s.IOsoma =[VoltCell['VoltCell']['IOsoma'][0][0][k][start_t:] for k in range(0,nrIO)]\n",
    "VoltCell_s.IOsoma_BA =[VoltCell['VoltCell']['IOsoma'][0][0][k][start_t:t_beforeAdaptation] for k in range(0,nrIO)]\n",
    "VoltCell_s.IOsoma_AA =[VoltCell['VoltCell']['IOsoma'][0][0][k][t_beforeAdaptation:] for k in range(0,nrIO)]\n",
    "VoltCell_s.IOdend =[VoltCell['VoltCell']['IOdend'][0][0][k][start_t:] for k in range(0,nrIO)]\n",
    "VoltCell_s.IOdend =[VoltCell['VoltCell']['IOdend'][0][0][k][start_t:t_beforeAdaptation] for k in range(0,nrIO)]\n",
    "VoltCell_s.IOdend =[VoltCell['VoltCell']['IOdend'][0][0][k][t_beforeAdaptation:] for k in range(0,nrIO)]\n",
    "SpikePC=[]\n",
    "\n",
    "# Spike Times of all cells\n",
    "SpikeTimes_s = Struct()\n",
    "for p in range(0,nrPC):\n",
    "    nr = str(p)\n",
    "    PCnr = \"PC\" + nr\n",
    "    BA_PCnr = 'PC_BA' + nr\n",
    "    AA_PCnr = 'PC_AA'+ nr\n",
    "    nrSpikesPC = SpikeTimes['SpikeTimes']['PC'][0][0][0][p][0].shape[0]\n",
    "    setattr(SpikeTimes_s, PCnr, [SpikeTimes['SpikeTimes']['PC'][0][0][0][p][0][k] for k in range(0,nrSpikesPC) if SpikeTimes['SpikeTimes']['PC'][0][0][0][p][0][k]>=(start_t/1e3)])\n",
    "    setattr(SpikeTimes_s, BA_PCnr, [SpikeTimes['SpikeTimes']['PC'][0][0][0][p][0][k] for k in range(0,nrSpikesPC) \n",
    "                                    if (SpikeTimes['SpikeTimes']['PC'][0][0][0][p][0][k]>=(start_t/1e3) \n",
    "                                        and SpikeTimes['SpikeTimes']['PC'][0][0][0][p][0][k]<=(lengthSim/(2*1e3)))])\n",
    "    setattr(SpikeTimes_s, AA_PCnr, [SpikeTimes['SpikeTimes']['PC'][0][0][0][p][0][k] for k in range(0,nrSpikesPC) \n",
    "                                    if SpikeTimes['SpikeTimes']['PC'][0][0][0][p][0][k]>=(t_beforeAdaptation/1e3)])\n",
    "for p in range(0,nrDCN):\n",
    "    nr = str(p)\n",
    "    DCNnr = \"DCN\" + nr\n",
    "    BA_DCNnr = 'DCN_BA' + nr\n",
    "    AA_DCNnr = 'DCN_AA'+ nr\n",
    "    nrSpikesDCN = SpikeTimes['SpikeTimes']['DCN'][0][0][0][p][0].shape[0]\n",
    "    setattr(SpikeTimes_s, DCNnr, [SpikeTimes['SpikeTimes']['DCN'][0][0][0][p][0][k] for k in range(0,nrSpikesDCN) \n",
    "                                  if SpikeTimes['SpikeTimes']['DCN'][0][0][0][p][0][k]>=(start_t/1e3)])\n",
    "    setattr(SpikeTimes_s, BA_DCNnr, [SpikeTimes['SpikeTimes']['DCN'][0][0][0][p][0][k] for k in range(0,nrSpikesDCN) \n",
    "                                    if (SpikeTimes['SpikeTimes']['DCN'][0][0][0][p][0][k]>=(start_t/1e3) \n",
    "                                        and SpikeTimes['SpikeTimes']['DCN'][0][0][0][p][0][k]<=(lengthSim/(2*1e3)))])\n",
    "    setattr(SpikeTimes_s, AA_DCNnr, [SpikeTimes['SpikeTimes']['DCN'][0][0][0][p][0][k] for k in range(0,nrSpikesDCN) \n",
    "                                    if SpikeTimes['SpikeTimes']['DCN'][0][0][0][p][0][k]>=(t_beforeAdaptation/1e3)])\n",
    "\n",
    "for p in range(0,nrIO):\n",
    "    nr = str(p)\n",
    "    IOnr = \"IO\" + nr\n",
    "    BA_IOnr = 'IO_BA' + nr\n",
    "    AA_IOnr = 'IO_AA'+ nr\n",
    "    findspikes, _ = find_peaks(VoltCell['VoltCell']['IOsoma'][0][0][p], height=0.0, distance = 10)\n",
    "    findspikes = findspikes/1000\n",
    "    nrSpikesIO = len(findspikes)\n",
    "    setattr(SpikeTimes_s, IOnr, [findspikes[k] for k in range(0,nrSpikesIO)\n",
    "                                 if findspikes[k]>=(start_t/1e3)])\n",
    "    setattr(SpikeTimes_s, BA_IOnr, [findspikes[k] for k in range(0,nrSpikesIO) \n",
    "                                    if (findspikes[k]>=(start_t/1e3) and findspikes[k]<=(lengthSim/(2*1e3)))])\n",
    "    setattr(SpikeTimes_s, AA_IOnr, [findspikes[k] for k in range(0,nrSpikesIO) \n",
    "                                    if findspikes[k]>=(t_beforeAdaptation/1e3)])\n",
    "    "
   ]
  },
  {
   "cell_type": "code",
   "execution_count": null,
   "metadata": {},
   "outputs": [],
   "source": []
  },
  {
   "cell_type": "code",
   "execution_count": null,
   "metadata": {},
   "outputs": [],
   "source": []
  }
 ],
 "metadata": {
  "kernelspec": {
   "display_name": "Python 3",
   "language": "python",
   "name": "python3"
  },
  "language_info": {
   "codemirror_mode": {
    "name": "ipython",
    "version": 3
   },
   "file_extension": ".py",
   "mimetype": "text/x-python",
   "name": "python",
   "nbconvert_exporter": "python",
   "pygments_lexer": "ipython3",
   "version": "3.6.7"
  }
 },
 "nbformat": 4,
 "nbformat_minor": 2
}
