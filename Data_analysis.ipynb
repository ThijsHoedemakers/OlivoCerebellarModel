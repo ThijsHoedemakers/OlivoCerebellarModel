{
 "cells": [
  {
   "cell_type": "markdown",
   "metadata": {},
   "source": [
    "# Data Analysis of Olivocerebellar Model\n",
    "\n",
    "## Table of Contents\n",
    "### 1. Import All\n",
    "    1. Import packages\n",
    "    2. Import data of simulations\n",
    "### 2. Split Data - Before/After Adaptation\n",
    "### 3. Purkinje Cell \n",
    "    1. Input current\n",
    "    2. \n",
    "### 4. Inferior Olive\n",
    "    1.\n",
    "### 5. Correlations/Delays\n",
    "    1. IO - IO \n",
    "### 6. Complex Spike Analysis\n",
    "    1. PC current input\n",
    "    2. Voltage of IO cell\n",
    "    "
   ]
  },
  {
   "cell_type": "markdown",
   "metadata": {},
   "source": [
    "## 1. Import All"
   ]
  },
  {
   "cell_type": "code",
   "execution_count": 2,
   "metadata": {
    "scrolled": true
   },
   "outputs": [
    {
     "name": "stdout",
     "output_type": "stream",
     "text": [
      "5\n"
     ]
    }
   ],
   "source": [
    "# 1.1) Import packages\n",
    "import numpy as np\n",
    "from importlib import reload\n",
    "from brian2 import*\n",
    "import pickle\n",
    "import NeuroTools as nt\n",
    "from NeuroTools import signals, analysis\n",
    "import matplotlib.pyplot as plt\n",
    "from scipy.signal import find_peaks\n",
    "import scipy.io as sio\n",
    "import seaborn as sns\n",
    "#import plotpy.express as px\n",
    "\n",
    "# Import and reload my helpers module for iterative development\n",
    "import helpers\n",
    "reload(helpers)\n",
    "from helpers.Function_DataAnalysis import *\n",
    "\n",
    "# default dict. to assign values\n",
    "from collections import defaultdict\n",
    "\n",
    "with open('PV.pickle', 'rb') as par:\n",
    "    PV = pickle.load(par)\n",
    "with open('SpikeTimes.pickle', 'rb') as st:\n",
    "    SpikeTimes = pickle.load(st)\n",
    "with open('VoltCell.pickle', 'rb') as vc:\n",
    "    VoltCell = pickle.load(vc)\n",
    "with open('Input.pickle', 'rb') as inp:\n",
    "    Input = pickle.load(inp)\n",
    "#print(PV['a_PC'][1])\n",
    "# 1.2) Import data of simulations\n",
    "#nameInput = 'InputDS_5Diff'\n",
    "#name_simparam = nameInput + '_SimParams'\n",
    "#name_VoltCell = nameInput + '_VoltageCell'\n",
    "#name_SpikeT = nameInput + '_SpikeTimes'\n",
    "#name_PV = nameInput + '_PlasticityVariables'\n",
    "#name_Input = nameInput + 'AfterSim'\n",
    "\n",
    "#SimParam = sio.loadmat(name_simparam)\n",
    "#VoltCell = sio.loadmat(name_VoltCell)\n",
    "#SpikeTimes = sio.loadmat(name_SpikeT)\n",
    "#PlasticityVar = sio.loadmat(name_PV)\n",
    "#Input = sio.loadmat(name_Input)\n",
    "print(len(Input['I']))"
   ]
  },
  {
   "cell_type": "markdown",
   "metadata": {},
   "source": [
    "## 2. Split Data - Before/After Adaptation"
   ]
  },
  {
   "cell_type": "code",
   "execution_count": 3,
   "metadata": {
    "scrolled": true
   },
   "outputs": [
    {
     "name": "stdout",
     "output_type": "stream",
     "text": [
      "5\n",
      "1000 2500\n",
      "[  0.         -41.41747363 -37.26194434 ... -69.19286457 -69.15085039\n",
      " -69.12014426] mV\n",
      "[array([1.026, 1.221, 1.417, 1.612, 1.808, 2.004, 2.199, 2.394]), array([1.019, 1.214, 1.41 , 1.606, 1.801, 1.997, 2.192, 2.386]), array([1.019, 1.214, 1.41 , 1.606, 1.801, 1.997, 2.192, 2.387]), array([1.186, 1.381, 1.574, 1.767, 1.96 , 2.153, 2.346]), array([1.01 , 1.205, 1.4  , 1.596, 1.791, 1.987, 2.181, 2.375]), array([1.176, 1.369, 1.562, 1.755, 1.948, 2.142, 2.336]), array([1.015, 1.21 , 1.405, 1.601, 1.796, 1.992, 2.187, 2.381]), array([1.005, 1.2  , 1.396, 1.591, 1.786, 1.982, 2.175, 2.369]), array([1.016, 1.21 , 1.406, 1.601, 1.796, 1.992, 2.186, 2.381]), array([1.022, 1.217, 1.413, 1.608, 1.803, 2.   , 2.195, 2.39 ]), array([1.004, 1.198, 1.393, 1.588, 1.783, 1.978, 2.171, 2.363]), array([1.013, 1.208, 1.403, 1.598, 1.793, 1.989, 2.183, 2.377]), array([1.001, 1.196, 1.391, 1.585, 1.779, 1.974, 2.166, 2.359]), array([1.02 , 1.215, 1.411, 1.606, 1.801, 1.998, 2.192, 2.387]), array([1.011, 1.207, 1.403, 1.599, 1.795, 1.991, 2.185, 2.38 ]), array([1.006, 1.201, 1.396, 1.592, 1.787, 1.982, 2.176, 2.369]), array([1.013, 1.208, 1.404, 1.6  , 1.795, 1.991, 2.185, 2.38 ]), array([1.187, 1.383, 1.578, 1.772, 1.966, 2.159, 2.351]), array([1.02 , 1.216, 1.411, 1.607, 1.802, 1.998, 2.193, 2.388]), array([1.195, 1.391, 1.587, 1.782, 1.977, 2.171, 2.364])]\n"
     ]
    }
   ],
   "source": [
    "# 2) Split Data - before/after adaptation    \n",
    "\n",
    "# before = start_t:t_beforeAdaptation\n",
    "# after = t_beforeAdaptaion:end\n",
    "# indicated by BA (BeforeAdaptation) and AA (AfterAdaptation) accordingly\n",
    "\n",
    "\n",
    "start = 1000 # remove first second of data due to transient\n",
    "t_beforeAdaptation = int(len(Input['I'][1])/2)\n",
    "\n",
    "\n",
    "#int(len(Input['Input']['I'][0][0][0])/2) # halfway the simulation\n",
    "nrInputs=Input['I'].shape[0] # number of inputs\n",
    "print(nrInputs)\n",
    "nrPC = VoltCell['PC'].shape[0]\n",
    "nrDCN = VoltCell['DCN'].shape[0]\n",
    "nrIO = VoltCell['IOsoma'].shape[0]\n",
    "nrDummy = nrPC*nrInputs\n",
    "lengthSim =VoltCell['PC'].shape[1]\n",
    "print(start,t_beforeAdaptation)\n",
    "BeforeAdaptation = {}\n",
    "# Input to the system\n",
    "Input_BA = Slicing(Input, t_start=start, t_end=t_beforeAdaptation)\n",
    "Input_AA = Slicing(Input, t_start=t_beforeAdaptation)\n",
    "\n",
    "# Voltages of Cells\n",
    "VoltCell_BA = Slicing(VoltCell, t_start=start, t_end=t_beforeAdaptation)\n",
    "VoltCell_AA = Slicing(VoltCell, t_start=t_beforeAdaptation)\n",
    "print(VoltCell['IOsoma'][1])\n",
    "for k in range(0,nrIO):\n",
    "    #IOnr = 'IO'+str(k)\n",
    "    findspikes, _ = find_peaks(VoltCell['IOsoma'][k], height=0.0, distance = 10) \n",
    "    findspikes = findspikes/1000\n",
    "    SpikeTimes['IO'][k]=findspikes\n",
    "# Slicing spike times\n",
    "SpikeTimes_BA = SlicingSpikes(SpikeTimes, t_start=start/1e3, t_end=t_beforeAdaptation/1e3)\n",
    "SpikeTimes_AA = SlicingSpikes(SpikeTimes, t_start=t_beforeAdaptation/1e3)\n",
    "#findspikes, _ = find_peaks(VoltCell['VoltCell']['IOsoma'][0][0][p], height=0.0, distance = 10)\n",
    "#findspikes = findspikes/1000\n",
    "print(SpikeTimes_BA['IO'])"
   ]
  },
  {
   "cell_type": "markdown",
   "metadata": {},
   "source": [
    "### 3. Purkinje Cell"
   ]
  },
  {
   "cell_type": "code",
   "execution_count": 4,
   "metadata": {
    "scrolled": true
   },
   "outputs": [],
   "source": [
    "# 3.1 Input current \n",
    "\n",
    "InputCurrentPC_BA={}\n",
    "InputCurrentPC_AA={}\n",
    "\n",
    "for i in range(0,nrPC):\n",
    "    # Create names for the inputs\n",
    "    nameBA='PC'+str(i) + 'BA'\n",
    "    nameAA='PC'+str(i) + 'AA'\n",
    "\n",
    "    totBA = nameBA + 'total'\n",
    "    totAA = nameAA + 'total'\n",
    "    # Connectivity between PC-dummy\n",
    "    steps =np.arange(i,nrDummy,nrPC)\n",
    "    # Multiply the current times the weight\n",
    "    currentBA = [Input_BA['I'][k]*Input_BA['nweight'][steps[k]] for k in range(0,len(steps))]\n",
    "    currentAA = [Input_AA['I'][k]*Input_AA['nweight'][steps[k]] for k in range(0,len(steps))]\n",
    "    #[Input_s.nweight_BA[steps[k]]*Input_s.I_BA[k] for k in range(0,len(steps))]\n",
    "    #print(steps[1])\n",
    "    #print(size(Input_s.nweight_BA[0]))\n",
    "    #print(size(current))\n",
    "    # Sum over the column to get the total amount of current\n",
    "    summedcurrentBA = sum(currentBA, axis=0)\n",
    "    summedcurrentAA = sum(currentAA, axis=0)\n",
    "    \n",
    "    InputCurrentPC_BA[nameBA] = currentBA\n",
    "    InputCurrentPC_AA[nameAA] = currentAA\n",
    "    InputCurrentPC_BA[totBA] = summedcurrentBA\n",
    "    InputCurrentPC_AA[totAA] = summedcurrentAA\n",
    "\n"
   ]
  },
  {
   "cell_type": "markdown",
   "metadata": {},
   "source": [
    "### 5. Correlations"
   ]
  },
  {
   "cell_type": "code",
   "execution_count": 5,
   "metadata": {
    "scrolled": true
   },
   "outputs": [
    {
     "data": {
      "image/png": "[encoded data removed]",
      "text/plain": [
       "<Figure size 432x288 with 2 Axes>"
      ]
     },
     "metadata": {
      "needs_background": "light"
     },
     "output_type": "display_data"
    },
    {
     "data": {
      "image/png": "[encoded data removed]",
      "text/plain": [
       "<Figure size 432x288 with 2 Axes>"
      ]
     },
     "metadata": {
      "needs_background": "light"
     },
     "output_type": "display_data"
    },
    {
     "data": {
      "image/png": "[encoded data removed]",
      "text/plain": [
       "<Figure size 432x288 with 2 Axes>"
      ]
     },
     "metadata": {
      "needs_background": "light"
     },
     "output_type": "display_data"
    },
    {
     "data": {
      "image/png": "[encoded data removed]",
      "text/plain": [
       "<Figure size 432x288 with 2 Axes>"
      ]
     },
     "metadata": {
      "needs_background": "light"
     },
     "output_type": "display_data"
    },
    {
     "data": {
      "image/png": "[encoded data removed]",
      "text/plain": [
       "<Figure size 432x288 with 2 Axes>"
      ]
     },
     "metadata": {
      "needs_background": "light"
     },
     "output_type": "display_data"
    }
   ],
   "source": [
    "delayIO_BA = np.empty([nrIO,nrIO])\n",
    "delayIO_AA = np.empty([nrIO,nrIO])\n",
    "diffDelay = np.empty([nrIO,nrIO])\n",
    "for i in range(0,nrIO):\n",
    "    # Correlation Before Adapatation\n",
    "    corr_BA=[correlate(VoltCell_BA['IOsoma'][i],VoltCell_BA['IOsoma'][k],'full') for k in range(0,nrIO)]\n",
    "    corr_AA=[correlate(VoltCell_AA['IOsoma'][i],VoltCell_AA['IOsoma'][k],'full') for k in range(0,nrIO)]\n",
    "    #print(corr_BA)\n",
    "    #print(len(VoltCell_s.IOsoma_AA[i]))\n",
    "    #lagIO_BA=numpy.where(corr_BA[i] == numpy.amax(corr_BA[i]))\n",
    "    \n",
    "    lagTotal_BA = [corr_BA[k].argmax()-len(VoltCell_BA['IOsoma'][i])-1 for k in range(0,nrIO)]\n",
    "    lagTotal_AA = [corr_AA[k].argmax()-len(VoltCell_AA['IOsoma'][i])-1 for k in range(0,nrIO)]\n",
    "    #print(lagTotal_AA)\n",
    "    #lagTotal_BA = asarray([(asarray(lagRest_BA[k][0])-asarray(lagIO_BA[0][0])) for k in range(0,nrIO)])\n",
    "    #lagTotal_BA = lagTotal_BA.reshape(nrIO)\n",
    "    #print(lagIO_BA)\n",
    "#print(lagRest_BA)\n",
    "#print(lagTotal_BA)\n",
    "    #lagIO_AA=numpy.where(corr_AA[i] == numpy.amax(corr_AA[i]))\n",
    "    #lagRest_AA = [numpy.where(corr_AA[k] == numpy.amax(corr_AA[k])) for k in range(0,nrIO)]\n",
    "    #lagTotal_AA = asarray([(asarray(lagRest_AA[k][0])-asarray(lagIO_AA[0][0])) for k in range(0,nrIO)])\n",
    "    #lagTotal_AA = lagTotal_AA.reshape(nrIO)\n",
    "\n",
    "    delayIO_BA[i] = lagTotal_BA\n",
    "    delayIO_AA[i] = lagTotal_AA\n",
    "    \n",
    "    if i==0:\n",
    "        plt.subplot(121)\n",
    "        for l in range(0,nrIO):\n",
    "            plt.plot(transpose(corr_BA))\n",
    "        #print(len(corr_A[0]))\n",
    "        #print(len(corr_BA))\n",
    "        plt.title('Correlation IO cell 1 with the others')\n",
    "        plt.xlabel('data points')\n",
    "        plt.ylabel('level of correlation')\n",
    "        ax1=plt.subplot(122)\n",
    "        for l in range(0,nrIO):\n",
    "            plt.plot(transpose(corr_BA))\n",
    "        ax1.set_xlim([corr_BA[i].argmax()-100, corr_BA[i].argmax()+100])\n",
    "        #ax1.set_ylim([5,7])\n",
    "        plt.show()\n",
    "        plt.subplot(121)\n",
    "        for l in range(0,nrIO):\n",
    "            plt.plot(transpose(corr_AA))\n",
    "        #print(len(corr_A[0]))\n",
    "        #print(len(corr_BA))\n",
    "        plt.title('Correlation IO cell 1 with the others')\n",
    "        plt.xlabel('data points')\n",
    "        plt.ylabel('level of correlation')\n",
    "        ax1=plt.subplot(122)\n",
    "        for l in range(0,nrIO):\n",
    "            plt.plot(transpose(corr_AA))\n",
    "        ax1.set_xlim([corr_AA[i].argmax()-100, corr_AA[i].argmax()+100])\n",
    "        #ax1.set_ylim([1,3])       \n",
    "            \n",
    "            \n",
    "    #print(lagTotal_AA[:])\n",
    "\n",
    "    diffDelay[i] = abs(asarray(lagTotal_AA)-asarray(lagTotal_BA))\n",
    "\n",
    "\n",
    "figure()\n",
    "ax = sns.heatmap(delayIO_BA, center=0,cmap='jet',linewidths=.5)\n",
    "\n",
    "figure()\n",
    "sx = sns.heatmap(delayIO_AA, center=0, cmap='jet', linewidths=.5)\n",
    "\n",
    "figure()\n",
    "df = sns.heatmap(diffDelay,center=0, cmap='jet', linewidths=.5)\n"
   ]
  },
  {
   "cell_type": "markdown",
   "metadata": {},
   "source": [
    "### 6. Complex Spike Analysis"
   ]
  },
  {
   "cell_type": "code",
   "execution_count": 59,
   "metadata": {
    "scrolled": true
   },
   "outputs": [
    {
     "name": "stdout",
     "output_type": "stream",
     "text": [
      "0.15\n",
      "i= 0\n",
      "not full time - to close to beginning\n",
      "i= 1\n",
      "i= 2\n",
      "i= 3\n",
      "i= 4\n",
      "i= 5\n",
      "i= 6\n",
      "i= 7\n",
      "i= 0\n",
      "not full time - to close to beginning\n",
      "i= 1\n",
      "i= 2\n",
      "i= 3\n",
      "i= 4\n",
      "i= 5\n",
      "i= 6\n",
      "i= 7\n",
      "i= 0\n",
      "not full time - to close to beginning\n",
      "i= 1\n",
      "i= 2\n",
      "i= 3\n",
      "i= 4\n",
      "i= 5\n",
      "i= 6\n",
      "i= 7\n",
      "i= 0\n",
      "i= 1\n",
      "i= 2\n",
      "i= 3\n",
      "i= 4\n",
      "i= 5\n",
      "i= 6\n",
      "i= 0\n",
      "not full time - to close to beginning\n",
      "i= 1\n",
      "i= 2\n",
      "i= 3\n",
      "i= 4\n",
      "i= 5\n",
      "i= 6\n",
      "i= 7\n",
      "i= 0\n",
      "not full time - to close to beginning\n",
      "i= 1\n",
      "i= 2\n",
      "i= 3\n",
      "i= 4\n",
      "i= 5\n",
      "i= 6\n",
      "i= 7\n",
      "i= 0\n",
      "i= 1\n",
      "i= 2\n",
      "i= 3\n",
      "i= 4\n",
      "i= 5\n",
      "i= 6\n",
      "i= 0\n",
      "not full time - to close to beginning\n",
      "i= 1\n",
      "i= 2\n",
      "i= 3\n",
      "i= 4\n",
      "i= 5\n",
      "i= 6\n",
      "i= 7\n",
      "i= 0\n",
      "not full time - to close to beginning\n",
      "i= 1\n",
      "i= 2\n",
      "i= 3\n",
      "i= 4\n",
      "i= 5\n",
      "i= 6\n",
      "i= 7\n",
      "i= 0\n",
      "not full time - to close to beginning\n",
      "i= 1\n",
      "i= 2\n",
      "i= 3\n",
      "i= 4\n",
      "i= 5\n",
      "i= 6\n",
      "i= 7\n",
      "200\n",
      "[[ 5.95694485e-10  5.74375886e-10  5.48014861e-10 ... -6.12843126e-10\n",
      "  -6.35120076e-10 -6.57352923e-10]]\n"
     ]
    }
   ],
   "source": [
    "# 6.1 Input Current Purkinje Cell\n",
    "# Get the current that the Purkinje cell sees 150 ms before and 50 ms after\n",
    "# a complex spike of the connected Inferior Olive\n",
    "\n",
    "# The IO cells that are connected to the Purkinje cells. \n",
    "# Position 1 of the vector corresponds to PC1, 2 to PC2 etc.\n",
    "connectionVectorIO = [9,10, 18, 17, 0, 6, 5, 12, 16, 11]\n",
    "\n",
    "IOdummyConn = [9, 10, 18, 17, 0, 6, 5, 12, 16, 11, 9, 10, 18, 17, 0, 6, 5, 12, 16, 11, 9, 10, 18, 17, 0, 6, 5, 12, 16, 11, 9, 10, 18, 17, 0, 6, 5, 12, 16, 11, 9, 10, 18, 17, 0, 6, 5, 12, 16, 11]\n",
    "\n",
    "time_before_spike = 150e-3\n",
    "time_after_spike = 50e-3\n",
    "CS_currentPC=defaultdict(dict)\n",
    "meancur=np.zeros()\n",
    "print(time_before_spike)\n",
    "for jj in range(0,nrPC):\n",
    "    p=1\n",
    "    strpc = str(jj)\n",
    "    strp = str(connectionVectorIO[jj])\n",
    "    ionr = 'BA_IO'+strp\n",
    "    pcnr = 'PC'+strpc+'BAtotal'\n",
    "    #SpikesIO = SpikeTimes_s.ionr\n",
    "    InputCurr = InputCurrentPC_BA[pcnr]\n",
    "    CS = SpikeTimes_BA['IO'][connectionVectorIO[jj]]\n",
    "    #print(len(InputCurr))\n",
    "    testar=[]\n",
    "    for ii in range(0,len(CS)):\n",
    "        print('i=',ii)\n",
    "        #print('spike io time',CS[ii])\n",
    "        begin_analysis = int(((CS[ii]-time_before_spike)/1e-3 - 1000))\n",
    "        end_analysis = int(min( round((CS[ii]+time_after_spike)/1e-3),\n",
    "                        len(InputCurr)+1000)-1000)\n",
    "        #print(begin_analysis,end_analysis)\n",
    "        \n",
    "        if (end_analysis-abs(begin_analysis))>=199 :\n",
    "            CS_currentPC[ionr][ii] = InputCurr[begin_analysis:end_analysis]\n",
    "            meancur= np.append(meancur,[InputCurr[begin_analysis:end_analysis]],axis=1)\n",
    "        else: \n",
    "                print('not full time - to close to beginning')\n",
    "    \n",
    "\n",
    "#x=[mean(CS_currentPC[1])  \n",
    "\n",
    "print(len(CS_currentPC['BA_IO9'][1]))\n",
    "\n",
    "print(meancur)\n",
    "    "
   ]
  },
  {
   "cell_type": "code",
   "execution_count": null,
   "metadata": {},
   "outputs": [],
   "source": []
  },
  {
   "cell_type": "code",
   "execution_count": null,
   "metadata": {},
   "outputs": [],
   "source": [
    "food = 'bread'\n",
    "\n",
    "vars()[food] = 123\n",
    "print(vars())\n",
    "print(bread)  # --> 123"
   ]
  },
  {
   "cell_type": "code",
   "execution_count": null,
   "metadata": {},
   "outputs": [],
   "source": [
    "import pickle\n",
    "\n",
    "# An arbitrary collection of objects supported by pickle.\n",
    "data = {\n",
    "    'a': [1, 2.0, 3, 4+6j],\n",
    "    'b': (\"character string\", b\"byte string\"),\n",
    "    'c': {None, True, False},\n",
    "    'd': [[1,2],[2,4],[3,9]]\n",
    "}\n",
    "\n",
    "with open('data.pickle', 'wb') as f:\n",
    "    # Pickle the 'data' dictionary using the highest protocol available.\n",
    "    pickle.dump(data, f, pickle.HIGHEST_PROTOCOL)\n",
    "print(data)"
   ]
  },
  {
   "cell_type": "code",
   "execution_count": null,
   "metadata": {},
   "outputs": [],
   "source": [
    "with open('data.pickle', 'rb') as f:\n",
    "    # The protocol version used is detected automatically, so we do not\n",
    "    # have to specify it.\n",
    "    data = pickle.load(f)\n",
    "print(data['d'][1])"
   ]
  },
  {
   "cell_type": "code",
   "execution_count": null,
   "metadata": {},
   "outputs": [],
   "source": [
    "size(VoltCell_AA['IOsoma'][1])+100\n",
    "corr_BA=[correlate(VoltCell_BA['IOsoma'][0],VoltCell_BA['IOsoma'][k],'full') for k in range(0,nrIO)]"
   ]
  },
  {
   "cell_type": "code",
   "execution_count": null,
   "metadata": {},
   "outputs": [],
   "source": []
  }
 ],
 "metadata": {
  "kernelspec": {
   "display_name": "Python 3",
   "language": "python",
   "name": "python3"
  },
  "language_info": {
   "codemirror_mode": {
    "name": "ipython",
    "version": 3
   },
   "file_extension": ".py",
   "mimetype": "text/x-python",
   "name": "python",
   "nbconvert_exporter": "python",
   "pygments_lexer": "ipython3",
   "version": "3.6.7"
  }
 },
 "nbformat": 4,
 "nbformat_minor": 2
}
